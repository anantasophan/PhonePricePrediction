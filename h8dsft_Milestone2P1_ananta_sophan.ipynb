{
  "nbformat": 4,
  "nbformat_minor": 0,
  "metadata": {
    "colab": {
      "provenance": [],
      "toc_visible": true
    },
    "kernelspec": {
      "name": "python3",
      "display_name": "Python 3"
    },
    "language_info": {
      "name": "python"
    }
  },
  "cells": [
    {
      "cell_type": "markdown",
      "source": [
        "## Ananta Faadillah Sophan\n",
        "## Milestone 2 \n",
        "## Phase 1-Batch HCK-002\n",
        "\n"
      ],
      "metadata": {
        "id": "ejU_O6UacwUS"
      }
    },
    {
      "cell_type": "markdown",
      "source": [
        "#Problem Statement\n",
        "Memprediksi Harga Handphone sesuai dengan spesifikasi Handphone yang diinginkan oleh seorang Customer"
      ],
      "metadata": {
        "id": "xc9bPvCNqaKk"
      }
    },
    {
      "cell_type": "markdown",
      "source": [
        "## Import Libraries"
      ],
      "metadata": {
        "id": "IPyPR_EwJvRd"
      }
    },
    {
      "cell_type": "markdown",
      "source": [
        "Import Library yang dibutuhkan"
      ],
      "metadata": {
        "id": "liMlU305w-MU"
      }
    },
    {
      "cell_type": "code",
      "execution_count": null,
      "metadata": {
        "colab": {
          "base_uri": "https://localhost:8080/"
        },
        "id": "2W4_bzpVJor3",
        "outputId": "bbb086f5-cd6e-42ba-c7f4-4240023dc17f"
      },
      "outputs": [
        {
          "output_type": "stream",
          "name": "stdout",
          "text": [
            "Looking in indexes: https://pypi.org/simple, https://us-python.pkg.dev/colab-wheels/public/simple/\n",
            "Requirement already satisfied: feature_engine in /usr/local/lib/python3.7/dist-packages (1.4.0)\n",
            "Requirement already satisfied: scipy>=1.4.1 in /usr/local/lib/python3.7/dist-packages (from feature_engine) (1.7.3)\n",
            "Requirement already satisfied: statsmodels>=0.11.1 in /usr/local/lib/python3.7/dist-packages (from feature_engine) (0.12.2)\n",
            "Requirement already satisfied: numpy>=1.18.2 in /usr/local/lib/python3.7/dist-packages (from feature_engine) (1.21.6)\n",
            "Requirement already satisfied: pandas>=1.0.3 in /usr/local/lib/python3.7/dist-packages (from feature_engine) (1.3.5)\n",
            "Requirement already satisfied: scikit-learn>=1.0.0 in /usr/local/lib/python3.7/dist-packages (from feature_engine) (1.0.2)\n",
            "Requirement already satisfied: pytz>=2017.3 in /usr/local/lib/python3.7/dist-packages (from pandas>=1.0.3->feature_engine) (2022.6)\n",
            "Requirement already satisfied: python-dateutil>=2.7.3 in /usr/local/lib/python3.7/dist-packages (from pandas>=1.0.3->feature_engine) (2.8.2)\n",
            "Requirement already satisfied: six>=1.5 in /usr/local/lib/python3.7/dist-packages (from python-dateutil>=2.7.3->pandas>=1.0.3->feature_engine) (1.15.0)\n",
            "Requirement already satisfied: threadpoolctl>=2.0.0 in /usr/local/lib/python3.7/dist-packages (from scikit-learn>=1.0.0->feature_engine) (3.1.0)\n",
            "Requirement already satisfied: joblib>=0.11 in /usr/local/lib/python3.7/dist-packages (from scikit-learn>=1.0.0->feature_engine) (1.2.0)\n",
            "Requirement already satisfied: patsy>=0.5 in /usr/local/lib/python3.7/dist-packages (from statsmodels>=0.11.1->feature_engine) (0.5.3)\n"
          ]
        }
      ],
      "source": [
        "!pip install feature_engine"
      ]
    },
    {
      "cell_type": "code",
      "source": [
        "import pandas as pd\n",
        "import numpy as np\n",
        "import seaborn as sns\n",
        "import matplotlib.pyplot as plt\n",
        "import warnings\n",
        "import pickle\n",
        "warnings.filterwarnings('ignore')\n",
        "\n",
        "from scipy import stats\n",
        "from sklearn import set_config\n",
        "from sklearn.model_selection import train_test_split,GridSearchCV,cross_val_score\n",
        "from feature_engine.outliers import Winsorizer\n",
        "from sklearn.linear_model import LinearRegression,Ridge\n",
        "from sklearn.tree import DecisionTreeRegressor\n",
        "from sklearn.ensemble import RandomForestRegressor\n",
        "from sklearn.neighbors import KNeighborsRegressor\n",
        "from sklearn.metrics import mean_absolute_error, r2_score,mean_squared_error\n",
        "from sklearn.preprocessing import MinMaxScaler, OneHotEncoder, OrdinalEncoder\n",
        "from sklearn.pipeline import Pipeline\n",
        "from sklearn.compose import ColumnTransformer\n",
        "from plotly.subplots import make_subplots\n",
        "import plotly.graph_objects as go"
      ],
      "metadata": {
        "id": "3vEusdr20IYj"
      },
      "execution_count": 104,
      "outputs": []
    },
    {
      "cell_type": "code",
      "source": [
        "import sklearn\n",
        "sklearn.__version__"
      ],
      "metadata": {
        "colab": {
          "base_uri": "https://localhost:8080/",
          "height": 35
        },
        "id": "aBBrxoxoTDWW",
        "outputId": "7ccadabc-a67c-4290-cb14-800b7ab9f5ea"
      },
      "execution_count": 137,
      "outputs": [
        {
          "output_type": "execute_result",
          "data": {
            "text/plain": [
              "'1.0.2'"
            ],
            "application/vnd.google.colaboratory.intrinsic+json": {
              "type": "string"
            }
          },
          "metadata": {},
          "execution_count": 137
        }
      ]
    },
    {
      "cell_type": "code",
      "source": [
        "import feature_engine\n",
        "feature_engine.__version__"
      ],
      "metadata": {
        "colab": {
          "base_uri": "https://localhost:8080/",
          "height": 35
        },
        "id": "8PPNUpqNTTVb",
        "outputId": "cc6e0249-8b9f-4eda-c7b9-ab93596c4f2a"
      },
      "execution_count": 138,
      "outputs": [
        {
          "output_type": "execute_result",
          "data": {
            "text/plain": [
              "'1.4.0'"
            ],
            "application/vnd.google.colaboratory.intrinsic+json": {
              "type": "string"
            }
          },
          "metadata": {},
          "execution_count": 138
        }
      ]
    },
    {
      "cell_type": "markdown",
      "source": [
        "## Data Loading"
      ],
      "metadata": {
        "id": "DxzNjWpXJzPM"
      }
    },
    {
      "cell_type": "markdown",
      "source": [
        "Import Dataset yang dibutuhkan dan melakukan sedikit Overview data"
      ],
      "metadata": {
        "id": "TWuzm9tVxC3-"
      }
    },
    {
      "cell_type": "code",
      "source": [
        "df = pd.read_csv('/content/ndtv_data_final.csv')"
      ],
      "metadata": {
        "id": "YvNVYZHiJrQ2"
      },
      "execution_count": null,
      "outputs": []
    },
    {
      "cell_type": "code",
      "source": [
        "df.head()"
      ],
      "metadata": {
        "colab": {
          "base_uri": "https://localhost:8080/",
          "height": 418
        },
        "id": "02YTxhcnUwxL",
        "outputId": "63d6af7d-5289-4316-a54d-97a00bb09b13"
      },
      "execution_count": null,
      "outputs": [
        {
          "output_type": "execute_result",
          "data": {
            "text/plain": [
              "   Unnamed: 0                            Name    Brand  \\\n",
              "0           0  OnePlus 7T Pro McLaren Edition  OnePlus   \n",
              "1           1                   Realme X2 Pro   Realme   \n",
              "2           2               iPhone 11 Pro Max    Apple   \n",
              "3           3                       iPhone 11    Apple   \n",
              "4           4                    LG G8X ThinQ       LG   \n",
              "\n",
              "                    Model  Battery capacity (mAh)  Screen size (inches)  \\\n",
              "0  7T Pro McLaren Edition                    4085                  6.67   \n",
              "1                  X2 Pro                    4000                  6.50   \n",
              "2       iPhone 11 Pro Max                    3969                  6.50   \n",
              "3               iPhone 11                    3110                  6.10   \n",
              "4               G8X ThinQ                    4000                  6.40   \n",
              "\n",
              "  Touchscreen  Resolution x  Resolution y  Processor  ...  Rear camera  \\\n",
              "0         Yes          1440          3120          8  ...         48.0   \n",
              "1         Yes          1080          2400          8  ...         64.0   \n",
              "2         Yes          1242          2688          6  ...         12.0   \n",
              "3         Yes           828          1792          6  ...         12.0   \n",
              "4         Yes          1080          2340          8  ...         12.0   \n",
              "\n",
              "   Front camera  Operating system  Wi-Fi Bluetooth  GPS Number of SIMs   3G  \\\n",
              "0          16.0           Android    Yes       Yes  Yes              2  Yes   \n",
              "1          16.0           Android    Yes       Yes  Yes              2  Yes   \n",
              "2          12.0               iOS    Yes       Yes  Yes              2  Yes   \n",
              "3          12.0               iOS    Yes       Yes  Yes              2  Yes   \n",
              "4          32.0           Android    Yes       Yes  Yes              1   No   \n",
              "\n",
              "   4G/ LTE   Price  \n",
              "0      Yes   58998  \n",
              "1      Yes   27999  \n",
              "2      Yes  106900  \n",
              "3      Yes   62900  \n",
              "4       No   49990  \n",
              "\n",
              "[5 rows x 22 columns]"
            ],
            "text/html": [
              "\n",
              "  <div id=\"df-76b7d132-5860-4424-a2e1-524ba36fab3f\">\n",
              "    <div class=\"colab-df-container\">\n",
              "      <div>\n",
              "<style scoped>\n",
              "    .dataframe tbody tr th:only-of-type {\n",
              "        vertical-align: middle;\n",
              "    }\n",
              "\n",
              "    .dataframe tbody tr th {\n",
              "        vertical-align: top;\n",
              "    }\n",
              "\n",
              "    .dataframe thead th {\n",
              "        text-align: right;\n",
              "    }\n",
              "</style>\n",
              "<table border=\"1\" class=\"dataframe\">\n",
              "  <thead>\n",
              "    <tr style=\"text-align: right;\">\n",
              "      <th></th>\n",
              "      <th>Unnamed: 0</th>\n",
              "      <th>Name</th>\n",
              "      <th>Brand</th>\n",
              "      <th>Model</th>\n",
              "      <th>Battery capacity (mAh)</th>\n",
              "      <th>Screen size (inches)</th>\n",
              "      <th>Touchscreen</th>\n",
              "      <th>Resolution x</th>\n",
              "      <th>Resolution y</th>\n",
              "      <th>Processor</th>\n",
              "      <th>...</th>\n",
              "      <th>Rear camera</th>\n",
              "      <th>Front camera</th>\n",
              "      <th>Operating system</th>\n",
              "      <th>Wi-Fi</th>\n",
              "      <th>Bluetooth</th>\n",
              "      <th>GPS</th>\n",
              "      <th>Number of SIMs</th>\n",
              "      <th>3G</th>\n",
              "      <th>4G/ LTE</th>\n",
              "      <th>Price</th>\n",
              "    </tr>\n",
              "  </thead>\n",
              "  <tbody>\n",
              "    <tr>\n",
              "      <th>0</th>\n",
              "      <td>0</td>\n",
              "      <td>OnePlus 7T Pro McLaren Edition</td>\n",
              "      <td>OnePlus</td>\n",
              "      <td>7T Pro McLaren Edition</td>\n",
              "      <td>4085</td>\n",
              "      <td>6.67</td>\n",
              "      <td>Yes</td>\n",
              "      <td>1440</td>\n",
              "      <td>3120</td>\n",
              "      <td>8</td>\n",
              "      <td>...</td>\n",
              "      <td>48.0</td>\n",
              "      <td>16.0</td>\n",
              "      <td>Android</td>\n",
              "      <td>Yes</td>\n",
              "      <td>Yes</td>\n",
              "      <td>Yes</td>\n",
              "      <td>2</td>\n",
              "      <td>Yes</td>\n",
              "      <td>Yes</td>\n",
              "      <td>58998</td>\n",
              "    </tr>\n",
              "    <tr>\n",
              "      <th>1</th>\n",
              "      <td>1</td>\n",
              "      <td>Realme X2 Pro</td>\n",
              "      <td>Realme</td>\n",
              "      <td>X2 Pro</td>\n",
              "      <td>4000</td>\n",
              "      <td>6.50</td>\n",
              "      <td>Yes</td>\n",
              "      <td>1080</td>\n",
              "      <td>2400</td>\n",
              "      <td>8</td>\n",
              "      <td>...</td>\n",
              "      <td>64.0</td>\n",
              "      <td>16.0</td>\n",
              "      <td>Android</td>\n",
              "      <td>Yes</td>\n",
              "      <td>Yes</td>\n",
              "      <td>Yes</td>\n",
              "      <td>2</td>\n",
              "      <td>Yes</td>\n",
              "      <td>Yes</td>\n",
              "      <td>27999</td>\n",
              "    </tr>\n",
              "    <tr>\n",
              "      <th>2</th>\n",
              "      <td>2</td>\n",
              "      <td>iPhone 11 Pro Max</td>\n",
              "      <td>Apple</td>\n",
              "      <td>iPhone 11 Pro Max</td>\n",
              "      <td>3969</td>\n",
              "      <td>6.50</td>\n",
              "      <td>Yes</td>\n",
              "      <td>1242</td>\n",
              "      <td>2688</td>\n",
              "      <td>6</td>\n",
              "      <td>...</td>\n",
              "      <td>12.0</td>\n",
              "      <td>12.0</td>\n",
              "      <td>iOS</td>\n",
              "      <td>Yes</td>\n",
              "      <td>Yes</td>\n",
              "      <td>Yes</td>\n",
              "      <td>2</td>\n",
              "      <td>Yes</td>\n",
              "      <td>Yes</td>\n",
              "      <td>106900</td>\n",
              "    </tr>\n",
              "    <tr>\n",
              "      <th>3</th>\n",
              "      <td>3</td>\n",
              "      <td>iPhone 11</td>\n",
              "      <td>Apple</td>\n",
              "      <td>iPhone 11</td>\n",
              "      <td>3110</td>\n",
              "      <td>6.10</td>\n",
              "      <td>Yes</td>\n",
              "      <td>828</td>\n",
              "      <td>1792</td>\n",
              "      <td>6</td>\n",
              "      <td>...</td>\n",
              "      <td>12.0</td>\n",
              "      <td>12.0</td>\n",
              "      <td>iOS</td>\n",
              "      <td>Yes</td>\n",
              "      <td>Yes</td>\n",
              "      <td>Yes</td>\n",
              "      <td>2</td>\n",
              "      <td>Yes</td>\n",
              "      <td>Yes</td>\n",
              "      <td>62900</td>\n",
              "    </tr>\n",
              "    <tr>\n",
              "      <th>4</th>\n",
              "      <td>4</td>\n",
              "      <td>LG G8X ThinQ</td>\n",
              "      <td>LG</td>\n",
              "      <td>G8X ThinQ</td>\n",
              "      <td>4000</td>\n",
              "      <td>6.40</td>\n",
              "      <td>Yes</td>\n",
              "      <td>1080</td>\n",
              "      <td>2340</td>\n",
              "      <td>8</td>\n",
              "      <td>...</td>\n",
              "      <td>12.0</td>\n",
              "      <td>32.0</td>\n",
              "      <td>Android</td>\n",
              "      <td>Yes</td>\n",
              "      <td>Yes</td>\n",
              "      <td>Yes</td>\n",
              "      <td>1</td>\n",
              "      <td>No</td>\n",
              "      <td>No</td>\n",
              "      <td>49990</td>\n",
              "    </tr>\n",
              "  </tbody>\n",
              "</table>\n",
              "<p>5 rows × 22 columns</p>\n",
              "</div>\n",
              "      <button class=\"colab-df-convert\" onclick=\"convertToInteractive('df-76b7d132-5860-4424-a2e1-524ba36fab3f')\"\n",
              "              title=\"Convert this dataframe to an interactive table.\"\n",
              "              style=\"display:none;\">\n",
              "        \n",
              "  <svg xmlns=\"http://www.w3.org/2000/svg\" height=\"24px\"viewBox=\"0 0 24 24\"\n",
              "       width=\"24px\">\n",
              "    <path d=\"M0 0h24v24H0V0z\" fill=\"none\"/>\n",
              "    <path d=\"M18.56 5.44l.94 2.06.94-2.06 2.06-.94-2.06-.94-.94-2.06-.94 2.06-2.06.94zm-11 1L8.5 8.5l.94-2.06 2.06-.94-2.06-.94L8.5 2.5l-.94 2.06-2.06.94zm10 10l.94 2.06.94-2.06 2.06-.94-2.06-.94-.94-2.06-.94 2.06-2.06.94z\"/><path d=\"M17.41 7.96l-1.37-1.37c-.4-.4-.92-.59-1.43-.59-.52 0-1.04.2-1.43.59L10.3 9.45l-7.72 7.72c-.78.78-.78 2.05 0 2.83L4 21.41c.39.39.9.59 1.41.59.51 0 1.02-.2 1.41-.59l7.78-7.78 2.81-2.81c.8-.78.8-2.07 0-2.86zM5.41 20L4 18.59l7.72-7.72 1.47 1.35L5.41 20z\"/>\n",
              "  </svg>\n",
              "      </button>\n",
              "      \n",
              "  <style>\n",
              "    .colab-df-container {\n",
              "      display:flex;\n",
              "      flex-wrap:wrap;\n",
              "      gap: 12px;\n",
              "    }\n",
              "\n",
              "    .colab-df-convert {\n",
              "      background-color: #E8F0FE;\n",
              "      border: none;\n",
              "      border-radius: 50%;\n",
              "      cursor: pointer;\n",
              "      display: none;\n",
              "      fill: #1967D2;\n",
              "      height: 32px;\n",
              "      padding: 0 0 0 0;\n",
              "      width: 32px;\n",
              "    }\n",
              "\n",
              "    .colab-df-convert:hover {\n",
              "      background-color: #E2EBFA;\n",
              "      box-shadow: 0px 1px 2px rgba(60, 64, 67, 0.3), 0px 1px 3px 1px rgba(60, 64, 67, 0.15);\n",
              "      fill: #174EA6;\n",
              "    }\n",
              "\n",
              "    [theme=dark] .colab-df-convert {\n",
              "      background-color: #3B4455;\n",
              "      fill: #D2E3FC;\n",
              "    }\n",
              "\n",
              "    [theme=dark] .colab-df-convert:hover {\n",
              "      background-color: #434B5C;\n",
              "      box-shadow: 0px 1px 3px 1px rgba(0, 0, 0, 0.15);\n",
              "      filter: drop-shadow(0px 1px 2px rgba(0, 0, 0, 0.3));\n",
              "      fill: #FFFFFF;\n",
              "    }\n",
              "  </style>\n",
              "\n",
              "      <script>\n",
              "        const buttonEl =\n",
              "          document.querySelector('#df-76b7d132-5860-4424-a2e1-524ba36fab3f button.colab-df-convert');\n",
              "        buttonEl.style.display =\n",
              "          google.colab.kernel.accessAllowed ? 'block' : 'none';\n",
              "\n",
              "        async function convertToInteractive(key) {\n",
              "          const element = document.querySelector('#df-76b7d132-5860-4424-a2e1-524ba36fab3f');\n",
              "          const dataTable =\n",
              "            await google.colab.kernel.invokeFunction('convertToInteractive',\n",
              "                                                     [key], {});\n",
              "          if (!dataTable) return;\n",
              "\n",
              "          const docLinkHtml = 'Like what you see? Visit the ' +\n",
              "            '<a target=\"_blank\" href=https://colab.research.google.com/notebooks/data_table.ipynb>data table notebook</a>'\n",
              "            + ' to learn more about interactive tables.';\n",
              "          element.innerHTML = '';\n",
              "          dataTable['output_type'] = 'display_data';\n",
              "          await google.colab.output.renderOutput(dataTable, element);\n",
              "          const docLink = document.createElement('div');\n",
              "          docLink.innerHTML = docLinkHtml;\n",
              "          element.appendChild(docLink);\n",
              "        }\n",
              "      </script>\n",
              "    </div>\n",
              "  </div>\n",
              "  "
            ]
          },
          "metadata": {},
          "execution_count": 4
        }
      ]
    },
    {
      "cell_type": "code",
      "source": [
        "df.shape"
      ],
      "metadata": {
        "colab": {
          "base_uri": "https://localhost:8080/"
        },
        "id": "OHCT29qvJ4Wu",
        "outputId": "f59a4ef1-cd2c-4512-eafc-abc211f6af5f"
      },
      "execution_count": null,
      "outputs": [
        {
          "output_type": "execute_result",
          "data": {
            "text/plain": [
              "(1359, 22)"
            ]
          },
          "metadata": {},
          "execution_count": 5
        }
      ]
    },
    {
      "cell_type": "code",
      "source": [
        "df.info()"
      ],
      "metadata": {
        "colab": {
          "base_uri": "https://localhost:8080/"
        },
        "id": "kIuqTZXxJ7DD",
        "outputId": "6cea53d5-272f-4d26-f45f-b450d9fc6eab"
      },
      "execution_count": null,
      "outputs": [
        {
          "output_type": "stream",
          "name": "stdout",
          "text": [
            "<class 'pandas.core.frame.DataFrame'>\n",
            "RangeIndex: 1359 entries, 0 to 1358\n",
            "Data columns (total 22 columns):\n",
            " #   Column                  Non-Null Count  Dtype  \n",
            "---  ------                  --------------  -----  \n",
            " 0   Unnamed: 0              1359 non-null   int64  \n",
            " 1   Name                    1359 non-null   object \n",
            " 2   Brand                   1359 non-null   object \n",
            " 3   Model                   1359 non-null   object \n",
            " 4   Battery capacity (mAh)  1359 non-null   int64  \n",
            " 5   Screen size (inches)    1359 non-null   float64\n",
            " 6   Touchscreen             1359 non-null   object \n",
            " 7   Resolution x            1359 non-null   int64  \n",
            " 8   Resolution y            1359 non-null   int64  \n",
            " 9   Processor               1359 non-null   int64  \n",
            " 10  RAM (MB)                1359 non-null   int64  \n",
            " 11  Internal storage (GB)   1359 non-null   float64\n",
            " 12  Rear camera             1359 non-null   float64\n",
            " 13  Front camera            1359 non-null   float64\n",
            " 14  Operating system        1359 non-null   object \n",
            " 15  Wi-Fi                   1359 non-null   object \n",
            " 16  Bluetooth               1359 non-null   object \n",
            " 17  GPS                     1359 non-null   object \n",
            " 18  Number of SIMs          1359 non-null   int64  \n",
            " 19  3G                      1359 non-null   object \n",
            " 20  4G/ LTE                 1359 non-null   object \n",
            " 21  Price                   1359 non-null   int64  \n",
            "dtypes: float64(4), int64(8), object(10)\n",
            "memory usage: 233.7+ KB\n"
          ]
        }
      ]
    },
    {
      "cell_type": "code",
      "source": [
        "df.isnull().sum()"
      ],
      "metadata": {
        "colab": {
          "base_uri": "https://localhost:8080/"
        },
        "id": "OhpYil9PJ8rn",
        "outputId": "ae53dd6c-bdec-497a-b60e-331aeb3fd228"
      },
      "execution_count": null,
      "outputs": [
        {
          "output_type": "execute_result",
          "data": {
            "text/plain": [
              "Unnamed: 0                0\n",
              "Name                      0\n",
              "Brand                     0\n",
              "Model                     0\n",
              "Battery capacity (mAh)    0\n",
              "Screen size (inches)      0\n",
              "Touchscreen               0\n",
              "Resolution x              0\n",
              "Resolution y              0\n",
              "Processor                 0\n",
              "RAM (MB)                  0\n",
              "Internal storage (GB)     0\n",
              "Rear camera               0\n",
              "Front camera              0\n",
              "Operating system          0\n",
              "Wi-Fi                     0\n",
              "Bluetooth                 0\n",
              "GPS                       0\n",
              "Number of SIMs            0\n",
              "3G                        0\n",
              "4G/ LTE                   0\n",
              "Price                     0\n",
              "dtype: int64"
            ]
          },
          "metadata": {},
          "execution_count": 7
        }
      ]
    },
    {
      "cell_type": "code",
      "source": [
        "df[df.duplicated()].shape"
      ],
      "metadata": {
        "colab": {
          "base_uri": "https://localhost:8080/"
        },
        "id": "rd6PUAaQJ-k6",
        "outputId": "4a6a6c0a-e595-41ab-a974-1db419fb27a7"
      },
      "execution_count": null,
      "outputs": [
        {
          "output_type": "execute_result",
          "data": {
            "text/plain": [
              "(0, 22)"
            ]
          },
          "metadata": {},
          "execution_count": 8
        }
      ]
    },
    {
      "cell_type": "code",
      "source": [
        "for x in df:\n",
        "    print(f'Value In {x}: ', df[x].unique(), '\\n', 'Total Value:', len(df[x].unique()))\n",
        "    print('-'*100)"
      ],
      "metadata": {
        "colab": {
          "base_uri": "https://localhost:8080/"
        },
        "id": "hVeyuACTKANM",
        "outputId": "b51a9ab2-0da5-4e9f-af2c-070e4e65c612"
      },
      "execution_count": null,
      "outputs": [
        {
          "output_type": "stream",
          "name": "stdout",
          "text": [
            "Value In Unnamed: 0:  [   0    1    2 ... 1356 1357 1358] \n",
            " Total Value: 1359\n",
            "----------------------------------------------------------------------------------------------------\n",
            "Value In Name:  ['OnePlus 7T Pro McLaren Edition' 'Realme X2 Pro' 'iPhone 11 Pro Max' ...\n",
            " 'Intex Aqua Y4' 'iBall Andi4 B20' 'iBall Andi Avonte 5'] \n",
            " Total Value: 1359\n",
            "----------------------------------------------------------------------------------------------------\n",
            "Value In Brand:  ['OnePlus' 'Realme' 'Apple' 'LG' 'Samsung' 'Asus' 'Xiaomi' 'Oppo' 'Huawei'\n",
            " 'Google' 'Nokia' 'HTC' 'Motorola' 'Honor' 'Yu' 'Poco' 'Vivo' 'Nubia'\n",
            " 'Black Shark' 'Infinix' 'Lenovo' 'Sony' 'Jio' 'Coolpad' 'Micromax'\n",
            " 'Smartron' 'LeEco' 'BlackBerry' 'Gionee' 'Meizu' 'Panasonic' 'Tecno'\n",
            " 'InFocus' 'Itel' '10.or' 'Lava' 'Cat' 'Lyf' 'Intex' 'Xolo' 'Acer'\n",
            " 'Phicomm' 'Karbonn' 'Spice' 'iVoomi' 'Kult' 'Nuu Mobile' 'Ziox' 'Zopo'\n",
            " 'ZTE' 'Onida' 'Microsoft' 'iBall' 'Mobiistar' 'Comio' 'Videocon'\n",
            " 'Alcatel' 'Reach' 'Zen' 'Tambo' 'Razer' 'Homtom' 'Lephone' 'Aqua'\n",
            " 'Celkon' 'Jivi' 'Billion' 'Swipe' 'M-tech' 'Sansui' 'Zuk' 'TCL' 'mPhone'\n",
            " 'Blu' 'HP' 'Philips'] \n",
            " Total Value: 76\n",
            "----------------------------------------------------------------------------------------------------\n",
            "Value In Model:  ['7T Pro McLaren Edition' 'X2 Pro' 'iPhone 11 Pro Max' ... 'Aqua Y4'\n",
            " 'Andi4 B20' 'Andi Avonte 5'] \n",
            " Total Value: 1321\n",
            "----------------------------------------------------------------------------------------------------\n",
            "Value In Battery capacity (mAh):  [4085 4000 3969 3110 3800 4300 6000 3765 4065 4045 4200 3300 3700 2942\n",
            " 2658 3430 2915 3000 5000 3500 3930 1821 2691 2716 2730 3090 3400 3450\n",
            " 2900 1960 3600 3760 2750 2500 3050 2550 3100 4500 4100 4035 4030 4020\n",
            " 3550 3060 3260 3750 3730 3410 3200 4350 3340 3080 2700 3520 2000 5300\n",
            " 4060 3230 3120 3510 2600 2800 4850 1624 4050 2150 1715 4900 2420 3630\n",
            " 2470 3900 3220 2400 1810 2300 2070 1507 2200 2330 2100 4230 3010 3180\n",
            " 3030 3020 3225 4010 4550 3055 5100 3150 3075 2610 2850 5020 2230 2390\n",
            " 1900 1700 1860 1920 2140 1980 2410 2250 2350 1500 1010 2180 1320 2370\n",
            " 1350 1300 1650 1800 4070 3250 2680 2620 2630 3130 2720 2650 2930 1400\n",
            " 2840 1950 2515 2050 2540 1430 3140 2880 1200 1540 1450 4120 3950 3046\n",
            " 4380 3315 3285 2990 3360 3580 1600 2670 1750 2210 2450 1050 1850 3650\n",
            " 2770 2920 4150 2520 1550 2580 2125 2910 2260 2820 1250] \n",
            " Total Value: 165\n",
            "----------------------------------------------------------------------------------------------------\n",
            "Value In Screen size (inches):  [6.67 6.5  6.1  6.4  6.55 6.8  6.59 6.39 6.53 6.6  6.3  6.47 6.41 5.8\n",
            " 5.5  6.   5.99 6.28 6.2  4.7  5.3  5.7  5.2  5.15 5.1  5.4  6.52 6.7\n",
            " 6.44 6.65 6.38 6.08 6.26 5.6  6.21 6.18 5.84 5.86 6.42 6.23 5.65 5.98\n",
            " 6.01 5.9  5.   2.4  4.   5.96 4.5  4.6  4.3  4.95 4.8  6.35 6.22 6.19\n",
            " 5.45 5.93 4.93 3.   3.1  3.5  2.6  3.8  4.2  5.71 5.47 4.69 2.8  3.7\n",
            " 3.2  2.44 6.9  6.09 7.3  5.72 5.67 5.34 2.45 7.  ] \n",
            " Total Value: 80\n",
            "----------------------------------------------------------------------------------------------------\n",
            "Value In Touchscreen:  ['Yes' 'No'] \n",
            " Total Value: 2\n",
            "----------------------------------------------------------------------------------------------------\n",
            "Value In Resolution x:  [1440 1080 1242  828 1125  750  720  240 2160  640 1600  768 1520  540\n",
            "  480 1280  850  560  360  600 1176  400 1536 1880  854  800 1024  320] \n",
            " Total Value: 28\n",
            "----------------------------------------------------------------------------------------------------\n",
            "Value In Resolution y:  [3120 2400 2688 1792 2340 3040 2436 2960 2160 2240 2280 2246 2560 1334\n",
            " 1920 2880 1280 1600 1560 2520 2248 1520 2310 2220 2244 2316 1440  320\n",
            " 3840 1136 1544 1500  720 1620 1480 1080  960  854  800  480 3200 2636\n",
            " 1548 2152 2270 1580 1498 1290  640 1820  584  600  485] \n",
            " Total Value: 53\n",
            "----------------------------------------------------------------------------------------------------\n",
            "Value In Processor:  [ 8  6  1  4 10  2] \n",
            " Total Value: 6\n",
            "----------------------------------------------------------------------------------------------------\n",
            "Value In RAM (MB):  [12000  6000  4000  8000  3000  2000   512  1000    64   384   289   256\n",
            "   768] \n",
            " Total Value: 13\n",
            "----------------------------------------------------------------------------------------------------\n",
            "Value In Internal storage (GB):  [2.56e+02 6.40e+01 1.28e+02 3.20e+01 1.60e+01 8.00e+00 4.00e+00 6.40e-02\n",
            " 1.60e-01 3.00e+00 1.28e-01 5.12e-01 5.12e+02 2.00e+00 1.00e+00] \n",
            " Total Value: 15\n",
            "----------------------------------------------------------------------------------------------------\n",
            "Value In Rear camera:  [ 48.   64.   12.   16.   40.   12.2  13.   12.3  23.   21.   32.   24.\n",
            "  20.   19.    2.   18.    8.   20.7   5.   10.   13.1   8.7   3.   41.\n",
            "   3.2 108.   25.    0.   21.5   0.3  15.   13.2] \n",
            " Total Value: 32\n",
            "----------------------------------------------------------------------------------------------------\n",
            "Value In Front camera:  [16.  12.  32.  10.  24.  20.  25.  13.   8.   7.   5.   4.  48.   0.3\n",
            "  1.2  2.   2.2  3.7  1.9  1.3  2.1  2.4  0.9  1.6  0.   3.   1.1  1.5\n",
            "  3.2 40. ] \n",
            " Total Value: 30\n",
            "----------------------------------------------------------------------------------------------------\n",
            "Value In Operating system:  ['Android' 'iOS' 'Cyanogen' 'BlackBerry' 'Windows' 'Tizen' 'Sailfish'] \n",
            " Total Value: 7\n",
            "----------------------------------------------------------------------------------------------------\n",
            "Value In Wi-Fi:  ['Yes' 'No'] \n",
            " Total Value: 2\n",
            "----------------------------------------------------------------------------------------------------\n",
            "Value In Bluetooth:  ['Yes' 'No'] \n",
            " Total Value: 2\n",
            "----------------------------------------------------------------------------------------------------\n",
            "Value In GPS:  ['Yes' 'No'] \n",
            " Total Value: 2\n",
            "----------------------------------------------------------------------------------------------------\n",
            "Value In Number of SIMs:  [2 1 3] \n",
            " Total Value: 3\n",
            "----------------------------------------------------------------------------------------------------\n",
            "Value In 3G:  ['Yes' 'No'] \n",
            " Total Value: 2\n",
            "----------------------------------------------------------------------------------------------------\n",
            "Value In 4G/ LTE:  ['Yes' 'No'] \n",
            " Total Value: 2\n",
            "----------------------------------------------------------------------------------------------------\n",
            "Value In Price:  [ 58998  27999 106900  62900  49990  34930  52990  79699  37999  23190\n",
            "  23990  14999  19282  39995  36990  13999  54280   9799  63990  29999\n",
            "  31999  45499  69999  59999  47990  56999   9990  34999  18999   9349\n",
            "  12000  26999  49999  36999  47000  20999  53990  14994  30000  26994\n",
            "  19999  16999  30990  20246  22999  44999  24999  39996  23999   6994\n",
            "  42998  25990   5995   7299  25999   3999   7999   6999  15999  39999\n",
            "   8999  38999  21150  10990   9999  26220  47999  12999  15990  23100\n",
            "  15377  16650  11999   8600  12990  11845  16879   8649  13690  35999\n",
            "  11990  22299  39990  17973   9699   7332   9499  25120  30999  18000\n",
            "  22000  11900  11770  16490   9580  14990  21299  59090  18011  10299\n",
            "   8990  16990  18990  18290   8849  15899  15900  10499  28499   6990\n",
            "  34990  12994   9994  12500   8500   6499   8699   1249   9890   5990\n",
            "  17499  17586  13990  33500  10900  15500  54665  11499  15995   8000\n",
            "   5490   5999   8499   7499   7790  10999  19990   6899  30149  17999\n",
            "   7990  13299  26499  25500  28500  13490  13500  38990  27900  29950\n",
            "   7987  21999  33999  35990   3699  50650  56699  22499  15000  32490\n",
            "  57915  18690  18599  14730   9195   5499  11490   6670   7935  14979\n",
            "   8490   4499   4999   5899   6850  22990   8890   5850  17990  11994\n",
            "   8290   5699   7420   7180  15499   9490   9399  24860   8480  12800\n",
            "  13740   8049   7799  10500   6799   8929  16900   6319   7199  12722\n",
            "   8948   4290   5994  29990    994   5450  14933   7250  25900  16541\n",
            "   8599  12639   6249  17979  23900   9630   4990  15998   6800   7400\n",
            "   4695  45999   7190   4400   7916  11936   3238   6399   6666   9000\n",
            "   5000   5399   4299   6539  13895   6998   4795   2899   7490  13667\n",
            "  11735  13606  27390   6700  42021  13677  11250   8891   3499  21450\n",
            "   5199  10800   9899  15410  21490   5555  19660  17172   5500   6933\n",
            "   6690   6299   7433   6190   3900   5709   4672   5930   4240   4199\n",
            "   5350   4229   4991   3399   7099   6200   7399   4399   8966   8920\n",
            "   6900   8200  12499   8440   4590   4899  14980   3968   3740   8556\n",
            "   5385  14770  13300  10200   4799  13000   4500   2999   6199   9500\n",
            "  34915   3500   7000  11000   7500   7800   7200   4150   5599  13899\n",
            "   3490  21990   5888  10490   3199   4495  18490   3632  19000   5040\n",
            "   3299  12494  18748   6495  16818  18138   7494  14534  17490   9960\n",
            "   8300  14153  22500   3190   3850   1999   6300   2590   3250   4599\n",
            "   6000   2699   4444  73999  92999   4829 174990  66999   7149   3899\n",
            "   6694  83900  69500  96900  20900  13980   8099  77299  12480   9550\n",
            "   4450  14450  26990   5290   9900   6488 164999   4488   4649   8349\n",
            "   3751  14299   3790   3400   3539  10870   8961   3990   9950   4699\n",
            "   3099  54990   4490   8899  14229   4840   4900   3749   4890   4350\n",
            "  20800  13950  19490   3450   7450   7994  17600   9790   7900   5300\n",
            "  10399  19994   4294   3789  11849   8875  74990   4378   6924   3675\n",
            "   7706   7950  10640   3890   6600  12900   4540  57900  67900   8226\n",
            "   7249   3599   3799  73300  74164   4470   6290   4190   2550   6729\n",
            "   2340   4790   5295   4970   3800   2450   5935   3282   2299   3970\n",
            "   4725   5279   4321   5410   2950   3480   3290   5891   6195   7040\n",
            "   6604   4950  27990  44990   4390   6449   2499   2599   2900  14000\n",
            "   3950   4978   4995   8666   3880   2754   4610   4895  28000   3590\n",
            "   5440   4099   3690   4879   6888   3980  11046   5831   3860   6506\n",
            "   6326   6110   4625   3389   4888   6789   9993   6629   7142   4960\n",
            "   4105   6100   2359   4880   3935   9049   7160   5668   6450   5200\n",
            "  15026   2690   4095   4050   6099   7599   5900  29124   5550  27600\n",
            "  11100   5099   4598  53983   3739  11200   4289   6772   5429   5849\n",
            "  16699   6498   3579   5949  10450   4532  12050   6400   3195  16000\n",
            "   8250   4333   7300   2799   5149   2700   4060   7100   2545   7998\n",
            "   2990   4600   2190   3279  10480   4997   2488   3887   6480   4989\n",
            "   7389   2658   6500    494   8399   9700   8299   2639   2399   5430\n",
            "   4200   5970   4866   4595   3949   2666   7530   5549   4750   5890\n",
            "   4800   4006   9751  19980   2199  13450   2200   3333   6760   9980\n",
            "   4559   3840   7890  88719   6849   7980   4949   7679   5299   3995\n",
            "   9099   7750  13988   3449   4690   4777   3998   3994   8700   6390\n",
            "   4090   6490  11586   2490   9977   4655   3549   9300   2240   5398\n",
            "  41390   4300   9001   4295  57500   5750   5649   2222   4650   5830\n",
            "   4449   2000   2984  15300   5529   2940   2498] \n",
            " Total Value: 627\n",
            "----------------------------------------------------------------------------------------------------\n"
          ]
        }
      ]
    },
    {
      "cell_type": "code",
      "source": [
        "df.describe().T"
      ],
      "metadata": {
        "colab": {
          "base_uri": "https://localhost:8080/",
          "height": 426
        },
        "id": "pQlpEbqNKCaL",
        "outputId": "37069929-ec47-4a28-b80a-28dd45661616"
      },
      "execution_count": null,
      "outputs": [
        {
          "output_type": "execute_result",
          "data": {
            "text/plain": [
              "                         count          mean           std       min     25%  \\\n",
              "Unnamed: 0              1359.0    679.000000    392.453819     0.000   339.5   \n",
              "Battery capacity (mAh)  1359.0   2938.489330    873.514133  1010.000  2300.0   \n",
              "Screen size (inches)    1359.0      5.291310      0.671357     2.400     5.0   \n",
              "Resolution x            1359.0    811.543046    270.707271   240.000   720.0   \n",
              "Resolution y            1359.0   1490.777778    557.780120   320.000  1280.0   \n",
              "Processor               1359.0      5.551141      2.196562     1.000     4.0   \n",
              "RAM (MB)                1359.0   2488.777778   1664.440386    64.000  1000.0   \n",
              "Internal storage (GB)   1359.0     30.654864     36.950241     0.064     8.0   \n",
              "Rear camera             1359.0     12.070199      8.948337     0.000     8.0   \n",
              "Front camera            1359.0      7.037969      6.295448     0.000     2.0   \n",
              "Number of SIMs          1359.0      1.833701      0.374457     1.000     2.0   \n",
              "Price                   1359.0  11465.825607  13857.497077   494.000  4763.5   \n",
              "\n",
              "                           50%      75%       max  \n",
              "Unnamed: 0               679.0   1018.5    1358.0  \n",
              "Battery capacity (mAh)  3000.0   3500.0    6000.0  \n",
              "Screen size (inches)       5.2      5.7       7.3  \n",
              "Resolution x             720.0   1080.0    2160.0  \n",
              "Resolution y            1280.0   1920.0    3840.0  \n",
              "Processor                  4.0      8.0      10.0  \n",
              "RAM (MB)                2000.0   3000.0   12000.0  \n",
              "Internal storage (GB)     16.0     32.0     512.0  \n",
              "Rear camera               12.2     13.0     108.0  \n",
              "Front camera               5.0      8.0      48.0  \n",
              "Number of SIMs             2.0      2.0       3.0  \n",
              "Price                   6999.0  11999.0  174990.0  "
            ],
            "text/html": [
              "\n",
              "  <div id=\"df-b5b36bb1-5521-4158-985f-1e006d7a28ff\">\n",
              "    <div class=\"colab-df-container\">\n",
              "      <div>\n",
              "<style scoped>\n",
              "    .dataframe tbody tr th:only-of-type {\n",
              "        vertical-align: middle;\n",
              "    }\n",
              "\n",
              "    .dataframe tbody tr th {\n",
              "        vertical-align: top;\n",
              "    }\n",
              "\n",
              "    .dataframe thead th {\n",
              "        text-align: right;\n",
              "    }\n",
              "</style>\n",
              "<table border=\"1\" class=\"dataframe\">\n",
              "  <thead>\n",
              "    <tr style=\"text-align: right;\">\n",
              "      <th></th>\n",
              "      <th>count</th>\n",
              "      <th>mean</th>\n",
              "      <th>std</th>\n",
              "      <th>min</th>\n",
              "      <th>25%</th>\n",
              "      <th>50%</th>\n",
              "      <th>75%</th>\n",
              "      <th>max</th>\n",
              "    </tr>\n",
              "  </thead>\n",
              "  <tbody>\n",
              "    <tr>\n",
              "      <th>Unnamed: 0</th>\n",
              "      <td>1359.0</td>\n",
              "      <td>679.000000</td>\n",
              "      <td>392.453819</td>\n",
              "      <td>0.000</td>\n",
              "      <td>339.5</td>\n",
              "      <td>679.0</td>\n",
              "      <td>1018.5</td>\n",
              "      <td>1358.0</td>\n",
              "    </tr>\n",
              "    <tr>\n",
              "      <th>Battery capacity (mAh)</th>\n",
              "      <td>1359.0</td>\n",
              "      <td>2938.489330</td>\n",
              "      <td>873.514133</td>\n",
              "      <td>1010.000</td>\n",
              "      <td>2300.0</td>\n",
              "      <td>3000.0</td>\n",
              "      <td>3500.0</td>\n",
              "      <td>6000.0</td>\n",
              "    </tr>\n",
              "    <tr>\n",
              "      <th>Screen size (inches)</th>\n",
              "      <td>1359.0</td>\n",
              "      <td>5.291310</td>\n",
              "      <td>0.671357</td>\n",
              "      <td>2.400</td>\n",
              "      <td>5.0</td>\n",
              "      <td>5.2</td>\n",
              "      <td>5.7</td>\n",
              "      <td>7.3</td>\n",
              "    </tr>\n",
              "    <tr>\n",
              "      <th>Resolution x</th>\n",
              "      <td>1359.0</td>\n",
              "      <td>811.543046</td>\n",
              "      <td>270.707271</td>\n",
              "      <td>240.000</td>\n",
              "      <td>720.0</td>\n",
              "      <td>720.0</td>\n",
              "      <td>1080.0</td>\n",
              "      <td>2160.0</td>\n",
              "    </tr>\n",
              "    <tr>\n",
              "      <th>Resolution y</th>\n",
              "      <td>1359.0</td>\n",
              "      <td>1490.777778</td>\n",
              "      <td>557.780120</td>\n",
              "      <td>320.000</td>\n",
              "      <td>1280.0</td>\n",
              "      <td>1280.0</td>\n",
              "      <td>1920.0</td>\n",
              "      <td>3840.0</td>\n",
              "    </tr>\n",
              "    <tr>\n",
              "      <th>Processor</th>\n",
              "      <td>1359.0</td>\n",
              "      <td>5.551141</td>\n",
              "      <td>2.196562</td>\n",
              "      <td>1.000</td>\n",
              "      <td>4.0</td>\n",
              "      <td>4.0</td>\n",
              "      <td>8.0</td>\n",
              "      <td>10.0</td>\n",
              "    </tr>\n",
              "    <tr>\n",
              "      <th>RAM (MB)</th>\n",
              "      <td>1359.0</td>\n",
              "      <td>2488.777778</td>\n",
              "      <td>1664.440386</td>\n",
              "      <td>64.000</td>\n",
              "      <td>1000.0</td>\n",
              "      <td>2000.0</td>\n",
              "      <td>3000.0</td>\n",
              "      <td>12000.0</td>\n",
              "    </tr>\n",
              "    <tr>\n",
              "      <th>Internal storage (GB)</th>\n",
              "      <td>1359.0</td>\n",
              "      <td>30.654864</td>\n",
              "      <td>36.950241</td>\n",
              "      <td>0.064</td>\n",
              "      <td>8.0</td>\n",
              "      <td>16.0</td>\n",
              "      <td>32.0</td>\n",
              "      <td>512.0</td>\n",
              "    </tr>\n",
              "    <tr>\n",
              "      <th>Rear camera</th>\n",
              "      <td>1359.0</td>\n",
              "      <td>12.070199</td>\n",
              "      <td>8.948337</td>\n",
              "      <td>0.000</td>\n",
              "      <td>8.0</td>\n",
              "      <td>12.2</td>\n",
              "      <td>13.0</td>\n",
              "      <td>108.0</td>\n",
              "    </tr>\n",
              "    <tr>\n",
              "      <th>Front camera</th>\n",
              "      <td>1359.0</td>\n",
              "      <td>7.037969</td>\n",
              "      <td>6.295448</td>\n",
              "      <td>0.000</td>\n",
              "      <td>2.0</td>\n",
              "      <td>5.0</td>\n",
              "      <td>8.0</td>\n",
              "      <td>48.0</td>\n",
              "    </tr>\n",
              "    <tr>\n",
              "      <th>Number of SIMs</th>\n",
              "      <td>1359.0</td>\n",
              "      <td>1.833701</td>\n",
              "      <td>0.374457</td>\n",
              "      <td>1.000</td>\n",
              "      <td>2.0</td>\n",
              "      <td>2.0</td>\n",
              "      <td>2.0</td>\n",
              "      <td>3.0</td>\n",
              "    </tr>\n",
              "    <tr>\n",
              "      <th>Price</th>\n",
              "      <td>1359.0</td>\n",
              "      <td>11465.825607</td>\n",
              "      <td>13857.497077</td>\n",
              "      <td>494.000</td>\n",
              "      <td>4763.5</td>\n",
              "      <td>6999.0</td>\n",
              "      <td>11999.0</td>\n",
              "      <td>174990.0</td>\n",
              "    </tr>\n",
              "  </tbody>\n",
              "</table>\n",
              "</div>\n",
              "      <button class=\"colab-df-convert\" onclick=\"convertToInteractive('df-b5b36bb1-5521-4158-985f-1e006d7a28ff')\"\n",
              "              title=\"Convert this dataframe to an interactive table.\"\n",
              "              style=\"display:none;\">\n",
              "        \n",
              "  <svg xmlns=\"http://www.w3.org/2000/svg\" height=\"24px\"viewBox=\"0 0 24 24\"\n",
              "       width=\"24px\">\n",
              "    <path d=\"M0 0h24v24H0V0z\" fill=\"none\"/>\n",
              "    <path d=\"M18.56 5.44l.94 2.06.94-2.06 2.06-.94-2.06-.94-.94-2.06-.94 2.06-2.06.94zm-11 1L8.5 8.5l.94-2.06 2.06-.94-2.06-.94L8.5 2.5l-.94 2.06-2.06.94zm10 10l.94 2.06.94-2.06 2.06-.94-2.06-.94-.94-2.06-.94 2.06-2.06.94z\"/><path d=\"M17.41 7.96l-1.37-1.37c-.4-.4-.92-.59-1.43-.59-.52 0-1.04.2-1.43.59L10.3 9.45l-7.72 7.72c-.78.78-.78 2.05 0 2.83L4 21.41c.39.39.9.59 1.41.59.51 0 1.02-.2 1.41-.59l7.78-7.78 2.81-2.81c.8-.78.8-2.07 0-2.86zM5.41 20L4 18.59l7.72-7.72 1.47 1.35L5.41 20z\"/>\n",
              "  </svg>\n",
              "      </button>\n",
              "      \n",
              "  <style>\n",
              "    .colab-df-container {\n",
              "      display:flex;\n",
              "      flex-wrap:wrap;\n",
              "      gap: 12px;\n",
              "    }\n",
              "\n",
              "    .colab-df-convert {\n",
              "      background-color: #E8F0FE;\n",
              "      border: none;\n",
              "      border-radius: 50%;\n",
              "      cursor: pointer;\n",
              "      display: none;\n",
              "      fill: #1967D2;\n",
              "      height: 32px;\n",
              "      padding: 0 0 0 0;\n",
              "      width: 32px;\n",
              "    }\n",
              "\n",
              "    .colab-df-convert:hover {\n",
              "      background-color: #E2EBFA;\n",
              "      box-shadow: 0px 1px 2px rgba(60, 64, 67, 0.3), 0px 1px 3px 1px rgba(60, 64, 67, 0.15);\n",
              "      fill: #174EA6;\n",
              "    }\n",
              "\n",
              "    [theme=dark] .colab-df-convert {\n",
              "      background-color: #3B4455;\n",
              "      fill: #D2E3FC;\n",
              "    }\n",
              "\n",
              "    [theme=dark] .colab-df-convert:hover {\n",
              "      background-color: #434B5C;\n",
              "      box-shadow: 0px 1px 3px 1px rgba(0, 0, 0, 0.15);\n",
              "      filter: drop-shadow(0px 1px 2px rgba(0, 0, 0, 0.3));\n",
              "      fill: #FFFFFF;\n",
              "    }\n",
              "  </style>\n",
              "\n",
              "      <script>\n",
              "        const buttonEl =\n",
              "          document.querySelector('#df-b5b36bb1-5521-4158-985f-1e006d7a28ff button.colab-df-convert');\n",
              "        buttonEl.style.display =\n",
              "          google.colab.kernel.accessAllowed ? 'block' : 'none';\n",
              "\n",
              "        async function convertToInteractive(key) {\n",
              "          const element = document.querySelector('#df-b5b36bb1-5521-4158-985f-1e006d7a28ff');\n",
              "          const dataTable =\n",
              "            await google.colab.kernel.invokeFunction('convertToInteractive',\n",
              "                                                     [key], {});\n",
              "          if (!dataTable) return;\n",
              "\n",
              "          const docLinkHtml = 'Like what you see? Visit the ' +\n",
              "            '<a target=\"_blank\" href=https://colab.research.google.com/notebooks/data_table.ipynb>data table notebook</a>'\n",
              "            + ' to learn more about interactive tables.';\n",
              "          element.innerHTML = '';\n",
              "          dataTable['output_type'] = 'display_data';\n",
              "          await google.colab.output.renderOutput(dataTable, element);\n",
              "          const docLink = document.createElement('div');\n",
              "          docLink.innerHTML = docLinkHtml;\n",
              "          element.appendChild(docLink);\n",
              "        }\n",
              "      </script>\n",
              "    </div>\n",
              "  </div>\n",
              "  "
            ]
          },
          "metadata": {},
          "execution_count": 10
        }
      ]
    },
    {
      "cell_type": "markdown",
      "source": [
        "Setelah dilakukan pengecekan data, dapat dilihat bahwa tidak ada missing values ataupun duplikasi data, Setelah dilihat unique value pada setiap kolomnya, rata-rata kolom mempunyai High Cardinality dan dari statistik deskriptif, ada beberapa nilai Min dan Max sangat jauh (Pengecekan lebih lanjut akan dicek pada Handling Data Outlier)."
      ],
      "metadata": {
        "id": "vCrrIpV1xsOh"
      }
    },
    {
      "cell_type": "markdown",
      "source": [
        "## Data Cleaning"
      ],
      "metadata": {
        "id": "E0UoJF4xKDSf"
      }
    },
    {
      "cell_type": "code",
      "source": [
        "df_clean = df.copy()\n",
        "df_clean.drop(['Name','Model','Unnamed: 0'],axis =1, inplace = True)\n",
        "df_clean.head()"
      ],
      "metadata": {
        "colab": {
          "base_uri": "https://localhost:8080/"
        },
        "id": "aniKkrpvKFOC",
        "outputId": "988cf3c8-7f9a-4584-98c5-481d54f0232b"
      },
      "execution_count": null,
      "outputs": [
        {
          "output_type": "execute_result",
          "data": {
            "text/plain": [
              "     Brand  Battery capacity (mAh)  Screen size (inches) Touchscreen  \\\n",
              "0  OnePlus                    4085                  6.67         Yes   \n",
              "1   Realme                    4000                  6.50         Yes   \n",
              "2    Apple                    3969                  6.50         Yes   \n",
              "3    Apple                    3110                  6.10         Yes   \n",
              "4       LG                    4000                  6.40         Yes   \n",
              "\n",
              "   Resolution x  Resolution y  Processor  RAM (MB)  Internal storage (GB)  \\\n",
              "0          1440          3120          8     12000                  256.0   \n",
              "1          1080          2400          8      6000                   64.0   \n",
              "2          1242          2688          6      4000                   64.0   \n",
              "3           828          1792          6      4000                   64.0   \n",
              "4          1080          2340          8      6000                  128.0   \n",
              "\n",
              "   Rear camera  Front camera Operating system Wi-Fi Bluetooth  GPS  \\\n",
              "0         48.0          16.0          Android   Yes       Yes  Yes   \n",
              "1         64.0          16.0          Android   Yes       Yes  Yes   \n",
              "2         12.0          12.0              iOS   Yes       Yes  Yes   \n",
              "3         12.0          12.0              iOS   Yes       Yes  Yes   \n",
              "4         12.0          32.0          Android   Yes       Yes  Yes   \n",
              "\n",
              "   Number of SIMs   3G 4G/ LTE   Price  \n",
              "0               2  Yes     Yes   58998  \n",
              "1               2  Yes     Yes   27999  \n",
              "2               2  Yes     Yes  106900  \n",
              "3               2  Yes     Yes   62900  \n",
              "4               1   No      No   49990  "
            ],
            "text/html": [
              "\n",
              "  <div id=\"df-6978670d-6f82-4e0f-95e4-f8b1569e647a\">\n",
              "    <div class=\"colab-df-container\">\n",
              "      <div>\n",
              "<style scoped>\n",
              "    .dataframe tbody tr th:only-of-type {\n",
              "        vertical-align: middle;\n",
              "    }\n",
              "\n",
              "    .dataframe tbody tr th {\n",
              "        vertical-align: top;\n",
              "    }\n",
              "\n",
              "    .dataframe thead th {\n",
              "        text-align: right;\n",
              "    }\n",
              "</style>\n",
              "<table border=\"1\" class=\"dataframe\">\n",
              "  <thead>\n",
              "    <tr style=\"text-align: right;\">\n",
              "      <th></th>\n",
              "      <th>Brand</th>\n",
              "      <th>Battery capacity (mAh)</th>\n",
              "      <th>Screen size (inches)</th>\n",
              "      <th>Touchscreen</th>\n",
              "      <th>Resolution x</th>\n",
              "      <th>Resolution y</th>\n",
              "      <th>Processor</th>\n",
              "      <th>RAM (MB)</th>\n",
              "      <th>Internal storage (GB)</th>\n",
              "      <th>Rear camera</th>\n",
              "      <th>Front camera</th>\n",
              "      <th>Operating system</th>\n",
              "      <th>Wi-Fi</th>\n",
              "      <th>Bluetooth</th>\n",
              "      <th>GPS</th>\n",
              "      <th>Number of SIMs</th>\n",
              "      <th>3G</th>\n",
              "      <th>4G/ LTE</th>\n",
              "      <th>Price</th>\n",
              "    </tr>\n",
              "  </thead>\n",
              "  <tbody>\n",
              "    <tr>\n",
              "      <th>0</th>\n",
              "      <td>OnePlus</td>\n",
              "      <td>4085</td>\n",
              "      <td>6.67</td>\n",
              "      <td>Yes</td>\n",
              "      <td>1440</td>\n",
              "      <td>3120</td>\n",
              "      <td>8</td>\n",
              "      <td>12000</td>\n",
              "      <td>256.0</td>\n",
              "      <td>48.0</td>\n",
              "      <td>16.0</td>\n",
              "      <td>Android</td>\n",
              "      <td>Yes</td>\n",
              "      <td>Yes</td>\n",
              "      <td>Yes</td>\n",
              "      <td>2</td>\n",
              "      <td>Yes</td>\n",
              "      <td>Yes</td>\n",
              "      <td>58998</td>\n",
              "    </tr>\n",
              "    <tr>\n",
              "      <th>1</th>\n",
              "      <td>Realme</td>\n",
              "      <td>4000</td>\n",
              "      <td>6.50</td>\n",
              "      <td>Yes</td>\n",
              "      <td>1080</td>\n",
              "      <td>2400</td>\n",
              "      <td>8</td>\n",
              "      <td>6000</td>\n",
              "      <td>64.0</td>\n",
              "      <td>64.0</td>\n",
              "      <td>16.0</td>\n",
              "      <td>Android</td>\n",
              "      <td>Yes</td>\n",
              "      <td>Yes</td>\n",
              "      <td>Yes</td>\n",
              "      <td>2</td>\n",
              "      <td>Yes</td>\n",
              "      <td>Yes</td>\n",
              "      <td>27999</td>\n",
              "    </tr>\n",
              "    <tr>\n",
              "      <th>2</th>\n",
              "      <td>Apple</td>\n",
              "      <td>3969</td>\n",
              "      <td>6.50</td>\n",
              "      <td>Yes</td>\n",
              "      <td>1242</td>\n",
              "      <td>2688</td>\n",
              "      <td>6</td>\n",
              "      <td>4000</td>\n",
              "      <td>64.0</td>\n",
              "      <td>12.0</td>\n",
              "      <td>12.0</td>\n",
              "      <td>iOS</td>\n",
              "      <td>Yes</td>\n",
              "      <td>Yes</td>\n",
              "      <td>Yes</td>\n",
              "      <td>2</td>\n",
              "      <td>Yes</td>\n",
              "      <td>Yes</td>\n",
              "      <td>106900</td>\n",
              "    </tr>\n",
              "    <tr>\n",
              "      <th>3</th>\n",
              "      <td>Apple</td>\n",
              "      <td>3110</td>\n",
              "      <td>6.10</td>\n",
              "      <td>Yes</td>\n",
              "      <td>828</td>\n",
              "      <td>1792</td>\n",
              "      <td>6</td>\n",
              "      <td>4000</td>\n",
              "      <td>64.0</td>\n",
              "      <td>12.0</td>\n",
              "      <td>12.0</td>\n",
              "      <td>iOS</td>\n",
              "      <td>Yes</td>\n",
              "      <td>Yes</td>\n",
              "      <td>Yes</td>\n",
              "      <td>2</td>\n",
              "      <td>Yes</td>\n",
              "      <td>Yes</td>\n",
              "      <td>62900</td>\n",
              "    </tr>\n",
              "    <tr>\n",
              "      <th>4</th>\n",
              "      <td>LG</td>\n",
              "      <td>4000</td>\n",
              "      <td>6.40</td>\n",
              "      <td>Yes</td>\n",
              "      <td>1080</td>\n",
              "      <td>2340</td>\n",
              "      <td>8</td>\n",
              "      <td>6000</td>\n",
              "      <td>128.0</td>\n",
              "      <td>12.0</td>\n",
              "      <td>32.0</td>\n",
              "      <td>Android</td>\n",
              "      <td>Yes</td>\n",
              "      <td>Yes</td>\n",
              "      <td>Yes</td>\n",
              "      <td>1</td>\n",
              "      <td>No</td>\n",
              "      <td>No</td>\n",
              "      <td>49990</td>\n",
              "    </tr>\n",
              "  </tbody>\n",
              "</table>\n",
              "</div>\n",
              "      <button class=\"colab-df-convert\" onclick=\"convertToInteractive('df-6978670d-6f82-4e0f-95e4-f8b1569e647a')\"\n",
              "              title=\"Convert this dataframe to an interactive table.\"\n",
              "              style=\"display:none;\">\n",
              "        \n",
              "  <svg xmlns=\"http://www.w3.org/2000/svg\" height=\"24px\"viewBox=\"0 0 24 24\"\n",
              "       width=\"24px\">\n",
              "    <path d=\"M0 0h24v24H0V0z\" fill=\"none\"/>\n",
              "    <path d=\"M18.56 5.44l.94 2.06.94-2.06 2.06-.94-2.06-.94-.94-2.06-.94 2.06-2.06.94zm-11 1L8.5 8.5l.94-2.06 2.06-.94-2.06-.94L8.5 2.5l-.94 2.06-2.06.94zm10 10l.94 2.06.94-2.06 2.06-.94-2.06-.94-.94-2.06-.94 2.06-2.06.94z\"/><path d=\"M17.41 7.96l-1.37-1.37c-.4-.4-.92-.59-1.43-.59-.52 0-1.04.2-1.43.59L10.3 9.45l-7.72 7.72c-.78.78-.78 2.05 0 2.83L4 21.41c.39.39.9.59 1.41.59.51 0 1.02-.2 1.41-.59l7.78-7.78 2.81-2.81c.8-.78.8-2.07 0-2.86zM5.41 20L4 18.59l7.72-7.72 1.47 1.35L5.41 20z\"/>\n",
              "  </svg>\n",
              "      </button>\n",
              "      \n",
              "  <style>\n",
              "    .colab-df-container {\n",
              "      display:flex;\n",
              "      flex-wrap:wrap;\n",
              "      gap: 12px;\n",
              "    }\n",
              "\n",
              "    .colab-df-convert {\n",
              "      background-color: #E8F0FE;\n",
              "      border: none;\n",
              "      border-radius: 50%;\n",
              "      cursor: pointer;\n",
              "      display: none;\n",
              "      fill: #1967D2;\n",
              "      height: 32px;\n",
              "      padding: 0 0 0 0;\n",
              "      width: 32px;\n",
              "    }\n",
              "\n",
              "    .colab-df-convert:hover {\n",
              "      background-color: #E2EBFA;\n",
              "      box-shadow: 0px 1px 2px rgba(60, 64, 67, 0.3), 0px 1px 3px 1px rgba(60, 64, 67, 0.15);\n",
              "      fill: #174EA6;\n",
              "    }\n",
              "\n",
              "    [theme=dark] .colab-df-convert {\n",
              "      background-color: #3B4455;\n",
              "      fill: #D2E3FC;\n",
              "    }\n",
              "\n",
              "    [theme=dark] .colab-df-convert:hover {\n",
              "      background-color: #434B5C;\n",
              "      box-shadow: 0px 1px 3px 1px rgba(0, 0, 0, 0.15);\n",
              "      filter: drop-shadow(0px 1px 2px rgba(0, 0, 0, 0.3));\n",
              "      fill: #FFFFFF;\n",
              "    }\n",
              "  </style>\n",
              "\n",
              "      <script>\n",
              "        const buttonEl =\n",
              "          document.querySelector('#df-6978670d-6f82-4e0f-95e4-f8b1569e647a button.colab-df-convert');\n",
              "        buttonEl.style.display =\n",
              "          google.colab.kernel.accessAllowed ? 'block' : 'none';\n",
              "\n",
              "        async function convertToInteractive(key) {\n",
              "          const element = document.querySelector('#df-6978670d-6f82-4e0f-95e4-f8b1569e647a');\n",
              "          const dataTable =\n",
              "            await google.colab.kernel.invokeFunction('convertToInteractive',\n",
              "                                                     [key], {});\n",
              "          if (!dataTable) return;\n",
              "\n",
              "          const docLinkHtml = 'Like what you see? Visit the ' +\n",
              "            '<a target=\"_blank\" href=https://colab.research.google.com/notebooks/data_table.ipynb>data table notebook</a>'\n",
              "            + ' to learn more about interactive tables.';\n",
              "          element.innerHTML = '';\n",
              "          dataTable['output_type'] = 'display_data';\n",
              "          await google.colab.output.renderOutput(dataTable, element);\n",
              "          const docLink = document.createElement('div');\n",
              "          docLink.innerHTML = docLinkHtml;\n",
              "          element.appendChild(docLink);\n",
              "        }\n",
              "      </script>\n",
              "    </div>\n",
              "  </div>\n",
              "  "
            ]
          },
          "metadata": {},
          "execution_count": 14
        }
      ]
    },
    {
      "cell_type": "markdown",
      "source": [
        "Pada bagian cleaning, saya menghapus kolom 'Name', 'Model'.'Unnamed: 0', karena ketiga kolom tersebut merupakan unique value pada setiap entry datanya dan tidak mempunyai pengaruh apa-apa terhadap harga Handphone. Selain itu, Value pada ketiga kolom tersebut tidak bisa dikelompokkan karena semuanya memiliki keunikan masing-masing."
      ],
      "metadata": {
        "id": "FSAefeHsy2-R"
      }
    },
    {
      "cell_type": "markdown",
      "source": [
        "--------------------------------------------------------------------------------"
      ],
      "metadata": {
        "id": "xHIWo1TPzURM"
      }
    },
    {
      "cell_type": "markdown",
      "source": [
        "![top5hp.png](data:image/png;base64,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)\n"
      ],
      "metadata": {
        "id": "QseeC5JTKR56"
      }
    },
    {
      "cell_type": "markdown",
      "source": [
        "Berdasarkan Informasi ini, saya akan melakukan pengolompokan pada Brand dimana Brand yang bukan merupakan 5 Top Brand ini akan dikelompokkan menjadi 'Others'"
      ],
      "metadata": {
        "id": "Itk3O_tWzY4G"
      }
    },
    {
      "cell_type": "markdown",
      "source": [
        "SOURCE: https://tech.co/phones/best-phone-brands"
      ],
      "metadata": {
        "id": "dqUIJJT0KWqj"
      }
    },
    {
      "cell_type": "markdown",
      "source": [
        "--------------------------------------------------------------------------------"
      ],
      "metadata": {
        "id": "CEllAPw6zXHa"
      }
    },
    {
      "cell_type": "markdown",
      "source": [
        "### Grouping: Brand"
      ],
      "metadata": {
        "id": "qaEGPXjzzphz"
      }
    },
    {
      "cell_type": "code",
      "source": [
        "brand_manipulated = []\n",
        "\n",
        "for i in df_clean['Brand']:\n",
        "    if i=='Samsung' or i=='Apple' or i=='Motorola' or i=='Google' or i=='OnePlus' :\n",
        "        brand_manipulated.append(i)\n",
        "    else:\n",
        "        brand_manipulated.append('Others')\n",
        "\n",
        "df_clean['Brand'] = brand_manipulated.copy()\n"
      ],
      "metadata": {
        "id": "ZHDsYLUfKLE1"
      },
      "execution_count": null,
      "outputs": []
    },
    {
      "cell_type": "code",
      "source": [
        "df_clean['Brand'].unique()"
      ],
      "metadata": {
        "colab": {
          "base_uri": "https://localhost:8080/"
        },
        "id": "uauNDPbEKZGc",
        "outputId": "dcd5c9f1-a73c-479d-fd71-9e83bcfdf8ba"
      },
      "execution_count": null,
      "outputs": [
        {
          "output_type": "execute_result",
          "data": {
            "text/plain": [
              "array(['OnePlus', 'Others', 'Apple', 'Samsung', 'Google', 'Motorola'],\n",
              "      dtype=object)"
            ]
          },
          "metadata": {},
          "execution_count": 16
        }
      ]
    },
    {
      "cell_type": "markdown",
      "source": [
        "## Exploratory Data Analysis"
      ],
      "metadata": {
        "id": "Tf2EVYFtKdRN"
      }
    },
    {
      "cell_type": "markdown",
      "source": [
        "Mengambil data inference sebanyak 2 entry data"
      ],
      "metadata": {
        "id": "Z27wDKyKzy9n"
      }
    },
    {
      "cell_type": "code",
      "source": [
        "df_inf = df_clean.sample(2, random_state=0)\n",
        "df_inf"
      ],
      "metadata": {
        "colab": {
          "base_uri": "https://localhost:8080/",
          "height": 191
        },
        "id": "SB5r-QtUIKlK",
        "outputId": "1433bfce-d692-470b-faae-20b0323a6999"
      },
      "execution_count": null,
      "outputs": [
        {
          "output_type": "execute_result",
          "data": {
            "text/plain": [
              "      Brand  Battery capacity (mAh)  Screen size (inches) Touchscreen  \\\n",
              "965  Others                    4000                  5.50         Yes   \n",
              "657  Others                    2400                  5.45         Yes   \n",
              "\n",
              "     Resolution x  Resolution y  Processor  RAM (MB)  Internal storage (GB)  \\\n",
              "965           720          1280          4      2000                   16.0   \n",
              "657           480           960          4      1000                    8.0   \n",
              "\n",
              "     Rear camera  Front camera Operating system Wi-Fi Bluetooth  GPS  \\\n",
              "965          8.0           5.0          Android   Yes       Yes  Yes   \n",
              "657          5.0           2.0          Android   Yes       Yes  Yes   \n",
              "\n",
              "     Number of SIMs   3G 4G/ LTE  Price  \n",
              "965               2  Yes     Yes   4499  \n",
              "657               2  Yes     Yes   3751  "
            ],
            "text/html": [
              "\n",
              "  <div id=\"df-7186aa05-04e0-46e0-9580-90ad0849b540\">\n",
              "    <div class=\"colab-df-container\">\n",
              "      <div>\n",
              "<style scoped>\n",
              "    .dataframe tbody tr th:only-of-type {\n",
              "        vertical-align: middle;\n",
              "    }\n",
              "\n",
              "    .dataframe tbody tr th {\n",
              "        vertical-align: top;\n",
              "    }\n",
              "\n",
              "    .dataframe thead th {\n",
              "        text-align: right;\n",
              "    }\n",
              "</style>\n",
              "<table border=\"1\" class=\"dataframe\">\n",
              "  <thead>\n",
              "    <tr style=\"text-align: right;\">\n",
              "      <th></th>\n",
              "      <th>Brand</th>\n",
              "      <th>Battery capacity (mAh)</th>\n",
              "      <th>Screen size (inches)</th>\n",
              "      <th>Touchscreen</th>\n",
              "      <th>Resolution x</th>\n",
              "      <th>Resolution y</th>\n",
              "      <th>Processor</th>\n",
              "      <th>RAM (MB)</th>\n",
              "      <th>Internal storage (GB)</th>\n",
              "      <th>Rear camera</th>\n",
              "      <th>Front camera</th>\n",
              "      <th>Operating system</th>\n",
              "      <th>Wi-Fi</th>\n",
              "      <th>Bluetooth</th>\n",
              "      <th>GPS</th>\n",
              "      <th>Number of SIMs</th>\n",
              "      <th>3G</th>\n",
              "      <th>4G/ LTE</th>\n",
              "      <th>Price</th>\n",
              "    </tr>\n",
              "  </thead>\n",
              "  <tbody>\n",
              "    <tr>\n",
              "      <th>965</th>\n",
              "      <td>Others</td>\n",
              "      <td>4000</td>\n",
              "      <td>5.50</td>\n",
              "      <td>Yes</td>\n",
              "      <td>720</td>\n",
              "      <td>1280</td>\n",
              "      <td>4</td>\n",
              "      <td>2000</td>\n",
              "      <td>16.0</td>\n",
              "      <td>8.0</td>\n",
              "      <td>5.0</td>\n",
              "      <td>Android</td>\n",
              "      <td>Yes</td>\n",
              "      <td>Yes</td>\n",
              "      <td>Yes</td>\n",
              "      <td>2</td>\n",
              "      <td>Yes</td>\n",
              "      <td>Yes</td>\n",
              "      <td>4499</td>\n",
              "    </tr>\n",
              "    <tr>\n",
              "      <th>657</th>\n",
              "      <td>Others</td>\n",
              "      <td>2400</td>\n",
              "      <td>5.45</td>\n",
              "      <td>Yes</td>\n",
              "      <td>480</td>\n",
              "      <td>960</td>\n",
              "      <td>4</td>\n",
              "      <td>1000</td>\n",
              "      <td>8.0</td>\n",
              "      <td>5.0</td>\n",
              "      <td>2.0</td>\n",
              "      <td>Android</td>\n",
              "      <td>Yes</td>\n",
              "      <td>Yes</td>\n",
              "      <td>Yes</td>\n",
              "      <td>2</td>\n",
              "      <td>Yes</td>\n",
              "      <td>Yes</td>\n",
              "      <td>3751</td>\n",
              "    </tr>\n",
              "  </tbody>\n",
              "</table>\n",
              "</div>\n",
              "      <button class=\"colab-df-convert\" onclick=\"convertToInteractive('df-7186aa05-04e0-46e0-9580-90ad0849b540')\"\n",
              "              title=\"Convert this dataframe to an interactive table.\"\n",
              "              style=\"display:none;\">\n",
              "        \n",
              "  <svg xmlns=\"http://www.w3.org/2000/svg\" height=\"24px\"viewBox=\"0 0 24 24\"\n",
              "       width=\"24px\">\n",
              "    <path d=\"M0 0h24v24H0V0z\" fill=\"none\"/>\n",
              "    <path d=\"M18.56 5.44l.94 2.06.94-2.06 2.06-.94-2.06-.94-.94-2.06-.94 2.06-2.06.94zm-11 1L8.5 8.5l.94-2.06 2.06-.94-2.06-.94L8.5 2.5l-.94 2.06-2.06.94zm10 10l.94 2.06.94-2.06 2.06-.94-2.06-.94-.94-2.06-.94 2.06-2.06.94z\"/><path d=\"M17.41 7.96l-1.37-1.37c-.4-.4-.92-.59-1.43-.59-.52 0-1.04.2-1.43.59L10.3 9.45l-7.72 7.72c-.78.78-.78 2.05 0 2.83L4 21.41c.39.39.9.59 1.41.59.51 0 1.02-.2 1.41-.59l7.78-7.78 2.81-2.81c.8-.78.8-2.07 0-2.86zM5.41 20L4 18.59l7.72-7.72 1.47 1.35L5.41 20z\"/>\n",
              "  </svg>\n",
              "      </button>\n",
              "      \n",
              "  <style>\n",
              "    .colab-df-container {\n",
              "      display:flex;\n",
              "      flex-wrap:wrap;\n",
              "      gap: 12px;\n",
              "    }\n",
              "\n",
              "    .colab-df-convert {\n",
              "      background-color: #E8F0FE;\n",
              "      border: none;\n",
              "      border-radius: 50%;\n",
              "      cursor: pointer;\n",
              "      display: none;\n",
              "      fill: #1967D2;\n",
              "      height: 32px;\n",
              "      padding: 0 0 0 0;\n",
              "      width: 32px;\n",
              "    }\n",
              "\n",
              "    .colab-df-convert:hover {\n",
              "      background-color: #E2EBFA;\n",
              "      box-shadow: 0px 1px 2px rgba(60, 64, 67, 0.3), 0px 1px 3px 1px rgba(60, 64, 67, 0.15);\n",
              "      fill: #174EA6;\n",
              "    }\n",
              "\n",
              "    [theme=dark] .colab-df-convert {\n",
              "      background-color: #3B4455;\n",
              "      fill: #D2E3FC;\n",
              "    }\n",
              "\n",
              "    [theme=dark] .colab-df-convert:hover {\n",
              "      background-color: #434B5C;\n",
              "      box-shadow: 0px 1px 3px 1px rgba(0, 0, 0, 0.15);\n",
              "      filter: drop-shadow(0px 1px 2px rgba(0, 0, 0, 0.3));\n",
              "      fill: #FFFFFF;\n",
              "    }\n",
              "  </style>\n",
              "\n",
              "      <script>\n",
              "        const buttonEl =\n",
              "          document.querySelector('#df-7186aa05-04e0-46e0-9580-90ad0849b540 button.colab-df-convert');\n",
              "        buttonEl.style.display =\n",
              "          google.colab.kernel.accessAllowed ? 'block' : 'none';\n",
              "\n",
              "        async function convertToInteractive(key) {\n",
              "          const element = document.querySelector('#df-7186aa05-04e0-46e0-9580-90ad0849b540');\n",
              "          const dataTable =\n",
              "            await google.colab.kernel.invokeFunction('convertToInteractive',\n",
              "                                                     [key], {});\n",
              "          if (!dataTable) return;\n",
              "\n",
              "          const docLinkHtml = 'Like what you see? Visit the ' +\n",
              "            '<a target=\"_blank\" href=https://colab.research.google.com/notebooks/data_table.ipynb>data table notebook</a>'\n",
              "            + ' to learn more about interactive tables.';\n",
              "          element.innerHTML = '';\n",
              "          dataTable['output_type'] = 'display_data';\n",
              "          await google.colab.output.renderOutput(dataTable, element);\n",
              "          const docLink = document.createElement('div');\n",
              "          docLink.innerHTML = docLinkHtml;\n",
              "          element.appendChild(docLink);\n",
              "        }\n",
              "      </script>\n",
              "    </div>\n",
              "  </div>\n",
              "  "
            ]
          },
          "metadata": {},
          "execution_count": 17
        }
      ]
    },
    {
      "cell_type": "markdown",
      "source": [
        "Menghapus data inference didalam dataset agar tidak terjadi Leaking Data"
      ],
      "metadata": {
        "id": "zpu-x8jkz2Ym"
      }
    },
    {
      "cell_type": "code",
      "source": [
        "df = df_clean.drop(df_inf.index)"
      ],
      "metadata": {
        "id": "ZGk-QhmnIRxN"
      },
      "execution_count": null,
      "outputs": []
    },
    {
      "cell_type": "markdown",
      "source": [
        "Memisahkan Train and Test, X dan Y"
      ],
      "metadata": {
        "id": "leuoSzO1z-j7"
      }
    },
    {
      "cell_type": "code",
      "source": [
        "# define feature and target\n",
        "X = df_clean.drop('Price', axis=1)\n",
        "y = df_clean['Price']\n",
        "\n",
        "X_train, X_test, y_train, y_test = train_test_split(X, y, test_size=0.3, random_state=17)"
      ],
      "metadata": {
        "id": "wAMopLQMKa5e"
      },
      "execution_count": null,
      "outputs": []
    },
    {
      "cell_type": "markdown",
      "source": [
        "Membuat dataframe untuk melakukan EDA"
      ],
      "metadata": {
        "id": "bbuilj3Y0F87"
      }
    },
    {
      "cell_type": "code",
      "source": [
        "df_eda = pd.concat([X_train, y_train], axis=1)\n",
        "\n",
        "df_eda.shape"
      ],
      "metadata": {
        "colab": {
          "base_uri": "https://localhost:8080/"
        },
        "id": "Phztxcc1Knlj",
        "outputId": "771e6497-525a-4f75-dbd2-f74f5c7a8202"
      },
      "execution_count": null,
      "outputs": [
        {
          "output_type": "execute_result",
          "data": {
            "text/plain": [
              "(951, 19)"
            ]
          },
          "metadata": {},
          "execution_count": 20
        }
      ]
    },
    {
      "cell_type": "markdown",
      "source": [
        "Membuat fungsi Plotting pada Boolean Feature (Yes/No)"
      ],
      "metadata": {
        "id": "oPv46eFq0QOE"
      }
    },
    {
      "cell_type": "code",
      "source": [
        "def pie_bool(df):\n",
        "    \n",
        "    fig = make_subplots(rows=2, cols=3, specs=[[{'type':'domain'}, {'type':'domain'}, {'type':'domain'}],[{'type':'domain'}, {'type':'domain'}, {'type':'domain'}]])\n",
        "     \n",
        "    labels = [\"Yes\",\"No\"]\n",
        "\n",
        "    values = df['Touchscreen'].value_counts().values\n",
        "    fig.add_trace(go.Pie(labels=labels, values=values, name=\"Touchscreen\", title=\"Touchscreen\"),1, 1)\n",
        "    \n",
        "    values = df['Wi-Fi'].value_counts().values\n",
        "    fig.add_trace(go.Pie(labels=labels, values=values, name=\"Wi-Fi\", title=\"Wi-Fi\"),1, 2)\n",
        "               \n",
        "    values = df['Bluetooth'].value_counts().values\n",
        "    fig.add_trace(go.Pie(labels=labels, values=values, name=\"Bluetooth\", title=\"Bluetooth\"),1, 3)    \n",
        "        \n",
        "    values = df['GPS'].value_counts().values\n",
        "    fig.add_trace(go.Pie(labels=labels, values=values, name=\"GPS\", title=\"GPS\"),2, 1)    \n",
        "                \n",
        "    values = df['3G'].value_counts().values\n",
        "    fig.add_trace(go.Pie(labels=labels, values=values, name=\"3G\", title=\"3G\"),2, 2)    \n",
        "\n",
        "    values = df['4G/ LTE'].value_counts().values\n",
        "    fig.add_trace(go.Pie(labels=labels, values=values, name=\"4G/ LTE\", title=\"4G/ LTE\"),2, 3)    \n",
        "        \n",
        "        \n",
        "    fig.update_traces(hole=.55, hoverinfo=\"label+percent+name\")\n",
        "\n",
        "    fig.update_layout(title_text=\"Boolean Feature\")\n",
        "    fig.show()"
      ],
      "metadata": {
        "id": "hyUUAL9dd08R"
      },
      "execution_count": 107,
      "outputs": []
    },
    {
      "cell_type": "code",
      "source": [
        "pie_bool(df)"
      ],
      "metadata": {
        "colab": {
          "base_uri": "https://localhost:8080/",
          "height": 542
        },
        "id": "BOov3tNreZuU",
        "outputId": "97c5c5f5-1dbf-4804-d106-db38742b5da2"
      },
      "execution_count": 108,
      "outputs": [
        {
          "output_type": "display_data",
          "data": {
            "text/html": [
              "<html>\n",
              "<head><meta charset=\"utf-8\" /></head>\n",
              "<body>\n",
              "    <div>            <script src=\"https://cdnjs.cloudflare.com/ajax/libs/mathjax/2.7.5/MathJax.js?config=TeX-AMS-MML_SVG\"></script><script type=\"text/javascript\">if (window.MathJax) {MathJax.Hub.Config({SVG: {font: \"STIX-Web\"}});}</script>                <script type=\"text/javascript\">window.PlotlyConfig = {MathJaxConfig: 'local'};</script>\n",
              "        <script src=\"https://cdn.plot.ly/plotly-2.8.3.min.js\"></script>                <div id=\"74b07249-2e2f-4a3e-8959-d157373067ad\" class=\"plotly-graph-div\" style=\"height:525px; width:100%;\"></div>            <script type=\"text/javascript\">                                    window.PLOTLYENV=window.PLOTLYENV || {};                                    if (document.getElementById(\"74b07249-2e2f-4a3e-8959-d157373067ad\")) {                    Plotly.newPlot(                        \"74b07249-2e2f-4a3e-8959-d157373067ad\",                        [{\"labels\":[\"Yes\",\"No\"],\"name\":\"Touchscreen\",\"title\":{\"text\":\"Touchscreen\"},\"values\":[1340,17],\"type\":\"pie\",\"domain\":{\"x\":[0.0,0.2888888888888889],\"y\":[0.575,1.0]},\"hole\":0.55,\"hoverinfo\":\"label+percent+name\"},{\"labels\":[\"Yes\",\"No\"],\"name\":\"Wi-Fi\",\"title\":{\"text\":\"Wi-Fi\"},\"values\":[1349,8],\"type\":\"pie\",\"domain\":{\"x\":[0.35555555555555557,0.6444444444444445],\"y\":[0.575,1.0]},\"hole\":0.55,\"hoverinfo\":\"label+percent+name\"},{\"labels\":[\"Yes\",\"No\"],\"name\":\"Bluetooth\",\"title\":{\"text\":\"Bluetooth\"},\"values\":[1342,15],\"type\":\"pie\",\"domain\":{\"x\":[0.7111111111111111,1.0],\"y\":[0.575,1.0]},\"hole\":0.55,\"hoverinfo\":\"label+percent+name\"},{\"labels\":[\"Yes\",\"No\"],\"name\":\"GPS\",\"title\":{\"text\":\"GPS\"},\"values\":[1249,108],\"type\":\"pie\",\"domain\":{\"x\":[0.0,0.2888888888888889],\"y\":[0.0,0.425]},\"hole\":0.55,\"hoverinfo\":\"label+percent+name\"},{\"labels\":[\"Yes\",\"No\"],\"name\":\"3G\",\"title\":{\"text\":\"3G\"},\"values\":[1212,145],\"type\":\"pie\",\"domain\":{\"x\":[0.35555555555555557,0.6444444444444445],\"y\":[0.0,0.425]},\"hole\":0.55,\"hoverinfo\":\"label+percent+name\"},{\"labels\":[\"Yes\",\"No\"],\"name\":\"4G/ LTE\",\"title\":{\"text\":\"4G/ LTE\"},\"values\":[1010,347],\"type\":\"pie\",\"domain\":{\"x\":[0.7111111111111111,1.0],\"y\":[0.0,0.425]},\"hole\":0.55,\"hoverinfo\":\"label+percent+name\"}],                        {\"template\":{\"data\":{\"bar\":[{\"error_x\":{\"color\":\"#2a3f5f\"},\"error_y\":{\"color\":\"#2a3f5f\"},\"marker\":{\"line\":{\"color\":\"#E5ECF6\",\"width\":0.5},\"pattern\":{\"fillmode\":\"overlay\",\"size\":10,\"solidity\":0.2}},\"type\":\"bar\"}],\"barpolar\":[{\"marker\":{\"line\":{\"color\":\"#E5ECF6\",\"width\":0.5},\"pattern\":{\"fillmode\":\"overlay\",\"size\":10,\"solidity\":0.2}},\"type\":\"barpolar\"}],\"carpet\":[{\"aaxis\":{\"endlinecolor\":\"#2a3f5f\",\"gridcolor\":\"white\",\"linecolor\":\"white\",\"minorgridcolor\":\"white\",\"startlinecolor\":\"#2a3f5f\"},\"baxis\":{\"endlinecolor\":\"#2a3f5f\",\"gridcolor\":\"white\",\"linecolor\":\"white\",\"minorgridcolor\":\"white\",\"startlinecolor\":\"#2a3f5f\"},\"type\":\"carpet\"}],\"choropleth\":[{\"colorbar\":{\"outlinewidth\":0,\"ticks\":\"\"},\"type\":\"choropleth\"}],\"contour\":[{\"colorbar\":{\"outlinewidth\":0,\"ticks\":\"\"},\"colorscale\":[[0.0,\"#0d0887\"],[0.1111111111111111,\"#46039f\"],[0.2222222222222222,\"#7201a8\"],[0.3333333333333333,\"#9c179e\"],[0.4444444444444444,\"#bd3786\"],[0.5555555555555556,\"#d8576b\"],[0.6666666666666666,\"#ed7953\"],[0.7777777777777778,\"#fb9f3a\"],[0.8888888888888888,\"#fdca26\"],[1.0,\"#f0f921\"]],\"type\":\"contour\"}],\"contourcarpet\":[{\"colorbar\":{\"outlinewidth\":0,\"ticks\":\"\"},\"type\":\"contourcarpet\"}],\"heatmap\":[{\"colorbar\":{\"outlinewidth\":0,\"ticks\":\"\"},\"colorscale\":[[0.0,\"#0d0887\"],[0.1111111111111111,\"#46039f\"],[0.2222222222222222,\"#7201a8\"],[0.3333333333333333,\"#9c179e\"],[0.4444444444444444,\"#bd3786\"],[0.5555555555555556,\"#d8576b\"],[0.6666666666666666,\"#ed7953\"],[0.7777777777777778,\"#fb9f3a\"],[0.8888888888888888,\"#fdca26\"],[1.0,\"#f0f921\"]],\"type\":\"heatmap\"}],\"heatmapgl\":[{\"colorbar\":{\"outlinewidth\":0,\"ticks\":\"\"},\"colorscale\":[[0.0,\"#0d0887\"],[0.1111111111111111,\"#46039f\"],[0.2222222222222222,\"#7201a8\"],[0.3333333333333333,\"#9c179e\"],[0.4444444444444444,\"#bd3786\"],[0.5555555555555556,\"#d8576b\"],[0.6666666666666666,\"#ed7953\"],[0.7777777777777778,\"#fb9f3a\"],[0.8888888888888888,\"#fdca26\"],[1.0,\"#f0f921\"]],\"type\":\"heatmapgl\"}],\"histogram\":[{\"marker\":{\"pattern\":{\"fillmode\":\"overlay\",\"size\":10,\"solidity\":0.2}},\"type\":\"histogram\"}],\"histogram2d\":[{\"colorbar\":{\"outlinewidth\":0,\"ticks\":\"\"},\"colorscale\":[[0.0,\"#0d0887\"],[0.1111111111111111,\"#46039f\"],[0.2222222222222222,\"#7201a8\"],[0.3333333333333333,\"#9c179e\"],[0.4444444444444444,\"#bd3786\"],[0.5555555555555556,\"#d8576b\"],[0.6666666666666666,\"#ed7953\"],[0.7777777777777778,\"#fb9f3a\"],[0.8888888888888888,\"#fdca26\"],[1.0,\"#f0f921\"]],\"type\":\"histogram2d\"}],\"histogram2dcontour\":[{\"colorbar\":{\"outlinewidth\":0,\"ticks\":\"\"},\"colorscale\":[[0.0,\"#0d0887\"],[0.1111111111111111,\"#46039f\"],[0.2222222222222222,\"#7201a8\"],[0.3333333333333333,\"#9c179e\"],[0.4444444444444444,\"#bd3786\"],[0.5555555555555556,\"#d8576b\"],[0.6666666666666666,\"#ed7953\"],[0.7777777777777778,\"#fb9f3a\"],[0.8888888888888888,\"#fdca26\"],[1.0,\"#f0f921\"]],\"type\":\"histogram2dcontour\"}],\"mesh3d\":[{\"colorbar\":{\"outlinewidth\":0,\"ticks\":\"\"},\"type\":\"mesh3d\"}],\"parcoords\":[{\"line\":{\"colorbar\":{\"outlinewidth\":0,\"ticks\":\"\"}},\"type\":\"parcoords\"}],\"pie\":[{\"automargin\":true,\"type\":\"pie\"}],\"scatter\":[{\"marker\":{\"colorbar\":{\"outlinewidth\":0,\"ticks\":\"\"}},\"type\":\"scatter\"}],\"scatter3d\":[{\"line\":{\"colorbar\":{\"outlinewidth\":0,\"ticks\":\"\"}},\"marker\":{\"colorbar\":{\"outlinewidth\":0,\"ticks\":\"\"}},\"type\":\"scatter3d\"}],\"scattercarpet\":[{\"marker\":{\"colorbar\":{\"outlinewidth\":0,\"ticks\":\"\"}},\"type\":\"scattercarpet\"}],\"scattergeo\":[{\"marker\":{\"colorbar\":{\"outlinewidth\":0,\"ticks\":\"\"}},\"type\":\"scattergeo\"}],\"scattergl\":[{\"marker\":{\"colorbar\":{\"outlinewidth\":0,\"ticks\":\"\"}},\"type\":\"scattergl\"}],\"scattermapbox\":[{\"marker\":{\"colorbar\":{\"outlinewidth\":0,\"ticks\":\"\"}},\"type\":\"scattermapbox\"}],\"scatterpolar\":[{\"marker\":{\"colorbar\":{\"outlinewidth\":0,\"ticks\":\"\"}},\"type\":\"scatterpolar\"}],\"scatterpolargl\":[{\"marker\":{\"colorbar\":{\"outlinewidth\":0,\"ticks\":\"\"}},\"type\":\"scatterpolargl\"}],\"scatterternary\":[{\"marker\":{\"colorbar\":{\"outlinewidth\":0,\"ticks\":\"\"}},\"type\":\"scatterternary\"}],\"surface\":[{\"colorbar\":{\"outlinewidth\":0,\"ticks\":\"\"},\"colorscale\":[[0.0,\"#0d0887\"],[0.1111111111111111,\"#46039f\"],[0.2222222222222222,\"#7201a8\"],[0.3333333333333333,\"#9c179e\"],[0.4444444444444444,\"#bd3786\"],[0.5555555555555556,\"#d8576b\"],[0.6666666666666666,\"#ed7953\"],[0.7777777777777778,\"#fb9f3a\"],[0.8888888888888888,\"#fdca26\"],[1.0,\"#f0f921\"]],\"type\":\"surface\"}],\"table\":[{\"cells\":{\"fill\":{\"color\":\"#EBF0F8\"},\"line\":{\"color\":\"white\"}},\"header\":{\"fill\":{\"color\":\"#C8D4E3\"},\"line\":{\"color\":\"white\"}},\"type\":\"table\"}]},\"layout\":{\"annotationdefaults\":{\"arrowcolor\":\"#2a3f5f\",\"arrowhead\":0,\"arrowwidth\":1},\"autotypenumbers\":\"strict\",\"coloraxis\":{\"colorbar\":{\"outlinewidth\":0,\"ticks\":\"\"}},\"colorscale\":{\"diverging\":[[0,\"#8e0152\"],[0.1,\"#c51b7d\"],[0.2,\"#de77ae\"],[0.3,\"#f1b6da\"],[0.4,\"#fde0ef\"],[0.5,\"#f7f7f7\"],[0.6,\"#e6f5d0\"],[0.7,\"#b8e186\"],[0.8,\"#7fbc41\"],[0.9,\"#4d9221\"],[1,\"#276419\"]],\"sequential\":[[0.0,\"#0d0887\"],[0.1111111111111111,\"#46039f\"],[0.2222222222222222,\"#7201a8\"],[0.3333333333333333,\"#9c179e\"],[0.4444444444444444,\"#bd3786\"],[0.5555555555555556,\"#d8576b\"],[0.6666666666666666,\"#ed7953\"],[0.7777777777777778,\"#fb9f3a\"],[0.8888888888888888,\"#fdca26\"],[1.0,\"#f0f921\"]],\"sequentialminus\":[[0.0,\"#0d0887\"],[0.1111111111111111,\"#46039f\"],[0.2222222222222222,\"#7201a8\"],[0.3333333333333333,\"#9c179e\"],[0.4444444444444444,\"#bd3786\"],[0.5555555555555556,\"#d8576b\"],[0.6666666666666666,\"#ed7953\"],[0.7777777777777778,\"#fb9f3a\"],[0.8888888888888888,\"#fdca26\"],[1.0,\"#f0f921\"]]},\"colorway\":[\"#636efa\",\"#EF553B\",\"#00cc96\",\"#ab63fa\",\"#FFA15A\",\"#19d3f3\",\"#FF6692\",\"#B6E880\",\"#FF97FF\",\"#FECB52\"],\"font\":{\"color\":\"#2a3f5f\"},\"geo\":{\"bgcolor\":\"white\",\"lakecolor\":\"white\",\"landcolor\":\"#E5ECF6\",\"showlakes\":true,\"showland\":true,\"subunitcolor\":\"white\"},\"hoverlabel\":{\"align\":\"left\"},\"hovermode\":\"closest\",\"mapbox\":{\"style\":\"light\"},\"paper_bgcolor\":\"white\",\"plot_bgcolor\":\"#E5ECF6\",\"polar\":{\"angularaxis\":{\"gridcolor\":\"white\",\"linecolor\":\"white\",\"ticks\":\"\"},\"bgcolor\":\"#E5ECF6\",\"radialaxis\":{\"gridcolor\":\"white\",\"linecolor\":\"white\",\"ticks\":\"\"}},\"scene\":{\"xaxis\":{\"backgroundcolor\":\"#E5ECF6\",\"gridcolor\":\"white\",\"gridwidth\":2,\"linecolor\":\"white\",\"showbackground\":true,\"ticks\":\"\",\"zerolinecolor\":\"white\"},\"yaxis\":{\"backgroundcolor\":\"#E5ECF6\",\"gridcolor\":\"white\",\"gridwidth\":2,\"linecolor\":\"white\",\"showbackground\":true,\"ticks\":\"\",\"zerolinecolor\":\"white\"},\"zaxis\":{\"backgroundcolor\":\"#E5ECF6\",\"gridcolor\":\"white\",\"gridwidth\":2,\"linecolor\":\"white\",\"showbackground\":true,\"ticks\":\"\",\"zerolinecolor\":\"white\"}},\"shapedefaults\":{\"line\":{\"color\":\"#2a3f5f\"}},\"ternary\":{\"aaxis\":{\"gridcolor\":\"white\",\"linecolor\":\"white\",\"ticks\":\"\"},\"baxis\":{\"gridcolor\":\"white\",\"linecolor\":\"white\",\"ticks\":\"\"},\"bgcolor\":\"#E5ECF6\",\"caxis\":{\"gridcolor\":\"white\",\"linecolor\":\"white\",\"ticks\":\"\"}},\"title\":{\"x\":0.05},\"xaxis\":{\"automargin\":true,\"gridcolor\":\"white\",\"linecolor\":\"white\",\"ticks\":\"\",\"title\":{\"standoff\":15},\"zerolinecolor\":\"white\",\"zerolinewidth\":2},\"yaxis\":{\"automargin\":true,\"gridcolor\":\"white\",\"linecolor\":\"white\",\"ticks\":\"\",\"title\":{\"standoff\":15},\"zerolinecolor\":\"white\",\"zerolinewidth\":2}}},\"title\":{\"text\":\"Boolean Feature\"}},                        {\"responsive\": true}                    ).then(function(){\n",
              "                            \n",
              "var gd = document.getElementById('74b07249-2e2f-4a3e-8959-d157373067ad');\n",
              "var x = new MutationObserver(function (mutations, observer) {{\n",
              "        var display = window.getComputedStyle(gd).display;\n",
              "        if (!display || display === 'none') {{\n",
              "            console.log([gd, 'removed!']);\n",
              "            Plotly.purge(gd);\n",
              "            observer.disconnect();\n",
              "        }}\n",
              "}});\n",
              "\n",
              "// Listen for the removal of the full notebook cells\n",
              "var notebookContainer = gd.closest('#notebook-container');\n",
              "if (notebookContainer) {{\n",
              "    x.observe(notebookContainer, {childList: true});\n",
              "}}\n",
              "\n",
              "// Listen for the clearing of the current output cell\n",
              "var outputEl = gd.closest('.output');\n",
              "if (outputEl) {{\n",
              "    x.observe(outputEl, {childList: true});\n",
              "}}\n",
              "\n",
              "                        })                };                            </script>        </div>\n",
              "</body>\n",
              "</html>"
            ]
          },
          "metadata": {}
        }
      ]
    },
    {
      "cell_type": "markdown",
      "source": [
        "Dapat dilihat dari hasil EDA, Handphone pada zaman ini hampir semuanya adalah layar Touchscreen, koneksi untuk Wi-Fi, dan memiliki Bluetooth. Tidak hanya itu rata-rata Handphone memiliki GPS dan dapat memakai sinyal 3G, namun pada sinyal 4G, sebanyak 25.6% Handphone belum bisa memakai sinyal 4G"
      ],
      "metadata": {
        "id": "yYX3P9RV0ajL"
      }
    },
    {
      "cell_type": "markdown",
      "source": [
        "--------------------------------------------------------------------------------"
      ],
      "metadata": {
        "id": "i_hauR0a10Xx"
      }
    },
    {
      "cell_type": "code",
      "source": [
        "plt.figure(figsize=(18,8))\n",
        "plt5 = sns.barplot(x = \"Internal storage (GB)\",data=df_clean,y=\"Price\")\n",
        "plt.show()"
      ],
      "metadata": {
        "colab": {
          "base_uri": "https://localhost:8080/",
          "height": 497
        },
        "id": "g3DGJpgJqm5t",
        "outputId": "2279e162-8685-4a58-f49d-625797609eff"
      },
      "execution_count": 136,
      "outputs": [
        {
          "output_type": "display_data",
          "data": {
            "text/plain": [
              "<Figure size 1296x576 with 1 Axes>"
            ],
            "image/png": "[encoded data removed]"
          },
          "metadata": {
            "needs_background": "light"
          }
        }
      ]
    },
    {
      "cell_type": "markdown",
      "source": [
        "Jika dilihat dari hasil EDA, dapat dilihat bahwa Internal Storage dan Harga Handphone hampir berbanding lurus, dimana semakin besar memori penyimpanan, biasanya harga semakin mahal. dan perbandingan harga dari memori terkecil dan memori terbesar memiliki harga yang cukup jauh"
      ],
      "metadata": {
        "id": "szrRIP201ThF"
      }
    },
    {
      "cell_type": "markdown",
      "source": [
        "--------------------------------------------------------------------------------"
      ],
      "metadata": {
        "id": "cLan97fV2KGg"
      }
    },
    {
      "cell_type": "code",
      "source": [
        "plt.figure(figsize=(18,8))\n",
        "plt5 = sns.barplot(x = \"Rear camera\",data=df_clean,y=\"Brand\")\n",
        "plt.show()"
      ],
      "metadata": {
        "colab": {
          "base_uri": "https://localhost:8080/",
          "height": 497
        },
        "id": "OxtAbtXJuOOM",
        "outputId": "556d6c53-2a70-4aa3-e72c-62aca760642b"
      },
      "execution_count": 135,
      "outputs": [
        {
          "output_type": "display_data",
          "data": {
            "text/plain": [
              "<Figure size 1296x576 with 1 Axes>"
            ],
            "image/png": "[encoded data removed]"
          },
          "metadata": {
            "needs_background": "light"
          }
        }
      ]
    },
    {
      "cell_type": "markdown",
      "source": [
        "Jika kita lihat dari kamera belakang pada Handphone, Brand OnePlus memiliki kamera belakang yang paling baik, diikuti oleh Samsung di urutan kedua."
      ],
      "metadata": {
        "id": "sPfCwqDO2Npi"
      }
    },
    {
      "cell_type": "markdown",
      "source": [
        "### Numerical Columns"
      ],
      "metadata": {
        "id": "WiYJasXILDmC"
      }
    },
    {
      "cell_type": "markdown",
      "source": [
        "Memisahkan kolom numerikal pada dataset"
      ],
      "metadata": {
        "id": "LQl8HNfu2ksc"
      }
    },
    {
      "cell_type": "code",
      "source": [
        "numcol = df_eda.select_dtypes(exclude=['object']).columns.tolist()\n",
        "numcol"
      ],
      "metadata": {
        "colab": {
          "base_uri": "https://localhost:8080/"
        },
        "id": "sDJf5zwRK9eU",
        "outputId": "6e6990a3-fcf8-4e49-b87b-8ff57a05d2b5"
      },
      "execution_count": null,
      "outputs": [
        {
          "output_type": "execute_result",
          "data": {
            "text/plain": [
              "['Battery capacity (mAh)',\n",
              " 'Screen size (inches)',\n",
              " 'Resolution x',\n",
              " 'Resolution y',\n",
              " 'Processor',\n",
              " 'RAM (MB)',\n",
              " 'Internal storage (GB)',\n",
              " 'Rear camera',\n",
              " 'Front camera',\n",
              " 'Number of SIMs',\n",
              " 'Price']"
            ]
          },
          "metadata": {},
          "execution_count": 21
        }
      ]
    },
    {
      "cell_type": "code",
      "source": [
        "df_num = df_eda[numcol]"
      ],
      "metadata": {
        "id": "Q49AojlHqp4d"
      },
      "execution_count": 111,
      "outputs": []
    },
    {
      "cell_type": "markdown",
      "source": [
        "#### Heatmap Correlation for Numerical Features"
      ],
      "metadata": {
        "id": "Y8nAeJfx2s4t"
      }
    },
    {
      "cell_type": "code",
      "source": [
        "\n",
        "\n",
        "plt.figure(figsize=(30, 15))\n",
        "sns.heatmap(df_num.corr(), annot= True, vmin=0, vmax=1)\n",
        "plt.show()\n"
      ],
      "metadata": {
        "colab": {
          "base_uri": "https://localhost:8080/",
          "height": 802
        },
        "id": "geCre0K2LMFm",
        "outputId": "65c32624-7414-4ed8-9940-43bf578e82cb"
      },
      "execution_count": null,
      "outputs": [
        {
          "output_type": "display_data",
          "data": {
            "text/plain": [
              "<Figure size 2160x1080 with 2 Axes>"
            ],
            "image/png": "[encoded data removed]"
          },
          "metadata": {
            "needs_background": "light"
          }
        }
      ]
    },
    {
      "cell_type": "markdown",
      "source": [
        "berdasarkan hasil dari Heatmap Correlation, jika saya mengambil threshold sebesar 0.4, maka saya akan mengambil 6 feature yang memiliki nilai diatas o.4 karena feature tersebut memiliki pengaruh yang cukup terhadap Harga yang dimiliki suatu Handphone"
      ],
      "metadata": {
        "id": "iIqqF71g2zGG"
      }
    },
    {
      "cell_type": "code",
      "source": [
        "df_num = df_num[[ 'Price','Resolution x',\n",
        " 'Resolution y',\n",
        " 'RAM (MB)',\n",
        " 'Internal storage (GB)',\n",
        " 'Screen size (inches)',\n",
        " 'Rear camera']]"
      ],
      "metadata": {
        "id": "22OrDMooLjhB"
      },
      "execution_count": null,
      "outputs": []
    },
    {
      "cell_type": "markdown",
      "source": [
        "### Categorical Columns"
      ],
      "metadata": {
        "id": "6O9TuIJYMbGC"
      }
    },
    {
      "cell_type": "markdown",
      "source": [
        "Memisahkan kolom kategorikal pada dataset"
      ],
      "metadata": {
        "id": "AWzL9wK_3VlM"
      }
    },
    {
      "cell_type": "code",
      "source": [
        "catcol = df_eda.select_dtypes(include=['object']).columns.tolist() + ['Price']\n",
        "catcol"
      ],
      "metadata": {
        "colab": {
          "base_uri": "https://localhost:8080/"
        },
        "id": "EZoc4qFKMW_-",
        "outputId": "3622647c-ace2-46dc-b29e-14f9aa3dfd05"
      },
      "execution_count": null,
      "outputs": [
        {
          "output_type": "execute_result",
          "data": {
            "text/plain": [
              "['Brand',\n",
              " 'Touchscreen',\n",
              " 'Operating system',\n",
              " 'Wi-Fi',\n",
              " 'Bluetooth',\n",
              " 'GPS',\n",
              " '3G',\n",
              " '4G/ LTE',\n",
              " 'Price']"
            ]
          },
          "metadata": {},
          "execution_count": 24
        }
      ]
    },
    {
      "cell_type": "code",
      "source": [
        "df_cat = df_eda[catcol]"
      ],
      "metadata": {
        "id": "3W45F4ABM6uS"
      },
      "execution_count": null,
      "outputs": []
    },
    {
      "cell_type": "code",
      "source": [
        "df_cat['Brand'].unique()"
      ],
      "metadata": {
        "colab": {
          "base_uri": "https://localhost:8080/"
        },
        "id": "fujZ653-hlT3",
        "outputId": "a7985c1b-61d1-4867-b23a-4c4f3654e654"
      },
      "execution_count": null,
      "outputs": [
        {
          "output_type": "execute_result",
          "data": {
            "text/plain": [
              "array(['Others', 'OnePlus', 'Samsung', 'Motorola', 'Google', 'Apple'],\n",
              "      dtype=object)"
            ]
          },
          "metadata": {},
          "execution_count": 26
        }
      ]
    },
    {
      "cell_type": "markdown",
      "source": [
        "#### Ordinal Encoding"
      ],
      "metadata": {
        "id": "WzYi4Ou73gOP"
      }
    },
    {
      "cell_type": "markdown",
      "source": [
        "Melakukan Ordinal Encoding pada feature yang merupakan boolean feature dan feature yang memiliki Rank yaitu Brand. Rank pada Brand diurutkan berdasarkan Top Brand yang paling banyak melakukan penjualan"
      ],
      "metadata": {
        "id": "KVNGOTli3kE0"
      }
    },
    {
      "cell_type": "code",
      "source": [
        "touchscreen_cat = ['Yes', 'No']\n",
        "wifi_cat = ['Yes', 'No']\n",
        "bt_cat = ['Yes', 'No']\n",
        "gps_cat =['Yes', 'No']\n",
        "tg_cat =['Yes', 'No']\n",
        "fg_cat =['Yes', 'No']\n",
        "brand_cat = ['Apple','Samsung','Google','OnePlus', 'Motorola','Others' ]\n",
        "\n",
        "ord_enc = OrdinalEncoder(categories=[touchscreen_cat, wifi_cat, bt_cat, gps_cat, tg_cat, fg_cat,brand_cat])\n",
        "cat_ord = pd.DataFrame(ord_enc.fit_transform(df_cat[['Touchscreen', 'Wi-Fi', 'Bluetooth', 'GPS', '3G', '4G/ LTE', 'Brand']]))\n",
        "\n",
        "cat_ord.columns = ['Touchscreen', 'Wi-Fi', 'Bluetooth', 'GPS', '3G', '4G/ LTE', 'Brand']\n",
        "review = pd.concat([df_cat[['Touchscreen', 'Wi-Fi', 'Bluetooth', 'GPS', '3G', '4G/ LTE', 'Brand']].reset_index(drop=True), cat_ord], axis=1)\n",
        "\n",
        "review"
      ],
      "metadata": {
        "colab": {
          "base_uri": "https://localhost:8080/"
        },
        "id": "KJXeekHGMfa0",
        "outputId": "0f695913-083c-420c-8552-e114413509e3"
      },
      "execution_count": null,
      "outputs": [
        {
          "output_type": "execute_result",
          "data": {
            "text/plain": [
              "     Touchscreen  Wi-Fi  Bluetooth  GPS   3G  4G/ LTE     Brand  Touchscreen  \\\n",
              "0            Yes    Yes        Yes  Yes   No      Yes    Others          0.0   \n",
              "1            Yes    Yes        Yes  Yes  Yes      Yes    Others          0.0   \n",
              "2            Yes    Yes        Yes  Yes  Yes      Yes    Others          0.0   \n",
              "3            Yes    Yes        Yes  Yes  Yes       No    Others          0.0   \n",
              "4            Yes    Yes        Yes  Yes  Yes      Yes    Others          0.0   \n",
              "..           ...    ...        ...  ...  ...      ...       ...          ...   \n",
              "946          Yes    Yes        Yes  Yes  Yes      Yes    Others          0.0   \n",
              "947          Yes    Yes        Yes  Yes  Yes       No  Motorola          0.0   \n",
              "948          Yes    Yes        Yes  Yes  Yes      Yes    Others          0.0   \n",
              "949          Yes    Yes        Yes  Yes  Yes       No    Others          0.0   \n",
              "950          Yes    Yes        Yes  Yes   No       No    Others          0.0   \n",
              "\n",
              "     Wi-Fi  Bluetooth  GPS   3G  4G/ LTE  Brand  \n",
              "0      0.0        0.0  0.0  1.0      0.0    5.0  \n",
              "1      0.0        0.0  0.0  0.0      0.0    5.0  \n",
              "2      0.0        0.0  0.0  0.0      0.0    5.0  \n",
              "3      0.0        0.0  0.0  0.0      1.0    5.0  \n",
              "4      0.0        0.0  0.0  0.0      0.0    5.0  \n",
              "..     ...        ...  ...  ...      ...    ...  \n",
              "946    0.0        0.0  0.0  0.0      0.0    5.0  \n",
              "947    0.0        0.0  0.0  0.0      1.0    4.0  \n",
              "948    0.0        0.0  0.0  0.0      0.0    5.0  \n",
              "949    0.0        0.0  0.0  0.0      1.0    5.0  \n",
              "950    0.0        0.0  0.0  1.0      1.0    5.0  \n",
              "\n",
              "[951 rows x 14 columns]"
            ],
            "text/html": [
              "\n",
              "  <div id=\"df-4ddd812f-457d-4742-8e12-0993616dc9d0\">\n",
              "    <div class=\"colab-df-container\">\n",
              "      <div>\n",
              "<style scoped>\n",
              "    .dataframe tbody tr th:only-of-type {\n",
              "        vertical-align: middle;\n",
              "    }\n",
              "\n",
              "    .dataframe tbody tr th {\n",
              "        vertical-align: top;\n",
              "    }\n",
              "\n",
              "    .dataframe thead th {\n",
              "        text-align: right;\n",
              "    }\n",
              "</style>\n",
              "<table border=\"1\" class=\"dataframe\">\n",
              "  <thead>\n",
              "    <tr style=\"text-align: right;\">\n",
              "      <th></th>\n",
              "      <th>Touchscreen</th>\n",
              "      <th>Wi-Fi</th>\n",
              "      <th>Bluetooth</th>\n",
              "      <th>GPS</th>\n",
              "      <th>3G</th>\n",
              "      <th>4G/ LTE</th>\n",
              "      <th>Brand</th>\n",
              "      <th>Touchscreen</th>\n",
              "      <th>Wi-Fi</th>\n",
              "      <th>Bluetooth</th>\n",
              "      <th>GPS</th>\n",
              "      <th>3G</th>\n",
              "      <th>4G/ LTE</th>\n",
              "      <th>Brand</th>\n",
              "    </tr>\n",
              "  </thead>\n",
              "  <tbody>\n",
              "    <tr>\n",
              "      <th>0</th>\n",
              "      <td>Yes</td>\n",
              "      <td>Yes</td>\n",
              "      <td>Yes</td>\n",
              "      <td>Yes</td>\n",
              "      <td>No</td>\n",
              "      <td>Yes</td>\n",
              "      <td>Others</td>\n",
              "      <td>0.0</td>\n",
              "      <td>0.0</td>\n",
              "      <td>0.0</td>\n",
              "      <td>0.0</td>\n",
              "      <td>1.0</td>\n",
              "      <td>0.0</td>\n",
              "      <td>5.0</td>\n",
              "    </tr>\n",
              "    <tr>\n",
              "      <th>1</th>\n",
              "      <td>Yes</td>\n",
              "      <td>Yes</td>\n",
              "      <td>Yes</td>\n",
              "      <td>Yes</td>\n",
              "      <td>Yes</td>\n",
              "      <td>Yes</td>\n",
              "      <td>Others</td>\n",
              "      <td>0.0</td>\n",
              "      <td>0.0</td>\n",
              "      <td>0.0</td>\n",
              "      <td>0.0</td>\n",
              "      <td>0.0</td>\n",
              "      <td>0.0</td>\n",
              "      <td>5.0</td>\n",
              "    </tr>\n",
              "    <tr>\n",
              "      <th>2</th>\n",
              "      <td>Yes</td>\n",
              "      <td>Yes</td>\n",
              "      <td>Yes</td>\n",
              "      <td>Yes</td>\n",
              "      <td>Yes</td>\n",
              "      <td>Yes</td>\n",
              "      <td>Others</td>\n",
              "      <td>0.0</td>\n",
              "      <td>0.0</td>\n",
              "      <td>0.0</td>\n",
              "      <td>0.0</td>\n",
              "      <td>0.0</td>\n",
              "      <td>0.0</td>\n",
              "      <td>5.0</td>\n",
              "    </tr>\n",
              "    <tr>\n",
              "      <th>3</th>\n",
              "      <td>Yes</td>\n",
              "      <td>Yes</td>\n",
              "      <td>Yes</td>\n",
              "      <td>Yes</td>\n",
              "      <td>Yes</td>\n",
              "      <td>No</td>\n",
              "      <td>Others</td>\n",
              "      <td>0.0</td>\n",
              "      <td>0.0</td>\n",
              "      <td>0.0</td>\n",
              "      <td>0.0</td>\n",
              "      <td>0.0</td>\n",
              "      <td>1.0</td>\n",
              "      <td>5.0</td>\n",
              "    </tr>\n",
              "    <tr>\n",
              "      <th>4</th>\n",
              "      <td>Yes</td>\n",
              "      <td>Yes</td>\n",
              "      <td>Yes</td>\n",
              "      <td>Yes</td>\n",
              "      <td>Yes</td>\n",
              "      <td>Yes</td>\n",
              "      <td>Others</td>\n",
              "      <td>0.0</td>\n",
              "      <td>0.0</td>\n",
              "      <td>0.0</td>\n",
              "      <td>0.0</td>\n",
              "      <td>0.0</td>\n",
              "      <td>0.0</td>\n",
              "      <td>5.0</td>\n",
              "    </tr>\n",
              "    <tr>\n",
              "      <th>...</th>\n",
              "      <td>...</td>\n",
              "      <td>...</td>\n",
              "      <td>...</td>\n",
              "      <td>...</td>\n",
              "      <td>...</td>\n",
              "      <td>...</td>\n",
              "      <td>...</td>\n",
              "      <td>...</td>\n",
              "      <td>...</td>\n",
              "      <td>...</td>\n",
              "      <td>...</td>\n",
              "      <td>...</td>\n",
              "      <td>...</td>\n",
              "      <td>...</td>\n",
              "    </tr>\n",
              "    <tr>\n",
              "      <th>946</th>\n",
              "      <td>Yes</td>\n",
              "      <td>Yes</td>\n",
              "      <td>Yes</td>\n",
              "      <td>Yes</td>\n",
              "      <td>Yes</td>\n",
              "      <td>Yes</td>\n",
              "      <td>Others</td>\n",
              "      <td>0.0</td>\n",
              "      <td>0.0</td>\n",
              "      <td>0.0</td>\n",
              "      <td>0.0</td>\n",
              "      <td>0.0</td>\n",
              "      <td>0.0</td>\n",
              "      <td>5.0</td>\n",
              "    </tr>\n",
              "    <tr>\n",
              "      <th>947</th>\n",
              "      <td>Yes</td>\n",
              "      <td>Yes</td>\n",
              "      <td>Yes</td>\n",
              "      <td>Yes</td>\n",
              "      <td>Yes</td>\n",
              "      <td>No</td>\n",
              "      <td>Motorola</td>\n",
              "      <td>0.0</td>\n",
              "      <td>0.0</td>\n",
              "      <td>0.0</td>\n",
              "      <td>0.0</td>\n",
              "      <td>0.0</td>\n",
              "      <td>1.0</td>\n",
              "      <td>4.0</td>\n",
              "    </tr>\n",
              "    <tr>\n",
              "      <th>948</th>\n",
              "      <td>Yes</td>\n",
              "      <td>Yes</td>\n",
              "      <td>Yes</td>\n",
              "      <td>Yes</td>\n",
              "      <td>Yes</td>\n",
              "      <td>Yes</td>\n",
              "      <td>Others</td>\n",
              "      <td>0.0</td>\n",
              "      <td>0.0</td>\n",
              "      <td>0.0</td>\n",
              "      <td>0.0</td>\n",
              "      <td>0.0</td>\n",
              "      <td>0.0</td>\n",
              "      <td>5.0</td>\n",
              "    </tr>\n",
              "    <tr>\n",
              "      <th>949</th>\n",
              "      <td>Yes</td>\n",
              "      <td>Yes</td>\n",
              "      <td>Yes</td>\n",
              "      <td>Yes</td>\n",
              "      <td>Yes</td>\n",
              "      <td>No</td>\n",
              "      <td>Others</td>\n",
              "      <td>0.0</td>\n",
              "      <td>0.0</td>\n",
              "      <td>0.0</td>\n",
              "      <td>0.0</td>\n",
              "      <td>0.0</td>\n",
              "      <td>1.0</td>\n",
              "      <td>5.0</td>\n",
              "    </tr>\n",
              "    <tr>\n",
              "      <th>950</th>\n",
              "      <td>Yes</td>\n",
              "      <td>Yes</td>\n",
              "      <td>Yes</td>\n",
              "      <td>Yes</td>\n",
              "      <td>No</td>\n",
              "      <td>No</td>\n",
              "      <td>Others</td>\n",
              "      <td>0.0</td>\n",
              "      <td>0.0</td>\n",
              "      <td>0.0</td>\n",
              "      <td>0.0</td>\n",
              "      <td>1.0</td>\n",
              "      <td>1.0</td>\n",
              "      <td>5.0</td>\n",
              "    </tr>\n",
              "  </tbody>\n",
              "</table>\n",
              "<p>951 rows × 14 columns</p>\n",
              "</div>\n",
              "      <button class=\"colab-df-convert\" onclick=\"convertToInteractive('df-4ddd812f-457d-4742-8e12-0993616dc9d0')\"\n",
              "              title=\"Convert this dataframe to an interactive table.\"\n",
              "              style=\"display:none;\">\n",
              "        \n",
              "  <svg xmlns=\"http://www.w3.org/2000/svg\" height=\"24px\"viewBox=\"0 0 24 24\"\n",
              "       width=\"24px\">\n",
              "    <path d=\"M0 0h24v24H0V0z\" fill=\"none\"/>\n",
              "    <path d=\"M18.56 5.44l.94 2.06.94-2.06 2.06-.94-2.06-.94-.94-2.06-.94 2.06-2.06.94zm-11 1L8.5 8.5l.94-2.06 2.06-.94-2.06-.94L8.5 2.5l-.94 2.06-2.06.94zm10 10l.94 2.06.94-2.06 2.06-.94-2.06-.94-.94-2.06-.94 2.06-2.06.94z\"/><path d=\"M17.41 7.96l-1.37-1.37c-.4-.4-.92-.59-1.43-.59-.52 0-1.04.2-1.43.59L10.3 9.45l-7.72 7.72c-.78.78-.78 2.05 0 2.83L4 21.41c.39.39.9.59 1.41.59.51 0 1.02-.2 1.41-.59l7.78-7.78 2.81-2.81c.8-.78.8-2.07 0-2.86zM5.41 20L4 18.59l7.72-7.72 1.47 1.35L5.41 20z\"/>\n",
              "  </svg>\n",
              "      </button>\n",
              "      \n",
              "  <style>\n",
              "    .colab-df-container {\n",
              "      display:flex;\n",
              "      flex-wrap:wrap;\n",
              "      gap: 12px;\n",
              "    }\n",
              "\n",
              "    .colab-df-convert {\n",
              "      background-color: #E8F0FE;\n",
              "      border: none;\n",
              "      border-radius: 50%;\n",
              "      cursor: pointer;\n",
              "      display: none;\n",
              "      fill: #1967D2;\n",
              "      height: 32px;\n",
              "      padding: 0 0 0 0;\n",
              "      width: 32px;\n",
              "    }\n",
              "\n",
              "    .colab-df-convert:hover {\n",
              "      background-color: #E2EBFA;\n",
              "      box-shadow: 0px 1px 2px rgba(60, 64, 67, 0.3), 0px 1px 3px 1px rgba(60, 64, 67, 0.15);\n",
              "      fill: #174EA6;\n",
              "    }\n",
              "\n",
              "    [theme=dark] .colab-df-convert {\n",
              "      background-color: #3B4455;\n",
              "      fill: #D2E3FC;\n",
              "    }\n",
              "\n",
              "    [theme=dark] .colab-df-convert:hover {\n",
              "      background-color: #434B5C;\n",
              "      box-shadow: 0px 1px 3px 1px rgba(0, 0, 0, 0.15);\n",
              "      filter: drop-shadow(0px 1px 2px rgba(0, 0, 0, 0.3));\n",
              "      fill: #FFFFFF;\n",
              "    }\n",
              "  </style>\n",
              "\n",
              "      <script>\n",
              "        const buttonEl =\n",
              "          document.querySelector('#df-4ddd812f-457d-4742-8e12-0993616dc9d0 button.colab-df-convert');\n",
              "        buttonEl.style.display =\n",
              "          google.colab.kernel.accessAllowed ? 'block' : 'none';\n",
              "\n",
              "        async function convertToInteractive(key) {\n",
              "          const element = document.querySelector('#df-4ddd812f-457d-4742-8e12-0993616dc9d0');\n",
              "          const dataTable =\n",
              "            await google.colab.kernel.invokeFunction('convertToInteractive',\n",
              "                                                     [key], {});\n",
              "          if (!dataTable) return;\n",
              "\n",
              "          const docLinkHtml = 'Like what you see? Visit the ' +\n",
              "            '<a target=\"_blank\" href=https://colab.research.google.com/notebooks/data_table.ipynb>data table notebook</a>'\n",
              "            + ' to learn more about interactive tables.';\n",
              "          element.innerHTML = '';\n",
              "          dataTable['output_type'] = 'display_data';\n",
              "          await google.colab.output.renderOutput(dataTable, element);\n",
              "          const docLink = document.createElement('div');\n",
              "          docLink.innerHTML = docLinkHtml;\n",
              "          element.appendChild(docLink);\n",
              "        }\n",
              "      </script>\n",
              "    </div>\n",
              "  </div>\n",
              "  "
            ]
          },
          "metadata": {},
          "execution_count": 27
        }
      ]
    },
    {
      "cell_type": "markdown",
      "source": [
        "#### One Hot Encoding"
      ],
      "metadata": {
        "id": "8EEgXtLL3zWV"
      }
    },
    {
      "cell_type": "markdown",
      "source": [
        "Melakukan One Hot Encoding pada kolom 'Operating system'"
      ],
      "metadata": {
        "id": "_KeVWzo131NZ"
      }
    },
    {
      "cell_type": "code",
      "source": [
        "ohe_enc = OneHotEncoder(sparse=False, handle_unknown='ignore')\n",
        "\n",
        "cat_ohe = pd.DataFrame(ohe_enc.fit_transform(df_cat[['Operating system']]))\n",
        "cat_ohe.columns = ohe_enc.get_feature_names(['Operating system'])\n",
        "\n",
        "review = pd.concat([df_cat[['Operating system']].reset_index(drop=True), cat_ohe], axis=1)\n",
        "review"
      ],
      "metadata": {
        "colab": {
          "base_uri": "https://localhost:8080/"
        },
        "id": "iRkTALtyNHTt",
        "outputId": "1625d14d-e29c-4b33-eef8-265753201d07"
      },
      "execution_count": null,
      "outputs": [
        {
          "output_type": "execute_result",
          "data": {
            "text/plain": [
              "    Operating system  Operating system_Android  Operating system_BlackBerry  \\\n",
              "0            Android                       1.0                          0.0   \n",
              "1            Android                       1.0                          0.0   \n",
              "2            Android                       1.0                          0.0   \n",
              "3            Android                       1.0                          0.0   \n",
              "4            Android                       1.0                          0.0   \n",
              "..               ...                       ...                          ...   \n",
              "946          Android                       1.0                          0.0   \n",
              "947          Android                       1.0                          0.0   \n",
              "948          Android                       1.0                          0.0   \n",
              "949          Android                       1.0                          0.0   \n",
              "950          Android                       1.0                          0.0   \n",
              "\n",
              "     Operating system_Cyanogen  Operating system_Sailfish  \\\n",
              "0                          0.0                        0.0   \n",
              "1                          0.0                        0.0   \n",
              "2                          0.0                        0.0   \n",
              "3                          0.0                        0.0   \n",
              "4                          0.0                        0.0   \n",
              "..                         ...                        ...   \n",
              "946                        0.0                        0.0   \n",
              "947                        0.0                        0.0   \n",
              "948                        0.0                        0.0   \n",
              "949                        0.0                        0.0   \n",
              "950                        0.0                        0.0   \n",
              "\n",
              "     Operating system_Tizen  Operating system_Windows  Operating system_iOS  \n",
              "0                       0.0                       0.0                   0.0  \n",
              "1                       0.0                       0.0                   0.0  \n",
              "2                       0.0                       0.0                   0.0  \n",
              "3                       0.0                       0.0                   0.0  \n",
              "4                       0.0                       0.0                   0.0  \n",
              "..                      ...                       ...                   ...  \n",
              "946                     0.0                       0.0                   0.0  \n",
              "947                     0.0                       0.0                   0.0  \n",
              "948                     0.0                       0.0                   0.0  \n",
              "949                     0.0                       0.0                   0.0  \n",
              "950                     0.0                       0.0                   0.0  \n",
              "\n",
              "[951 rows x 8 columns]"
            ],
            "text/html": [
              "\n",
              "  <div id=\"df-d190f187-e912-4a20-baf2-a812748a8af4\">\n",
              "    <div class=\"colab-df-container\">\n",
              "      <div>\n",
              "<style scoped>\n",
              "    .dataframe tbody tr th:only-of-type {\n",
              "        vertical-align: middle;\n",
              "    }\n",
              "\n",
              "    .dataframe tbody tr th {\n",
              "        vertical-align: top;\n",
              "    }\n",
              "\n",
              "    .dataframe thead th {\n",
              "        text-align: right;\n",
              "    }\n",
              "</style>\n",
              "<table border=\"1\" class=\"dataframe\">\n",
              "  <thead>\n",
              "    <tr style=\"text-align: right;\">\n",
              "      <th></th>\n",
              "      <th>Operating system</th>\n",
              "      <th>Operating system_Android</th>\n",
              "      <th>Operating system_BlackBerry</th>\n",
              "      <th>Operating system_Cyanogen</th>\n",
              "      <th>Operating system_Sailfish</th>\n",
              "      <th>Operating system_Tizen</th>\n",
              "      <th>Operating system_Windows</th>\n",
              "      <th>Operating system_iOS</th>\n",
              "    </tr>\n",
              "  </thead>\n",
              "  <tbody>\n",
              "    <tr>\n",
              "      <th>0</th>\n",
              "      <td>Android</td>\n",
              "      <td>1.0</td>\n",
              "      <td>0.0</td>\n",
              "      <td>0.0</td>\n",
              "      <td>0.0</td>\n",
              "      <td>0.0</td>\n",
              "      <td>0.0</td>\n",
              "      <td>0.0</td>\n",
              "    </tr>\n",
              "    <tr>\n",
              "      <th>1</th>\n",
              "      <td>Android</td>\n",
              "      <td>1.0</td>\n",
              "      <td>0.0</td>\n",
              "      <td>0.0</td>\n",
              "      <td>0.0</td>\n",
              "      <td>0.0</td>\n",
              "      <td>0.0</td>\n",
              "      <td>0.0</td>\n",
              "    </tr>\n",
              "    <tr>\n",
              "      <th>2</th>\n",
              "      <td>Android</td>\n",
              "      <td>1.0</td>\n",
              "      <td>0.0</td>\n",
              "      <td>0.0</td>\n",
              "      <td>0.0</td>\n",
              "      <td>0.0</td>\n",
              "      <td>0.0</td>\n",
              "      <td>0.0</td>\n",
              "    </tr>\n",
              "    <tr>\n",
              "      <th>3</th>\n",
              "      <td>Android</td>\n",
              "      <td>1.0</td>\n",
              "      <td>0.0</td>\n",
              "      <td>0.0</td>\n",
              "      <td>0.0</td>\n",
              "      <td>0.0</td>\n",
              "      <td>0.0</td>\n",
              "      <td>0.0</td>\n",
              "    </tr>\n",
              "    <tr>\n",
              "      <th>4</th>\n",
              "      <td>Android</td>\n",
              "      <td>1.0</td>\n",
              "      <td>0.0</td>\n",
              "      <td>0.0</td>\n",
              "      <td>0.0</td>\n",
              "      <td>0.0</td>\n",
              "      <td>0.0</td>\n",
              "      <td>0.0</td>\n",
              "    </tr>\n",
              "    <tr>\n",
              "      <th>...</th>\n",
              "      <td>...</td>\n",
              "      <td>...</td>\n",
              "      <td>...</td>\n",
              "      <td>...</td>\n",
              "      <td>...</td>\n",
              "      <td>...</td>\n",
              "      <td>...</td>\n",
              "      <td>...</td>\n",
              "    </tr>\n",
              "    <tr>\n",
              "      <th>946</th>\n",
              "      <td>Android</td>\n",
              "      <td>1.0</td>\n",
              "      <td>0.0</td>\n",
              "      <td>0.0</td>\n",
              "      <td>0.0</td>\n",
              "      <td>0.0</td>\n",
              "      <td>0.0</td>\n",
              "      <td>0.0</td>\n",
              "    </tr>\n",
              "    <tr>\n",
              "      <th>947</th>\n",
              "      <td>Android</td>\n",
              "      <td>1.0</td>\n",
              "      <td>0.0</td>\n",
              "      <td>0.0</td>\n",
              "      <td>0.0</td>\n",
              "      <td>0.0</td>\n",
              "      <td>0.0</td>\n",
              "      <td>0.0</td>\n",
              "    </tr>\n",
              "    <tr>\n",
              "      <th>948</th>\n",
              "      <td>Android</td>\n",
              "      <td>1.0</td>\n",
              "      <td>0.0</td>\n",
              "      <td>0.0</td>\n",
              "      <td>0.0</td>\n",
              "      <td>0.0</td>\n",
              "      <td>0.0</td>\n",
              "      <td>0.0</td>\n",
              "    </tr>\n",
              "    <tr>\n",
              "      <th>949</th>\n",
              "      <td>Android</td>\n",
              "      <td>1.0</td>\n",
              "      <td>0.0</td>\n",
              "      <td>0.0</td>\n",
              "      <td>0.0</td>\n",
              "      <td>0.0</td>\n",
              "      <td>0.0</td>\n",
              "      <td>0.0</td>\n",
              "    </tr>\n",
              "    <tr>\n",
              "      <th>950</th>\n",
              "      <td>Android</td>\n",
              "      <td>1.0</td>\n",
              "      <td>0.0</td>\n",
              "      <td>0.0</td>\n",
              "      <td>0.0</td>\n",
              "      <td>0.0</td>\n",
              "      <td>0.0</td>\n",
              "      <td>0.0</td>\n",
              "    </tr>\n",
              "  </tbody>\n",
              "</table>\n",
              "<p>951 rows × 8 columns</p>\n",
              "</div>\n",
              "      <button class=\"colab-df-convert\" onclick=\"convertToInteractive('df-d190f187-e912-4a20-baf2-a812748a8af4')\"\n",
              "              title=\"Convert this dataframe to an interactive table.\"\n",
              "              style=\"display:none;\">\n",
              "        \n",
              "  <svg xmlns=\"http://www.w3.org/2000/svg\" height=\"24px\"viewBox=\"0 0 24 24\"\n",
              "       width=\"24px\">\n",
              "    <path d=\"M0 0h24v24H0V0z\" fill=\"none\"/>\n",
              "    <path d=\"M18.56 5.44l.94 2.06.94-2.06 2.06-.94-2.06-.94-.94-2.06-.94 2.06-2.06.94zm-11 1L8.5 8.5l.94-2.06 2.06-.94-2.06-.94L8.5 2.5l-.94 2.06-2.06.94zm10 10l.94 2.06.94-2.06 2.06-.94-2.06-.94-.94-2.06-.94 2.06-2.06.94z\"/><path d=\"M17.41 7.96l-1.37-1.37c-.4-.4-.92-.59-1.43-.59-.52 0-1.04.2-1.43.59L10.3 9.45l-7.72 7.72c-.78.78-.78 2.05 0 2.83L4 21.41c.39.39.9.59 1.41.59.51 0 1.02-.2 1.41-.59l7.78-7.78 2.81-2.81c.8-.78.8-2.07 0-2.86zM5.41 20L4 18.59l7.72-7.72 1.47 1.35L5.41 20z\"/>\n",
              "  </svg>\n",
              "      </button>\n",
              "      \n",
              "  <style>\n",
              "    .colab-df-container {\n",
              "      display:flex;\n",
              "      flex-wrap:wrap;\n",
              "      gap: 12px;\n",
              "    }\n",
              "\n",
              "    .colab-df-convert {\n",
              "      background-color: #E8F0FE;\n",
              "      border: none;\n",
              "      border-radius: 50%;\n",
              "      cursor: pointer;\n",
              "      display: none;\n",
              "      fill: #1967D2;\n",
              "      height: 32px;\n",
              "      padding: 0 0 0 0;\n",
              "      width: 32px;\n",
              "    }\n",
              "\n",
              "    .colab-df-convert:hover {\n",
              "      background-color: #E2EBFA;\n",
              "      box-shadow: 0px 1px 2px rgba(60, 64, 67, 0.3), 0px 1px 3px 1px rgba(60, 64, 67, 0.15);\n",
              "      fill: #174EA6;\n",
              "    }\n",
              "\n",
              "    [theme=dark] .colab-df-convert {\n",
              "      background-color: #3B4455;\n",
              "      fill: #D2E3FC;\n",
              "    }\n",
              "\n",
              "    [theme=dark] .colab-df-convert:hover {\n",
              "      background-color: #434B5C;\n",
              "      box-shadow: 0px 1px 3px 1px rgba(0, 0, 0, 0.15);\n",
              "      filter: drop-shadow(0px 1px 2px rgba(0, 0, 0, 0.3));\n",
              "      fill: #FFFFFF;\n",
              "    }\n",
              "  </style>\n",
              "\n",
              "      <script>\n",
              "        const buttonEl =\n",
              "          document.querySelector('#df-d190f187-e912-4a20-baf2-a812748a8af4 button.colab-df-convert');\n",
              "        buttonEl.style.display =\n",
              "          google.colab.kernel.accessAllowed ? 'block' : 'none';\n",
              "\n",
              "        async function convertToInteractive(key) {\n",
              "          const element = document.querySelector('#df-d190f187-e912-4a20-baf2-a812748a8af4');\n",
              "          const dataTable =\n",
              "            await google.colab.kernel.invokeFunction('convertToInteractive',\n",
              "                                                     [key], {});\n",
              "          if (!dataTable) return;\n",
              "\n",
              "          const docLinkHtml = 'Like what you see? Visit the ' +\n",
              "            '<a target=\"_blank\" href=https://colab.research.google.com/notebooks/data_table.ipynb>data table notebook</a>'\n",
              "            + ' to learn more about interactive tables.';\n",
              "          element.innerHTML = '';\n",
              "          dataTable['output_type'] = 'display_data';\n",
              "          await google.colab.output.renderOutput(dataTable, element);\n",
              "          const docLink = document.createElement('div');\n",
              "          docLink.innerHTML = docLinkHtml;\n",
              "          element.appendChild(docLink);\n",
              "        }\n",
              "      </script>\n",
              "    </div>\n",
              "  </div>\n",
              "  "
            ]
          },
          "metadata": {},
          "execution_count": 28
        }
      ]
    },
    {
      "cell_type": "markdown",
      "source": [
        "Menggabungkan beberapa dataframe yang sudah diolah menjadi sebuah dataframe baru yang akan digunakan untuk feature selection menggunakan heatmap correlation"
      ],
      "metadata": {
        "id": "vvYmxrMP38-6"
      }
    },
    {
      "cell_type": "code",
      "source": [
        "df_final = pd.concat([df_num.reset_index(drop=True), cat_ohe, cat_ord], axis=1)\n",
        "df_final.head()"
      ],
      "metadata": {
        "colab": {
          "base_uri": "https://localhost:8080/"
        },
        "id": "tc69WpyUNJAy",
        "outputId": "ebb0c4b5-b712-4822-a85e-7ceffbb3aa56"
      },
      "execution_count": null,
      "outputs": [
        {
          "output_type": "execute_result",
          "data": {
            "text/plain": [
              "   Price  Resolution x  Resolution y  RAM (MB)  Internal storage (GB)  \\\n",
              "0   8666           720          1280      3000                   32.0   \n",
              "1   4999           720          1440      2000                   16.0   \n",
              "2  14980           720          1280      3000                   32.0   \n",
              "3   5499           720          1280      2000                   16.0   \n",
              "4   4672           480           854      1000                    8.0   \n",
              "\n",
              "   Screen size (inches)  Rear camera  Operating system_Android  \\\n",
              "0                  5.20         13.0                       1.0   \n",
              "1                  5.45         13.0                       1.0   \n",
              "2                  5.00         13.0                       1.0   \n",
              "3                  5.00          8.0                       1.0   \n",
              "4                  4.50          5.0                       1.0   \n",
              "\n",
              "   Operating system_BlackBerry  Operating system_Cyanogen  ...  \\\n",
              "0                          0.0                        0.0  ...   \n",
              "1                          0.0                        0.0  ...   \n",
              "2                          0.0                        0.0  ...   \n",
              "3                          0.0                        0.0  ...   \n",
              "4                          0.0                        0.0  ...   \n",
              "\n",
              "   Operating system_Tizen  Operating system_Windows  Operating system_iOS  \\\n",
              "0                     0.0                       0.0                   0.0   \n",
              "1                     0.0                       0.0                   0.0   \n",
              "2                     0.0                       0.0                   0.0   \n",
              "3                     0.0                       0.0                   0.0   \n",
              "4                     0.0                       0.0                   0.0   \n",
              "\n",
              "   Touchscreen  Wi-Fi  Bluetooth  GPS   3G  4G/ LTE  Brand  \n",
              "0          0.0    0.0        0.0  0.0  1.0      0.0    5.0  \n",
              "1          0.0    0.0        0.0  0.0  0.0      0.0    5.0  \n",
              "2          0.0    0.0        0.0  0.0  0.0      0.0    5.0  \n",
              "3          0.0    0.0        0.0  0.0  0.0      1.0    5.0  \n",
              "4          0.0    0.0        0.0  0.0  0.0      0.0    5.0  \n",
              "\n",
              "[5 rows x 21 columns]"
            ],
            "text/html": [
              "\n",
              "  <div id=\"df-b1d1bb31-39ba-4d86-8e85-53513ae3874e\">\n",
              "    <div class=\"colab-df-container\">\n",
              "      <div>\n",
              "<style scoped>\n",
              "    .dataframe tbody tr th:only-of-type {\n",
              "        vertical-align: middle;\n",
              "    }\n",
              "\n",
              "    .dataframe tbody tr th {\n",
              "        vertical-align: top;\n",
              "    }\n",
              "\n",
              "    .dataframe thead th {\n",
              "        text-align: right;\n",
              "    }\n",
              "</style>\n",
              "<table border=\"1\" class=\"dataframe\">\n",
              "  <thead>\n",
              "    <tr style=\"text-align: right;\">\n",
              "      <th></th>\n",
              "      <th>Price</th>\n",
              "      <th>Resolution x</th>\n",
              "      <th>Resolution y</th>\n",
              "      <th>RAM (MB)</th>\n",
              "      <th>Internal storage (GB)</th>\n",
              "      <th>Screen size (inches)</th>\n",
              "      <th>Rear camera</th>\n",
              "      <th>Operating system_Android</th>\n",
              "      <th>Operating system_BlackBerry</th>\n",
              "      <th>Operating system_Cyanogen</th>\n",
              "      <th>...</th>\n",
              "      <th>Operating system_Tizen</th>\n",
              "      <th>Operating system_Windows</th>\n",
              "      <th>Operating system_iOS</th>\n",
              "      <th>Touchscreen</th>\n",
              "      <th>Wi-Fi</th>\n",
              "      <th>Bluetooth</th>\n",
              "      <th>GPS</th>\n",
              "      <th>3G</th>\n",
              "      <th>4G/ LTE</th>\n",
              "      <th>Brand</th>\n",
              "    </tr>\n",
              "  </thead>\n",
              "  <tbody>\n",
              "    <tr>\n",
              "      <th>0</th>\n",
              "      <td>8666</td>\n",
              "      <td>720</td>\n",
              "      <td>1280</td>\n",
              "      <td>3000</td>\n",
              "      <td>32.0</td>\n",
              "      <td>5.20</td>\n",
              "      <td>13.0</td>\n",
              "      <td>1.0</td>\n",
              "      <td>0.0</td>\n",
              "      <td>0.0</td>\n",
              "      <td>...</td>\n",
              "      <td>0.0</td>\n",
              "      <td>0.0</td>\n",
              "      <td>0.0</td>\n",
              "      <td>0.0</td>\n",
              "      <td>0.0</td>\n",
              "      <td>0.0</td>\n",
              "      <td>0.0</td>\n",
              "      <td>1.0</td>\n",
              "      <td>0.0</td>\n",
              "      <td>5.0</td>\n",
              "    </tr>\n",
              "    <tr>\n",
              "      <th>1</th>\n",
              "      <td>4999</td>\n",
              "      <td>720</td>\n",
              "      <td>1440</td>\n",
              "      <td>2000</td>\n",
              "      <td>16.0</td>\n",
              "      <td>5.45</td>\n",
              "      <td>13.0</td>\n",
              "      <td>1.0</td>\n",
              "      <td>0.0</td>\n",
              "      <td>0.0</td>\n",
              "      <td>...</td>\n",
              "      <td>0.0</td>\n",
              "      <td>0.0</td>\n",
              "      <td>0.0</td>\n",
              "      <td>0.0</td>\n",
              "      <td>0.0</td>\n",
              "      <td>0.0</td>\n",
              "      <td>0.0</td>\n",
              "      <td>0.0</td>\n",
              "      <td>0.0</td>\n",
              "      <td>5.0</td>\n",
              "    </tr>\n",
              "    <tr>\n",
              "      <th>2</th>\n",
              "      <td>14980</td>\n",
              "      <td>720</td>\n",
              "      <td>1280</td>\n",
              "      <td>3000</td>\n",
              "      <td>32.0</td>\n",
              "      <td>5.00</td>\n",
              "      <td>13.0</td>\n",
              "      <td>1.0</td>\n",
              "      <td>0.0</td>\n",
              "      <td>0.0</td>\n",
              "      <td>...</td>\n",
              "      <td>0.0</td>\n",
              "      <td>0.0</td>\n",
              "      <td>0.0</td>\n",
              "      <td>0.0</td>\n",
              "      <td>0.0</td>\n",
              "      <td>0.0</td>\n",
              "      <td>0.0</td>\n",
              "      <td>0.0</td>\n",
              "      <td>0.0</td>\n",
              "      <td>5.0</td>\n",
              "    </tr>\n",
              "    <tr>\n",
              "      <th>3</th>\n",
              "      <td>5499</td>\n",
              "      <td>720</td>\n",
              "      <td>1280</td>\n",
              "      <td>2000</td>\n",
              "      <td>16.0</td>\n",
              "      <td>5.00</td>\n",
              "      <td>8.0</td>\n",
              "      <td>1.0</td>\n",
              "      <td>0.0</td>\n",
              "      <td>0.0</td>\n",
              "      <td>...</td>\n",
              "      <td>0.0</td>\n",
              "      <td>0.0</td>\n",
              "      <td>0.0</td>\n",
              "      <td>0.0</td>\n",
              "      <td>0.0</td>\n",
              "      <td>0.0</td>\n",
              "      <td>0.0</td>\n",
              "      <td>0.0</td>\n",
              "      <td>1.0</td>\n",
              "      <td>5.0</td>\n",
              "    </tr>\n",
              "    <tr>\n",
              "      <th>4</th>\n",
              "      <td>4672</td>\n",
              "      <td>480</td>\n",
              "      <td>854</td>\n",
              "      <td>1000</td>\n",
              "      <td>8.0</td>\n",
              "      <td>4.50</td>\n",
              "      <td>5.0</td>\n",
              "      <td>1.0</td>\n",
              "      <td>0.0</td>\n",
              "      <td>0.0</td>\n",
              "      <td>...</td>\n",
              "      <td>0.0</td>\n",
              "      <td>0.0</td>\n",
              "      <td>0.0</td>\n",
              "      <td>0.0</td>\n",
              "      <td>0.0</td>\n",
              "      <td>0.0</td>\n",
              "      <td>0.0</td>\n",
              "      <td>0.0</td>\n",
              "      <td>0.0</td>\n",
              "      <td>5.0</td>\n",
              "    </tr>\n",
              "  </tbody>\n",
              "</table>\n",
              "<p>5 rows × 21 columns</p>\n",
              "</div>\n",
              "      <button class=\"colab-df-convert\" onclick=\"convertToInteractive('df-b1d1bb31-39ba-4d86-8e85-53513ae3874e')\"\n",
              "              title=\"Convert this dataframe to an interactive table.\"\n",
              "              style=\"display:none;\">\n",
              "        \n",
              "  <svg xmlns=\"http://www.w3.org/2000/svg\" height=\"24px\"viewBox=\"0 0 24 24\"\n",
              "       width=\"24px\">\n",
              "    <path d=\"M0 0h24v24H0V0z\" fill=\"none\"/>\n",
              "    <path d=\"M18.56 5.44l.94 2.06.94-2.06 2.06-.94-2.06-.94-.94-2.06-.94 2.06-2.06.94zm-11 1L8.5 8.5l.94-2.06 2.06-.94-2.06-.94L8.5 2.5l-.94 2.06-2.06.94zm10 10l.94 2.06.94-2.06 2.06-.94-2.06-.94-.94-2.06-.94 2.06-2.06.94z\"/><path d=\"M17.41 7.96l-1.37-1.37c-.4-.4-.92-.59-1.43-.59-.52 0-1.04.2-1.43.59L10.3 9.45l-7.72 7.72c-.78.78-.78 2.05 0 2.83L4 21.41c.39.39.9.59 1.41.59.51 0 1.02-.2 1.41-.59l7.78-7.78 2.81-2.81c.8-.78.8-2.07 0-2.86zM5.41 20L4 18.59l7.72-7.72 1.47 1.35L5.41 20z\"/>\n",
              "  </svg>\n",
              "      </button>\n",
              "      \n",
              "  <style>\n",
              "    .colab-df-container {\n",
              "      display:flex;\n",
              "      flex-wrap:wrap;\n",
              "      gap: 12px;\n",
              "    }\n",
              "\n",
              "    .colab-df-convert {\n",
              "      background-color: #E8F0FE;\n",
              "      border: none;\n",
              "      border-radius: 50%;\n",
              "      cursor: pointer;\n",
              "      display: none;\n",
              "      fill: #1967D2;\n",
              "      height: 32px;\n",
              "      padding: 0 0 0 0;\n",
              "      width: 32px;\n",
              "    }\n",
              "\n",
              "    .colab-df-convert:hover {\n",
              "      background-color: #E2EBFA;\n",
              "      box-shadow: 0px 1px 2px rgba(60, 64, 67, 0.3), 0px 1px 3px 1px rgba(60, 64, 67, 0.15);\n",
              "      fill: #174EA6;\n",
              "    }\n",
              "\n",
              "    [theme=dark] .colab-df-convert {\n",
              "      background-color: #3B4455;\n",
              "      fill: #D2E3FC;\n",
              "    }\n",
              "\n",
              "    [theme=dark] .colab-df-convert:hover {\n",
              "      background-color: #434B5C;\n",
              "      box-shadow: 0px 1px 3px 1px rgba(0, 0, 0, 0.15);\n",
              "      filter: drop-shadow(0px 1px 2px rgba(0, 0, 0, 0.3));\n",
              "      fill: #FFFFFF;\n",
              "    }\n",
              "  </style>\n",
              "\n",
              "      <script>\n",
              "        const buttonEl =\n",
              "          document.querySelector('#df-b1d1bb31-39ba-4d86-8e85-53513ae3874e button.colab-df-convert');\n",
              "        buttonEl.style.display =\n",
              "          google.colab.kernel.accessAllowed ? 'block' : 'none';\n",
              "\n",
              "        async function convertToInteractive(key) {\n",
              "          const element = document.querySelector('#df-b1d1bb31-39ba-4d86-8e85-53513ae3874e');\n",
              "          const dataTable =\n",
              "            await google.colab.kernel.invokeFunction('convertToInteractive',\n",
              "                                                     [key], {});\n",
              "          if (!dataTable) return;\n",
              "\n",
              "          const docLinkHtml = 'Like what you see? Visit the ' +\n",
              "            '<a target=\"_blank\" href=https://colab.research.google.com/notebooks/data_table.ipynb>data table notebook</a>'\n",
              "            + ' to learn more about interactive tables.';\n",
              "          element.innerHTML = '';\n",
              "          dataTable['output_type'] = 'display_data';\n",
              "          await google.colab.output.renderOutput(dataTable, element);\n",
              "          const docLink = document.createElement('div');\n",
              "          docLink.innerHTML = docLinkHtml;\n",
              "          element.appendChild(docLink);\n",
              "        }\n",
              "      </script>\n",
              "    </div>\n",
              "  </div>\n",
              "  "
            ]
          },
          "metadata": {},
          "execution_count": 29
        }
      ]
    },
    {
      "cell_type": "markdown",
      "source": [
        "### Feature Selection Using Heatmap Correlation"
      ],
      "metadata": {
        "id": "_OXrnoZq4OX8"
      }
    },
    {
      "cell_type": "code",
      "source": [
        "\n",
        "fig,ax = plt.subplots(figsize=[30,15])\n",
        "\n",
        "corr = df_final.corr()\n",
        "\n",
        "ax = sns.heatmap(corr,annot=True)\n",
        "plt.show()"
      ],
      "metadata": {
        "colab": {
          "base_uri": "https://localhost:8080/"
        },
        "id": "_IKNi_2CNMkc",
        "outputId": "4c73e211-286c-4983-9d66-f0db9217d252"
      },
      "execution_count": null,
      "outputs": [
        {
          "output_type": "display_data",
          "data": {
            "text/plain": [
              "<Figure size 2160x1080 with 2 Axes>"
            ],
            "image/png": "[encoded data removed]"
          },
          "metadata": {
            "needs_background": "light"
          }
        }
      ]
    },
    {
      "cell_type": "code",
      "source": [
        "df_final.columns.tolist()"
      ],
      "metadata": {
        "colab": {
          "base_uri": "https://localhost:8080/"
        },
        "id": "t00prAGCUDYU",
        "outputId": "103b1122-3885-47d4-8db1-9074005707a1"
      },
      "execution_count": null,
      "outputs": [
        {
          "output_type": "execute_result",
          "data": {
            "text/plain": [
              "['Price',\n",
              " 'Resolution x',\n",
              " 'Resolution y',\n",
              " 'RAM (MB)',\n",
              " 'Internal storage (GB)',\n",
              " 'Screen size (inches)',\n",
              " 'Rear camera',\n",
              " 'Operating system_Android',\n",
              " 'Operating system_BlackBerry',\n",
              " 'Operating system_Cyanogen',\n",
              " 'Operating system_Sailfish',\n",
              " 'Operating system_Tizen',\n",
              " 'Operating system_Windows',\n",
              " 'Operating system_iOS',\n",
              " 'Touchscreen',\n",
              " 'Wi-Fi',\n",
              " 'Bluetooth',\n",
              " 'GPS',\n",
              " '3G',\n",
              " '4G/ LTE',\n",
              " 'Brand']"
            ]
          },
          "metadata": {},
          "execution_count": 31
        }
      ]
    },
    {
      "cell_type": "code",
      "source": [
        "df_final = df_final[[\n",
        " 'Resolution x',\n",
        " 'Resolution y',\n",
        " 'RAM (MB)',\n",
        " 'Internal storage (GB)',\n",
        " 'Screen size (inches)',\n",
        " 'Rear camera',\n",
        " 'Brand'\n",
        "]]"
      ],
      "metadata": {
        "id": "MMz5crbmVHmL"
      },
      "execution_count": null,
      "outputs": []
    },
    {
      "cell_type": "markdown",
      "source": [
        "jika dilihat dari Heatmap Correlation, berdasarkan threshold yang saya miliki yaitu 0,4 pada Numerical Features dan 0,3 pada Categorical Features. Saya akan mengambil 6 features dari numerik dan 1 feture dari kategorik"
      ],
      "metadata": {
        "id": "FhTuEJDJ4nSM"
      }
    },
    {
      "cell_type": "markdown",
      "source": [
        "### Handling Outlier"
      ],
      "metadata": {
        "id": "_YcnNyerfYql"
      }
    },
    {
      "cell_type": "markdown",
      "source": [
        "Meilihat Uique Value pada feature numerical yang sudah dipilih untuk memvalidasi apakah fitur tersebut memang bener fitur numerikal."
      ],
      "metadata": {
        "id": "i9rYCurv5BO-"
      }
    },
    {
      "cell_type": "code",
      "source": [
        "df_final['Resolution x'].unique()"
      ],
      "metadata": {
        "colab": {
          "base_uri": "https://localhost:8080/"
        },
        "id": "vLoXAVK4TANC",
        "outputId": "07125f27-d7b1-423a-8013-33b75a1a770f"
      },
      "execution_count": null,
      "outputs": [
        {
          "output_type": "execute_result",
          "data": {
            "text/plain": [
              "array([ 720,  480, 1080,  854,  560,  360, 1280,  640, 1440,  800, 1880,\n",
              "        540,  240,  768, 2160,  828, 1242,  320,  750, 1600, 1520, 1176,\n",
              "       1125,  400,  600,  850])"
            ]
          },
          "metadata": {},
          "execution_count": 32
        }
      ]
    },
    {
      "cell_type": "code",
      "source": [
        "df_final['Resolution y'].unique()"
      ],
      "metadata": {
        "colab": {
          "base_uri": "https://localhost:8080/"
        },
        "id": "OstPguM-T1ET",
        "outputId": "e435e5d8-a011-4b48-d6b2-45f2f1992f02"
      },
      "execution_count": null,
      "outputs": [
        {
          "output_type": "execute_result",
          "data": {
            "text/plain": [
              "array([1280, 1440,  854, 1920, 2340,  480,  800,  960,  640,  720, 1500,\n",
              "       2160, 2560, 2220, 1620, 2280, 1520, 2310, 1548,  320, 3120, 1080,\n",
              "       3040, 2960, 2880, 3840, 1560, 1792, 2688, 2520, 2270, 2400, 1600,\n",
              "       2316, 1498, 3200, 1334, 2246, 1480, 1544, 1290, 2436, 1136, 1580,\n",
              "        485, 2244, 2240])"
            ]
          },
          "metadata": {},
          "execution_count": 33
        }
      ]
    },
    {
      "cell_type": "code",
      "source": [
        "df_final['RAM (MB)'].unique()"
      ],
      "metadata": {
        "colab": {
          "base_uri": "https://localhost:8080/"
        },
        "id": "KjH5hrJZT5fO",
        "outputId": "41b1bb19-6f17-4893-ac38-42af74346169"
      },
      "execution_count": null,
      "outputs": [
        {
          "output_type": "execute_result",
          "data": {
            "text/plain": [
              "array([ 3000,  2000,  1000,  4000,  6000,   512,  8000,   768, 12000,\n",
              "         256,   289,    64,   384])"
            ]
          },
          "metadata": {},
          "execution_count": 34
        }
      ]
    },
    {
      "cell_type": "code",
      "source": [
        "df_final['Screen size (inches)'].unique()"
      ],
      "metadata": {
        "colab": {
          "base_uri": "https://localhost:8080/"
        },
        "id": "q483EEf2T90y",
        "outputId": "54058a2a-f54a-404d-d658-be2335e6f3a0"
      },
      "execution_count": null,
      "outputs": [
        {
          "output_type": "execute_result",
          "data": {
            "text/plain": [
              "array([5.2 , 5.45, 5.  , 4.5 , 5.5 , 6.41, 4.  , 4.3 , 6.19, 3.1 , 6.2 ,\n",
              "       6.44, 5.7 , 6.28, 6.3 , 6.  , 5.93, 6.4 , 6.22, 6.35, 5.8 , 6.59,\n",
              "       5.71, 5.99, 3.2 , 4.7 , 6.67, 5.98, 6.8 , 6.23, 5.72, 5.1 , 6.1 ,\n",
              "       6.5 , 5.4 , 5.3 , 6.08, 6.7 , 3.5 , 5.67, 6.9 , 4.95, 5.86, 6.39,\n",
              "       6.47, 6.55, 6.18, 6.52, 6.65, 4.93, 5.6 , 6.53, 4.8 , 5.96, 6.01,\n",
              "       5.65, 5.84, 6.21, 6.6 , 2.8 , 6.38, 6.26, 6.09, 3.8 , 2.44, 5.9 ,\n",
              "       4.6 , 3.  , 2.6 , 4.2 , 5.47])"
            ]
          },
          "metadata": {},
          "execution_count": 35
        }
      ]
    },
    {
      "cell_type": "code",
      "source": [
        "df_final['Internal storage (GB)'].unique()"
      ],
      "metadata": {
        "colab": {
          "base_uri": "https://localhost:8080/"
        },
        "id": "xTxTLKQzURbY",
        "outputId": "1b98e7ef-3509-43c7-c3ef-f4b826c2dad1"
      },
      "execution_count": null,
      "outputs": [
        {
          "output_type": "execute_result",
          "data": {
            "text/plain": [
              "array([3.20e+01, 1.60e+01, 8.00e+00, 6.40e+01, 1.28e+02, 4.00e+00,\n",
              "       2.56e+02, 5.12e-01, 2.00e+00, 3.00e+00, 6.40e-02, 1.60e-01,\n",
              "       1.00e+00])"
            ]
          },
          "metadata": {},
          "execution_count": 36
        }
      ]
    },
    {
      "cell_type": "code",
      "source": [
        "df['Rear camera'].unique()"
      ],
      "metadata": {
        "colab": {
          "base_uri": "https://localhost:8080/"
        },
        "id": "DeTDzqKyUfqn",
        "outputId": "1a1100ae-fe09-4683-d098-3aa4be4bacfb"
      },
      "execution_count": null,
      "outputs": [
        {
          "output_type": "execute_result",
          "data": {
            "text/plain": [
              "array([ 48. ,  64. ,  12. ,  16. ,  40. ,  12.2,  13. ,  12.3,  23. ,\n",
              "        21. ,  32. ,  24. ,  20. ,  19. ,   2. ,  18. ,   8. ,  20.7,\n",
              "         5. ,  10. ,  13.1,   8.7,   3. ,  41. ,   3.2, 108. ,  25. ,\n",
              "         0. ,  21.5,   0.3,  15. ,  13.2])"
            ]
          },
          "metadata": {},
          "execution_count": 37
        }
      ]
    },
    {
      "cell_type": "markdown",
      "source": [
        "Setelah dilihat, saya menyimpulkan bahwa 6 kolom tersebut memang benar merupakan Numerical Features, karena value nya tidak memiliki kelipatan atau urutan yang pasti dan juga pada handphone dapat dimiliki Resolusi, memori penyimpanan, RAM, ukuran layar, ataupun kamera yang bervariatif diluar dari entry data ini. Setelah memastikan bahwa feature tersebut merupakan numerical features, saya akan melakukan handling outlier pada feature tersebut."
      ],
      "metadata": {
        "id": "_5_CKrHp5WtE"
      }
    },
    {
      "cell_type": "code",
      "source": [
        "def plot_dist(df_num, col):\n",
        "    fig, axes = plt.subplots(ncols = 2, figsize = (15, 5))\n",
        "\n",
        "# histogram\n",
        "    sns.histplot(df_num[col],ax = axes[0], bins=30)\n",
        "    axes[0].set_title(f\"Histogram '{col}'\")\n",
        "    axes[0].axvline(df_num[col].mean(), color = 'red', linestyle = 'dashed', label = 'mean')\n",
        "    axes[0].axvline(df_num[col].median(), color = 'green', linestyle = 'dashed', label = 'median')\n",
        "    axes[0].legend()\n",
        "\n",
        "# boxplot\n",
        "    if df_num[col].skew() >= 1 or df_num[col].skew() <= -1 :\n",
        "        sns.boxplot(y=df_num[col], ax =  axes[1], whis=3)\n",
        "        axes[1].set_title(f\"Boxplot '{col}'\")\n",
        "    \n",
        "        plt.show()\n",
        "    else:\n",
        "        sns.boxplot(y=df_num[col], ax =  axes[1], whis=1.5)\n",
        "        axes[1].set_title(f\"Boxplot '{col}'\")\n",
        "    \n",
        "        plt.show()\n",
        "        \n",
        "# skewness\n",
        "    print(df_num[col].name + ' Skewness: ' + str(df_num[col].skew()))\n",
        "    if -0.5 <= df_num[col].skew() <= 0.5:\n",
        "        print(\"Columns '{}' normal distribution\".format(col))\n",
        "    elif df_num[col].skew() > 0.5:\n",
        "        print(\"Columns '{}' right skewed\".format(col))\n",
        "    elif df_num[col].skew() < -0.5:\n",
        "        print(\"Columns '{}' left skewed\".format(col))"
      ],
      "metadata": {
        "id": "OiWJL4yqfatd"
      },
      "execution_count": null,
      "outputs": []
    },
    {
      "cell_type": "markdown",
      "source": [
        "Melihat persebaran data dan nilai skew nya"
      ],
      "metadata": {
        "id": "Z8JQOQ51RXw6"
      }
    },
    {
      "cell_type": "code",
      "source": [
        "for i in df_num:\n",
        "  plot_dist(df_num,i)"
      ],
      "metadata": {
        "colab": {
          "base_uri": "https://localhost:8080/"
        },
        "id": "Bo2SuZAKfgDT",
        "outputId": "bdef8d8b-96a3-4cc3-fe57-9b25a819b3ab"
      },
      "execution_count": null,
      "outputs": [
        {
          "output_type": "display_data",
          "data": {
            "text/plain": [
              "<Figure size 1080x360 with 2 Axes>"
            ],
            "image/png": "[encoded data removed]"
          },
          "metadata": {
            "needs_background": "light"
          }
        },
        {
          "output_type": "stream",
          "name": "stdout",
          "text": [
            "Price Skewness: 3.4562112614549285\n",
            "Columns 'Price' right skewed\n"
          ]
        },
        {
          "output_type": "display_data",
          "data": {
            "text/plain": [
              "<Figure size 1080x360 with 2 Axes>"
            ],
            "image/png": "[encoded data removed]"
          },
          "metadata": {
            "needs_background": "light"
          }
        },
        {
          "output_type": "stream",
          "name": "stdout",
          "text": [
            "Resolution x Skewness: 0.70321051755099\n",
            "Columns 'Resolution x' right skewed\n"
          ]
        },
        {
          "output_type": "display_data",
          "data": {
            "text/plain": [
              "<Figure size 1080x360 with 2 Axes>"
            ],
            "image/png": "[encoded data removed]"
          },
          "metadata": {
            "needs_background": "light"
          }
        },
        {
          "output_type": "stream",
          "name": "stdout",
          "text": [
            "Resolution y Skewness: 0.6288746536020338\n",
            "Columns 'Resolution y' right skewed\n"
          ]
        },
        {
          "output_type": "display_data",
          "data": {
            "text/plain": [
              "<Figure size 1080x360 with 2 Axes>"
            ],
            "image/png": "[encoded data removed]"
          },
          "metadata": {
            "needs_background": "light"
          }
        },
        {
          "output_type": "stream",
          "name": "stdout",
          "text": [
            "RAM (MB) Skewness: 1.4981974607612705\n",
            "Columns 'RAM (MB)' right skewed\n"
          ]
        },
        {
          "output_type": "display_data",
          "data": {
            "text/plain": [
              "<Figure size 1080x360 with 2 Axes>"
            ],
            "image/png": "[encoded data removed]"
          },
          "metadata": {
            "needs_background": "light"
          }
        },
        {
          "output_type": "stream",
          "name": "stdout",
          "text": [
            "Internal storage (GB) Skewness: 2.9521117136130948\n",
            "Columns 'Internal storage (GB)' right skewed\n"
          ]
        },
        {
          "output_type": "display_data",
          "data": {
            "text/plain": [
              "<Figure size 1080x360 with 2 Axes>"
            ],
            "image/png": "[encoded data removed]"
          },
          "metadata": {
            "needs_background": "light"
          }
        },
        {
          "output_type": "stream",
          "name": "stdout",
          "text": [
            "Screen size (inches) Skewness: -0.30568420054878964\n",
            "Columns 'Screen size (inches)' normal distribution\n"
          ]
        },
        {
          "output_type": "display_data",
          "data": {
            "text/plain": [
              "<Figure size 1080x360 with 2 Axes>"
            ],
            "image/png": "[encoded data removed]"
          },
          "metadata": {
            "needs_background": "light"
          }
        },
        {
          "output_type": "stream",
          "name": "stdout",
          "text": [
            "Rear camera Skewness: 3.7006436276983585\n",
            "Columns 'Rear camera' right skewed\n"
          ]
        }
      ]
    },
    {
      "cell_type": "markdown",
      "source": [
        "Melihat persentase dan jumlah outlier yang dimiliki setiap feature"
      ],
      "metadata": {
        "id": "NI_PlrMBRbZe"
      }
    },
    {
      "cell_type": "code",
      "source": [
        "for k in df_num:\n",
        "\n",
        "  Q3 = df_num[k].quantile(.75)\n",
        "  Q1 = df_num[k].quantile(.15)\n",
        "\n",
        "  IQR = Q3 - Q1\n",
        "\n",
        "  upper = Q3 + (3 * IQR)\n",
        "  lower = Q1 - (3 * IQR)\n",
        "\n",
        "  outlier = df_num[(df_num[k] > upper) | (df_num[k] < lower)]\n",
        "  print(k)\n",
        "  print('count of outlier: ', outlier.shape[0])\n",
        "  print('percent k of outlier: ', outlier.shape[0]/df_num.shape[0] * 100, '%')\n",
        "  print('='*70)"
      ],
      "metadata": {
        "colab": {
          "base_uri": "https://localhost:8080/"
        },
        "id": "xavjn-fTflVx",
        "outputId": "122c4566-6ffc-4b22-b9a6-af274ceb4ea0"
      },
      "execution_count": null,
      "outputs": [
        {
          "output_type": "stream",
          "name": "stdout",
          "text": [
            "Price\n",
            "count of outlier:  39\n",
            "percent k of outlier:  4.100946372239748 %\n",
            "======================================================================\n",
            "Resolution x\n",
            "count of outlier:  0\n",
            "percent k of outlier:  0.0 %\n",
            "======================================================================\n",
            "Resolution y\n",
            "count of outlier:  0\n",
            "percent k of outlier:  0.0 %\n",
            "======================================================================\n",
            "RAM (MB)\n",
            "count of outlier:  2\n",
            "percent k of outlier:  0.2103049421661409 %\n",
            "======================================================================\n",
            "Internal storage (GB)\n",
            "count of outlier:  55\n",
            "percent k of outlier:  5.783385909568875 %\n",
            "======================================================================\n",
            "Screen size (inches)\n",
            "count of outlier:  0\n",
            "percent k of outlier:  0.0 %\n",
            "======================================================================\n",
            "Rear camera\n",
            "count of outlier:  39\n",
            "percent k of outlier:  4.100946372239748 %\n",
            "======================================================================\n"
          ]
        }
      ]
    },
    {
      "cell_type": "markdown",
      "source": [
        "Karena Persebaran datanya rata-rata merupakan Right Skew, maka saya akan melakukan capping dengan fold 3 karena rata-rata fitur memiliki nilai skew yang ekstrim yaitu diatas 1"
      ],
      "metadata": {
        "id": "jP-a5YUShRq5"
      }
    },
    {
      "cell_type": "code",
      "source": [
        "handlingout = [\n",
        " 'Resolution x',\n",
        " 'Resolution y',\n",
        " 'RAM (MB)',\n",
        " 'Internal storage (GB)',\n",
        " 'Screen size (inches)',\n",
        " 'Rear camera']\n",
        "\n",
        "wins = Winsorizer(capping_method='iqr', tail='both', fold=3.0, variables= ['Resolution x',\n",
        " 'Resolution y',\n",
        " 'RAM (MB)',\n",
        " 'Internal storage (GB)',\n",
        " 'Screen size (inches)',\n",
        " 'Rear camera'])\n",
        "\n",
        "df_final_cleaned = wins.fit_transform(df_final)\n"
      ],
      "metadata": {
        "id": "kKIOtJqqgAAx"
      },
      "execution_count": null,
      "outputs": []
    },
    {
      "cell_type": "markdown",
      "source": [
        "### MinMaxScaling"
      ],
      "metadata": {
        "id": "1rM4HDCq6TS_"
      }
    },
    {
      "cell_type": "markdown",
      "source": [
        "Melakukan MinMaxScaling karena persebaran data pada numerical feature kebanyakan merupakan distribusi data yang tidak normal"
      ],
      "metadata": {
        "id": "4zDmWOga6Wur"
      }
    },
    {
      "cell_type": "code",
      "source": [
        "scaler = MinMaxScaler()\n",
        "\n",
        "df_final_cleaned[handlingout] = scaler.fit_transform(df_final_cleaned[handlingout])"
      ],
      "metadata": {
        "id": "bQr6V4pk5893"
      },
      "execution_count": null,
      "outputs": []
    },
    {
      "cell_type": "code",
      "source": [
        "df_final_cleaned"
      ],
      "metadata": {
        "colab": {
          "base_uri": "https://localhost:8080/"
        },
        "id": "1J5deIR1iikx",
        "outputId": "4d1e746e-aedb-472c-86cf-d7346e86ea8c"
      },
      "execution_count": null,
      "outputs": [
        {
          "output_type": "execute_result",
          "data": {
            "text/plain": [
              "     Resolution x  Resolution y  RAM (MB)  Internal storage (GB)  \\\n",
              "0         0.25000      0.272727  0.328559               0.307266   \n",
              "1         0.25000      0.318182  0.216652               0.153325   \n",
              "2         0.25000      0.272727  0.328559               0.307266   \n",
              "3         0.25000      0.272727  0.216652               0.153325   \n",
              "4         0.12500      0.151705  0.104745               0.076355   \n",
              "..            ...           ...       ...                    ...   \n",
              "946       0.43750      0.454545  0.216652               0.153325   \n",
              "947       0.15625      0.181818  0.104745               0.076355   \n",
              "948       0.43750      0.454545  0.440466               0.307266   \n",
              "949       0.12500      0.151705  0.104745               0.076355   \n",
              "950       0.12500      0.151705  0.104745               0.153325   \n",
              "\n",
              "     Screen size (inches)  Rear camera  Brand  \n",
              "0                  0.5750     0.464286    5.0  \n",
              "1                  0.6375     0.464286    5.0  \n",
              "2                  0.5250     0.464286    5.0  \n",
              "3                  0.5250     0.285714    5.0  \n",
              "4                  0.4000     0.178571    5.0  \n",
              "..                    ...          ...    ...  \n",
              "946                0.7750     0.464286    5.0  \n",
              "947                0.4000     0.178571    4.0  \n",
              "948                0.5750     0.678571    5.0  \n",
              "949                0.5250     0.178571    5.0  \n",
              "950                0.5250     0.178571    5.0  \n",
              "\n",
              "[951 rows x 7 columns]"
            ],
            "text/html": [
              "\n",
              "  <div id=\"df-c6d5680d-d913-4d57-aca0-651f5d151c9b\">\n",
              "    <div class=\"colab-df-container\">\n",
              "      <div>\n",
              "<style scoped>\n",
              "    .dataframe tbody tr th:only-of-type {\n",
              "        vertical-align: middle;\n",
              "    }\n",
              "\n",
              "    .dataframe tbody tr th {\n",
              "        vertical-align: top;\n",
              "    }\n",
              "\n",
              "    .dataframe thead th {\n",
              "        text-align: right;\n",
              "    }\n",
              "</style>\n",
              "<table border=\"1\" class=\"dataframe\">\n",
              "  <thead>\n",
              "    <tr style=\"text-align: right;\">\n",
              "      <th></th>\n",
              "      <th>Resolution x</th>\n",
              "      <th>Resolution y</th>\n",
              "      <th>RAM (MB)</th>\n",
              "      <th>Internal storage (GB)</th>\n",
              "      <th>Screen size (inches)</th>\n",
              "      <th>Rear camera</th>\n",
              "      <th>Brand</th>\n",
              "    </tr>\n",
              "  </thead>\n",
              "  <tbody>\n",
              "    <tr>\n",
              "      <th>0</th>\n",
              "      <td>0.25000</td>\n",
              "      <td>0.272727</td>\n",
              "      <td>0.328559</td>\n",
              "      <td>0.307266</td>\n",
              "      <td>0.5750</td>\n",
              "      <td>0.464286</td>\n",
              "      <td>5.0</td>\n",
              "    </tr>\n",
              "    <tr>\n",
              "      <th>1</th>\n",
              "      <td>0.25000</td>\n",
              "      <td>0.318182</td>\n",
              "      <td>0.216652</td>\n",
              "      <td>0.153325</td>\n",
              "      <td>0.6375</td>\n",
              "      <td>0.464286</td>\n",
              "      <td>5.0</td>\n",
              "    </tr>\n",
              "    <tr>\n",
              "      <th>2</th>\n",
              "      <td>0.25000</td>\n",
              "      <td>0.272727</td>\n",
              "      <td>0.328559</td>\n",
              "      <td>0.307266</td>\n",
              "      <td>0.5250</td>\n",
              "      <td>0.464286</td>\n",
              "      <td>5.0</td>\n",
              "    </tr>\n",
              "    <tr>\n",
              "      <th>3</th>\n",
              "      <td>0.25000</td>\n",
              "      <td>0.272727</td>\n",
              "      <td>0.216652</td>\n",
              "      <td>0.153325</td>\n",
              "      <td>0.5250</td>\n",
              "      <td>0.285714</td>\n",
              "      <td>5.0</td>\n",
              "    </tr>\n",
              "    <tr>\n",
              "      <th>4</th>\n",
              "      <td>0.12500</td>\n",
              "      <td>0.151705</td>\n",
              "      <td>0.104745</td>\n",
              "      <td>0.076355</td>\n",
              "      <td>0.4000</td>\n",
              "      <td>0.178571</td>\n",
              "      <td>5.0</td>\n",
              "    </tr>\n",
              "    <tr>\n",
              "      <th>...</th>\n",
              "      <td>...</td>\n",
              "      <td>...</td>\n",
              "      <td>...</td>\n",
              "      <td>...</td>\n",
              "      <td>...</td>\n",
              "      <td>...</td>\n",
              "      <td>...</td>\n",
              "    </tr>\n",
              "    <tr>\n",
              "      <th>946</th>\n",
              "      <td>0.43750</td>\n",
              "      <td>0.454545</td>\n",
              "      <td>0.216652</td>\n",
              "      <td>0.153325</td>\n",
              "      <td>0.7750</td>\n",
              "      <td>0.464286</td>\n",
              "      <td>5.0</td>\n",
              "    </tr>\n",
              "    <tr>\n",
              "      <th>947</th>\n",
              "      <td>0.15625</td>\n",
              "      <td>0.181818</td>\n",
              "      <td>0.104745</td>\n",
              "      <td>0.076355</td>\n",
              "      <td>0.4000</td>\n",
              "      <td>0.178571</td>\n",
              "      <td>4.0</td>\n",
              "    </tr>\n",
              "    <tr>\n",
              "      <th>948</th>\n",
              "      <td>0.43750</td>\n",
              "      <td>0.454545</td>\n",
              "      <td>0.440466</td>\n",
              "      <td>0.307266</td>\n",
              "      <td>0.5750</td>\n",
              "      <td>0.678571</td>\n",
              "      <td>5.0</td>\n",
              "    </tr>\n",
              "    <tr>\n",
              "      <th>949</th>\n",
              "      <td>0.12500</td>\n",
              "      <td>0.151705</td>\n",
              "      <td>0.104745</td>\n",
              "      <td>0.076355</td>\n",
              "      <td>0.5250</td>\n",
              "      <td>0.178571</td>\n",
              "      <td>5.0</td>\n",
              "    </tr>\n",
              "    <tr>\n",
              "      <th>950</th>\n",
              "      <td>0.12500</td>\n",
              "      <td>0.151705</td>\n",
              "      <td>0.104745</td>\n",
              "      <td>0.153325</td>\n",
              "      <td>0.5250</td>\n",
              "      <td>0.178571</td>\n",
              "      <td>5.0</td>\n",
              "    </tr>\n",
              "  </tbody>\n",
              "</table>\n",
              "<p>951 rows × 7 columns</p>\n",
              "</div>\n",
              "      <button class=\"colab-df-convert\" onclick=\"convertToInteractive('df-c6d5680d-d913-4d57-aca0-651f5d151c9b')\"\n",
              "              title=\"Convert this dataframe to an interactive table.\"\n",
              "              style=\"display:none;\">\n",
              "        \n",
              "  <svg xmlns=\"http://www.w3.org/2000/svg\" height=\"24px\"viewBox=\"0 0 24 24\"\n",
              "       width=\"24px\">\n",
              "    <path d=\"M0 0h24v24H0V0z\" fill=\"none\"/>\n",
              "    <path d=\"M18.56 5.44l.94 2.06.94-2.06 2.06-.94-2.06-.94-.94-2.06-.94 2.06-2.06.94zm-11 1L8.5 8.5l.94-2.06 2.06-.94-2.06-.94L8.5 2.5l-.94 2.06-2.06.94zm10 10l.94 2.06.94-2.06 2.06-.94-2.06-.94-.94-2.06-.94 2.06-2.06.94z\"/><path d=\"M17.41 7.96l-1.37-1.37c-.4-.4-.92-.59-1.43-.59-.52 0-1.04.2-1.43.59L10.3 9.45l-7.72 7.72c-.78.78-.78 2.05 0 2.83L4 21.41c.39.39.9.59 1.41.59.51 0 1.02-.2 1.41-.59l7.78-7.78 2.81-2.81c.8-.78.8-2.07 0-2.86zM5.41 20L4 18.59l7.72-7.72 1.47 1.35L5.41 20z\"/>\n",
              "  </svg>\n",
              "      </button>\n",
              "      \n",
              "  <style>\n",
              "    .colab-df-container {\n",
              "      display:flex;\n",
              "      flex-wrap:wrap;\n",
              "      gap: 12px;\n",
              "    }\n",
              "\n",
              "    .colab-df-convert {\n",
              "      background-color: #E8F0FE;\n",
              "      border: none;\n",
              "      border-radius: 50%;\n",
              "      cursor: pointer;\n",
              "      display: none;\n",
              "      fill: #1967D2;\n",
              "      height: 32px;\n",
              "      padding: 0 0 0 0;\n",
              "      width: 32px;\n",
              "    }\n",
              "\n",
              "    .colab-df-convert:hover {\n",
              "      background-color: #E2EBFA;\n",
              "      box-shadow: 0px 1px 2px rgba(60, 64, 67, 0.3), 0px 1px 3px 1px rgba(60, 64, 67, 0.15);\n",
              "      fill: #174EA6;\n",
              "    }\n",
              "\n",
              "    [theme=dark] .colab-df-convert {\n",
              "      background-color: #3B4455;\n",
              "      fill: #D2E3FC;\n",
              "    }\n",
              "\n",
              "    [theme=dark] .colab-df-convert:hover {\n",
              "      background-color: #434B5C;\n",
              "      box-shadow: 0px 1px 3px 1px rgba(0, 0, 0, 0.15);\n",
              "      filter: drop-shadow(0px 1px 2px rgba(0, 0, 0, 0.3));\n",
              "      fill: #FFFFFF;\n",
              "    }\n",
              "  </style>\n",
              "\n",
              "      <script>\n",
              "        const buttonEl =\n",
              "          document.querySelector('#df-c6d5680d-d913-4d57-aca0-651f5d151c9b button.colab-df-convert');\n",
              "        buttonEl.style.display =\n",
              "          google.colab.kernel.accessAllowed ? 'block' : 'none';\n",
              "\n",
              "        async function convertToInteractive(key) {\n",
              "          const element = document.querySelector('#df-c6d5680d-d913-4d57-aca0-651f5d151c9b');\n",
              "          const dataTable =\n",
              "            await google.colab.kernel.invokeFunction('convertToInteractive',\n",
              "                                                     [key], {});\n",
              "          if (!dataTable) return;\n",
              "\n",
              "          const docLinkHtml = 'Like what you see? Visit the ' +\n",
              "            '<a target=\"_blank\" href=https://colab.research.google.com/notebooks/data_table.ipynb>data table notebook</a>'\n",
              "            + ' to learn more about interactive tables.';\n",
              "          element.innerHTML = '';\n",
              "          dataTable['output_type'] = 'display_data';\n",
              "          await google.colab.output.renderOutput(dataTable, element);\n",
              "          const docLink = document.createElement('div');\n",
              "          docLink.innerHTML = docLinkHtml;\n",
              "          element.appendChild(docLink);\n",
              "        }\n",
              "      </script>\n",
              "    </div>\n",
              "  </div>\n",
              "  "
            ]
          },
          "metadata": {},
          "execution_count": 44
        }
      ]
    },
    {
      "cell_type": "markdown",
      "source": [
        "## Data Pre-Processing"
      ],
      "metadata": {
        "id": "qHsW_N9Ci_E8"
      }
    },
    {
      "cell_type": "markdown",
      "source": [
        "Pada Bagian Preprocessing, saya akan menggunakan Pipeline pada data Train dan data Test"
      ],
      "metadata": {
        "id": "9SDANdjc69R8"
      }
    },
    {
      "cell_type": "code",
      "source": [
        "from sklearn.pipeline import Pipeline\n",
        "from sklearn.compose import ColumnTransformer"
      ],
      "metadata": {
        "id": "8GRoxlC17wNq"
      },
      "execution_count": null,
      "outputs": []
    },
    {
      "cell_type": "markdown",
      "source": [
        "membuat pipeline untuk Numerical Features"
      ],
      "metadata": {
        "id": "3fpV60rx7EFL"
      }
    },
    {
      "cell_type": "code",
      "source": [
        "num_pipeline = Pipeline([\n",
        "        ('outlier', Winsorizer(capping_method='iqr', tail='both', fold=3)),\n",
        "        ('scaler', MinMaxScaler())\n",
        "    ])"
      ],
      "metadata": {
        "id": "gERXkaRz5oT2"
      },
      "execution_count": null,
      "outputs": []
    },
    {
      "cell_type": "code",
      "source": [
        "num_pipeline"
      ],
      "metadata": {
        "colab": {
          "base_uri": "https://localhost:8080/"
        },
        "id": "gnM7DcrE8CwP",
        "outputId": "0ab73c34-2caa-4bba-837f-98634e1e05bc"
      },
      "execution_count": null,
      "outputs": [
        {
          "output_type": "execute_result",
          "data": {
            "text/plain": [
              "Pipeline(steps=[('outlier', Winsorizer(capping_method='iqr', tail='both')),\n",
              "                ('scaler', MinMaxScaler())])"
            ]
          },
          "metadata": {},
          "execution_count": 47
        }
      ]
    },
    {
      "cell_type": "markdown",
      "source": [
        "Mengaplikasikan pipeline pada data Train"
      ],
      "metadata": {
        "id": "u2QKO96X7I-V"
      }
    },
    {
      "cell_type": "code",
      "source": [
        "num_tr = num_pipeline.fit_transform(X_train[['Resolution x',\n",
        " 'Resolution y',\n",
        " 'RAM (MB)',\n",
        " 'Internal storage (GB)',\n",
        " 'Screen size (inches)',\n",
        " 'Rear camera']])\n",
        "num_tr"
      ],
      "metadata": {
        "colab": {
          "base_uri": "https://localhost:8080/"
        },
        "id": "feD0EN9G8Hn8",
        "outputId": "2aa4ab55-9cd0-49bd-cdc3-0bdde5e4e481"
      },
      "execution_count": null,
      "outputs": [
        {
          "output_type": "execute_result",
          "data": {
            "text/plain": [
              "array([[0.25      , 0.27272727, 0.32855864, 0.30726601, 0.575     ,\n",
              "        0.46428571],\n",
              "       [0.25      , 0.31818182, 0.21665175, 0.15332512, 0.6375    ,\n",
              "        0.46428571],\n",
              "       [0.25      , 0.27272727, 0.32855864, 0.30726601, 0.525     ,\n",
              "        0.46428571],\n",
              "       ...,\n",
              "       [0.4375    , 0.45454545, 0.44046553, 0.30726601, 0.575     ,\n",
              "        0.67857143],\n",
              "       [0.125     , 0.15170455, 0.10474485, 0.07635468, 0.525     ,\n",
              "        0.17857143],\n",
              "       [0.125     , 0.15170455, 0.10474485, 0.15332512, 0.525     ,\n",
              "        0.17857143]])"
            ]
          },
          "metadata": {},
          "execution_count": 48
        }
      ]
    },
    {
      "cell_type": "markdown",
      "source": [
        "Membuat pipeline untuk Categorical Features"
      ],
      "metadata": {
        "id": "fWFl4tZ87N2m"
      }
    },
    {
      "cell_type": "code",
      "source": [
        "df_cat['Brand'].unique()"
      ],
      "metadata": {
        "colab": {
          "base_uri": "https://localhost:8080/"
        },
        "id": "vbBtiXCsh-xX",
        "outputId": "623c11a3-3277-4a4f-d94e-71e3e3051b6b"
      },
      "execution_count": null,
      "outputs": [
        {
          "output_type": "execute_result",
          "data": {
            "text/plain": [
              "array(['Others', 'OnePlus', 'Samsung', 'Motorola', 'Google', 'Apple'],\n",
              "      dtype=object)"
            ]
          },
          "metadata": {},
          "execution_count": 49
        }
      ]
    },
    {
      "cell_type": "code",
      "source": [
        "cat_pipeline = Pipeline([\n",
        "        ('ordinal_enc', OrdinalEncoder(categories=[\n",
        "                                                   ['Apple','Samsung','Google','OnePlus', 'Motorola','Others' ]])) \n",
        "    ])\n",
        "\n",
        "cat_1_tr = cat_pipeline.fit_transform(X_train[['Brand']])\n",
        "cat_1_tr"
      ],
      "metadata": {
        "colab": {
          "base_uri": "https://localhost:8080/"
        },
        "id": "YHXm3wkd_XYH",
        "outputId": "a6362059-e213-4450-f2b5-9332cc3f4111"
      },
      "execution_count": null,
      "outputs": [
        {
          "output_type": "execute_result",
          "data": {
            "text/plain": [
              "array([[5.],\n",
              "       [5.],\n",
              "       [5.],\n",
              "       [5.],\n",
              "       [5.],\n",
              "       [5.],\n",
              "       [3.],\n",
              "       [5.],\n",
              "       [5.],\n",
              "       [5.],\n",
              "       [5.],\n",
              "       [1.],\n",
              "       [5.],\n",
              "       [5.],\n",
              "       [5.],\n",
              "       [5.],\n",
              "       [5.],\n",
              "       [5.],\n",
              "       [5.],\n",
              "       [5.],\n",
              "       [5.],\n",
              "       [5.],\n",
              "       [5.],\n",
              "       [5.],\n",
              "       [5.],\n",
              "       [1.],\n",
              "       [5.],\n",
              "       [5.],\n",
              "       [4.],\n",
              "       [1.],\n",
              "       [1.],\n",
              "       [5.],\n",
              "       [1.],\n",
              "       [5.],\n",
              "       [5.],\n",
              "       [5.],\n",
              "       [5.],\n",
              "       [5.],\n",
              "       [5.],\n",
              "       [5.],\n",
              "       [5.],\n",
              "       [5.],\n",
              "       [5.],\n",
              "       [1.],\n",
              "       [5.],\n",
              "       [5.],\n",
              "       [5.],\n",
              "       [5.],\n",
              "       [5.],\n",
              "       [5.],\n",
              "       [5.],\n",
              "       [5.],\n",
              "       [5.],\n",
              "       [5.],\n",
              "       [5.],\n",
              "       [5.],\n",
              "       [5.],\n",
              "       [5.],\n",
              "       [5.],\n",
              "       [5.],\n",
              "       [5.],\n",
              "       [5.],\n",
              "       [5.],\n",
              "       [5.],\n",
              "       [5.],\n",
              "       [5.],\n",
              "       [5.],\n",
              "       [5.],\n",
              "       [5.],\n",
              "       [5.],\n",
              "       [5.],\n",
              "       [5.],\n",
              "       [5.],\n",
              "       [5.],\n",
              "       [5.],\n",
              "       [5.],\n",
              "       [5.],\n",
              "       [5.],\n",
              "       [5.],\n",
              "       [5.],\n",
              "       [5.],\n",
              "       [5.],\n",
              "       [5.],\n",
              "       [5.],\n",
              "       [5.],\n",
              "       [5.],\n",
              "       [5.],\n",
              "       [5.],\n",
              "       [1.],\n",
              "       [5.],\n",
              "       [5.],\n",
              "       [5.],\n",
              "       [5.],\n",
              "       [5.],\n",
              "       [5.],\n",
              "       [5.],\n",
              "       [5.],\n",
              "       [5.],\n",
              "       [5.],\n",
              "       [5.],\n",
              "       [3.],\n",
              "       [1.],\n",
              "       [5.],\n",
              "       [5.],\n",
              "       [5.],\n",
              "       [5.],\n",
              "       [5.],\n",
              "       [5.],\n",
              "       [5.],\n",
              "       [5.],\n",
              "       [5.],\n",
              "       [3.],\n",
              "       [5.],\n",
              "       [5.],\n",
              "       [5.],\n",
              "       [5.],\n",
              "       [5.],\n",
              "       [5.],\n",
              "       [5.],\n",
              "       [5.],\n",
              "       [5.],\n",
              "       [5.],\n",
              "       [5.],\n",
              "       [5.],\n",
              "       [5.],\n",
              "       [5.],\n",
              "       [5.],\n",
              "       [5.],\n",
              "       [5.],\n",
              "       [5.],\n",
              "       [1.],\n",
              "       [5.],\n",
              "       [5.],\n",
              "       [5.],\n",
              "       [5.],\n",
              "       [4.],\n",
              "       [5.],\n",
              "       [4.],\n",
              "       [5.],\n",
              "       [5.],\n",
              "       [5.],\n",
              "       [1.],\n",
              "       [5.],\n",
              "       [5.],\n",
              "       [5.],\n",
              "       [5.],\n",
              "       [1.],\n",
              "       [5.],\n",
              "       [5.],\n",
              "       [5.],\n",
              "       [5.],\n",
              "       [5.],\n",
              "       [5.],\n",
              "       [5.],\n",
              "       [1.],\n",
              "       [5.],\n",
              "       [5.],\n",
              "       [5.],\n",
              "       [5.],\n",
              "       [5.],\n",
              "       [5.],\n",
              "       [5.],\n",
              "       [5.],\n",
              "       [5.],\n",
              "       [5.],\n",
              "       [4.],\n",
              "       [5.],\n",
              "       [5.],\n",
              "       [5.],\n",
              "       [5.],\n",
              "       [5.],\n",
              "       [5.],\n",
              "       [5.],\n",
              "       [5.],\n",
              "       [5.],\n",
              "       [5.],\n",
              "       [2.],\n",
              "       [5.],\n",
              "       [5.],\n",
              "       [5.],\n",
              "       [5.],\n",
              "       [5.],\n",
              "       [4.],\n",
              "       [1.],\n",
              "       [5.],\n",
              "       [5.],\n",
              "       [5.],\n",
              "       [3.],\n",
              "       [1.],\n",
              "       [5.],\n",
              "       [5.],\n",
              "       [5.],\n",
              "       [5.],\n",
              "       [5.],\n",
              "       [4.],\n",
              "       [5.],\n",
              "       [5.],\n",
              "       [5.],\n",
              "       [5.],\n",
              "       [1.],\n",
              "       [5.],\n",
              "       [5.],\n",
              "       [5.],\n",
              "       [5.],\n",
              "       [5.],\n",
              "       [5.],\n",
              "       [5.],\n",
              "       [5.],\n",
              "       [5.],\n",
              "       [5.],\n",
              "       [5.],\n",
              "       [5.],\n",
              "       [1.],\n",
              "       [5.],\n",
              "       [5.],\n",
              "       [5.],\n",
              "       [5.],\n",
              "       [5.],\n",
              "       [5.],\n",
              "       [5.],\n",
              "       [5.],\n",
              "       [5.],\n",
              "       [5.],\n",
              "       [5.],\n",
              "       [5.],\n",
              "       [5.],\n",
              "       [5.],\n",
              "       [1.],\n",
              "       [5.],\n",
              "       [5.],\n",
              "       [1.],\n",
              "       [5.],\n",
              "       [5.],\n",
              "       [0.],\n",
              "       [0.],\n",
              "       [4.],\n",
              "       [5.],\n",
              "       [5.],\n",
              "       [5.],\n",
              "       [5.],\n",
              "       [4.],\n",
              "       [5.],\n",
              "       [5.],\n",
              "       [1.],\n",
              "       [5.],\n",
              "       [5.],\n",
              "       [5.],\n",
              "       [5.],\n",
              "       [5.],\n",
              "       [1.],\n",
              "       [5.],\n",
              "       [1.],\n",
              "       [5.],\n",
              "       [5.],\n",
              "       [1.],\n",
              "       [5.],\n",
              "       [5.],\n",
              "       [4.],\n",
              "       [5.],\n",
              "       [5.],\n",
              "       [5.],\n",
              "       [5.],\n",
              "       [5.],\n",
              "       [5.],\n",
              "       [5.],\n",
              "       [5.],\n",
              "       [5.],\n",
              "       [5.],\n",
              "       [5.],\n",
              "       [5.],\n",
              "       [5.],\n",
              "       [1.],\n",
              "       [5.],\n",
              "       [5.],\n",
              "       [5.],\n",
              "       [5.],\n",
              "       [5.],\n",
              "       [1.],\n",
              "       [5.],\n",
              "       [5.],\n",
              "       [5.],\n",
              "       [5.],\n",
              "       [5.],\n",
              "       [0.],\n",
              "       [5.],\n",
              "       [5.],\n",
              "       [5.],\n",
              "       [5.],\n",
              "       [5.],\n",
              "       [5.],\n",
              "       [5.],\n",
              "       [5.],\n",
              "       [5.],\n",
              "       [5.],\n",
              "       [5.],\n",
              "       [5.],\n",
              "       [5.],\n",
              "       [5.],\n",
              "       [5.],\n",
              "       [5.],\n",
              "       [5.],\n",
              "       [5.],\n",
              "       [5.],\n",
              "       [5.],\n",
              "       [0.],\n",
              "       [5.],\n",
              "       [5.],\n",
              "       [5.],\n",
              "       [5.],\n",
              "       [5.],\n",
              "       [5.],\n",
              "       [1.],\n",
              "       [1.],\n",
              "       [5.],\n",
              "       [5.],\n",
              "       [5.],\n",
              "       [5.],\n",
              "       [5.],\n",
              "       [5.],\n",
              "       [5.],\n",
              "       [5.],\n",
              "       [5.],\n",
              "       [5.],\n",
              "       [1.],\n",
              "       [5.],\n",
              "       [5.],\n",
              "       [5.],\n",
              "       [5.],\n",
              "       [5.],\n",
              "       [4.],\n",
              "       [5.],\n",
              "       [5.],\n",
              "       [5.],\n",
              "       [4.],\n",
              "       [5.],\n",
              "       [5.],\n",
              "       [5.],\n",
              "       [5.],\n",
              "       [5.],\n",
              "       [5.],\n",
              "       [5.],\n",
              "       [5.],\n",
              "       [5.],\n",
              "       [5.],\n",
              "       [5.],\n",
              "       [1.],\n",
              "       [5.],\n",
              "       [5.],\n",
              "       [5.],\n",
              "       [5.],\n",
              "       [5.],\n",
              "       [5.],\n",
              "       [4.],\n",
              "       [3.],\n",
              "       [0.],\n",
              "       [5.],\n",
              "       [5.],\n",
              "       [5.],\n",
              "       [5.],\n",
              "       [1.],\n",
              "       [5.],\n",
              "       [5.],\n",
              "       [5.],\n",
              "       [5.],\n",
              "       [5.],\n",
              "       [5.],\n",
              "       [5.],\n",
              "       [5.],\n",
              "       [5.],\n",
              "       [5.],\n",
              "       [5.],\n",
              "       [5.],\n",
              "       [5.],\n",
              "       [5.],\n",
              "       [5.],\n",
              "       [5.],\n",
              "       [1.],\n",
              "       [3.],\n",
              "       [5.],\n",
              "       [5.],\n",
              "       [1.],\n",
              "       [5.],\n",
              "       [5.],\n",
              "       [5.],\n",
              "       [5.],\n",
              "       [5.],\n",
              "       [5.],\n",
              "       [5.],\n",
              "       [5.],\n",
              "       [5.],\n",
              "       [5.],\n",
              "       [5.],\n",
              "       [5.],\n",
              "       [5.],\n",
              "       [5.],\n",
              "       [5.],\n",
              "       [5.],\n",
              "       [5.],\n",
              "       [5.],\n",
              "       [4.],\n",
              "       [5.],\n",
              "       [5.],\n",
              "       [5.],\n",
              "       [1.],\n",
              "       [5.],\n",
              "       [5.],\n",
              "       [5.],\n",
              "       [5.],\n",
              "       [5.],\n",
              "       [5.],\n",
              "       [5.],\n",
              "       [5.],\n",
              "       [5.],\n",
              "       [5.],\n",
              "       [1.],\n",
              "       [5.],\n",
              "       [4.],\n",
              "       [5.],\n",
              "       [5.],\n",
              "       [4.],\n",
              "       [1.],\n",
              "       [5.],\n",
              "       [5.],\n",
              "       [5.],\n",
              "       [1.],\n",
              "       [5.],\n",
              "       [5.],\n",
              "       [5.],\n",
              "       [1.],\n",
              "       [5.],\n",
              "       [5.],\n",
              "       [5.],\n",
              "       [5.],\n",
              "       [5.],\n",
              "       [5.],\n",
              "       [5.],\n",
              "       [5.],\n",
              "       [5.],\n",
              "       [5.],\n",
              "       [5.],\n",
              "       [5.],\n",
              "       [5.],\n",
              "       [5.],\n",
              "       [4.],\n",
              "       [5.],\n",
              "       [5.],\n",
              "       [3.],\n",
              "       [5.],\n",
              "       [5.],\n",
              "       [3.],\n",
              "       [5.],\n",
              "       [5.],\n",
              "       [5.],\n",
              "       [5.],\n",
              "       [5.],\n",
              "       [5.],\n",
              "       [5.],\n",
              "       [5.],\n",
              "       [5.],\n",
              "       [5.],\n",
              "       [5.],\n",
              "       [5.],\n",
              "       [4.],\n",
              "       [5.],\n",
              "       [5.],\n",
              "       [5.],\n",
              "       [5.],\n",
              "       [5.],\n",
              "       [5.],\n",
              "       [5.],\n",
              "       [5.],\n",
              "       [5.],\n",
              "       [5.],\n",
              "       [5.],\n",
              "       [5.],\n",
              "       [5.],\n",
              "       [1.],\n",
              "       [5.],\n",
              "       [5.],\n",
              "       [5.],\n",
              "       [5.],\n",
              "       [5.],\n",
              "       [1.],\n",
              "       [5.],\n",
              "       [4.],\n",
              "       [5.],\n",
              "       [5.],\n",
              "       [5.],\n",
              "       [5.],\n",
              "       [1.],\n",
              "       [5.],\n",
              "       [0.],\n",
              "       [5.],\n",
              "       [5.],\n",
              "       [4.],\n",
              "       [5.],\n",
              "       [5.],\n",
              "       [5.],\n",
              "       [5.],\n",
              "       [5.],\n",
              "       [5.],\n",
              "       [5.],\n",
              "       [2.],\n",
              "       [5.],\n",
              "       [5.],\n",
              "       [5.],\n",
              "       [5.],\n",
              "       [5.],\n",
              "       [5.],\n",
              "       [5.],\n",
              "       [5.],\n",
              "       [5.],\n",
              "       [5.],\n",
              "       [5.],\n",
              "       [5.],\n",
              "       [5.],\n",
              "       [5.],\n",
              "       [1.],\n",
              "       [5.],\n",
              "       [5.],\n",
              "       [5.],\n",
              "       [5.],\n",
              "       [5.],\n",
              "       [5.],\n",
              "       [5.],\n",
              "       [1.],\n",
              "       [5.],\n",
              "       [5.],\n",
              "       [0.],\n",
              "       [2.],\n",
              "       [4.],\n",
              "       [5.],\n",
              "       [5.],\n",
              "       [5.],\n",
              "       [5.],\n",
              "       [5.],\n",
              "       [5.],\n",
              "       [5.],\n",
              "       [5.],\n",
              "       [5.],\n",
              "       [5.],\n",
              "       [5.],\n",
              "       [5.],\n",
              "       [5.],\n",
              "       [5.],\n",
              "       [2.],\n",
              "       [5.],\n",
              "       [5.],\n",
              "       [5.],\n",
              "       [5.],\n",
              "       [5.],\n",
              "       [5.],\n",
              "       [4.],\n",
              "       [5.],\n",
              "       [5.],\n",
              "       [5.],\n",
              "       [0.],\n",
              "       [5.],\n",
              "       [5.],\n",
              "       [5.],\n",
              "       [1.],\n",
              "       [5.],\n",
              "       [5.],\n",
              "       [5.],\n",
              "       [5.],\n",
              "       [5.],\n",
              "       [1.],\n",
              "       [5.],\n",
              "       [1.],\n",
              "       [5.],\n",
              "       [5.],\n",
              "       [1.],\n",
              "       [5.],\n",
              "       [5.],\n",
              "       [5.],\n",
              "       [5.],\n",
              "       [5.],\n",
              "       [5.],\n",
              "       [5.],\n",
              "       [5.],\n",
              "       [5.],\n",
              "       [5.],\n",
              "       [5.],\n",
              "       [5.],\n",
              "       [5.],\n",
              "       [5.],\n",
              "       [5.],\n",
              "       [5.],\n",
              "       [5.],\n",
              "       [5.],\n",
              "       [1.],\n",
              "       [1.],\n",
              "       [5.],\n",
              "       [5.],\n",
              "       [1.],\n",
              "       [5.],\n",
              "       [5.],\n",
              "       [5.],\n",
              "       [5.],\n",
              "       [3.],\n",
              "       [5.],\n",
              "       [5.],\n",
              "       [5.],\n",
              "       [5.],\n",
              "       [5.],\n",
              "       [5.],\n",
              "       [5.],\n",
              "       [4.],\n",
              "       [5.],\n",
              "       [5.],\n",
              "       [5.],\n",
              "       [5.],\n",
              "       [5.],\n",
              "       [5.],\n",
              "       [5.],\n",
              "       [5.],\n",
              "       [5.],\n",
              "       [5.],\n",
              "       [5.],\n",
              "       [5.],\n",
              "       [5.],\n",
              "       [4.],\n",
              "       [5.],\n",
              "       [5.],\n",
              "       [2.],\n",
              "       [5.],\n",
              "       [5.],\n",
              "       [4.],\n",
              "       [5.],\n",
              "       [5.],\n",
              "       [5.],\n",
              "       [1.],\n",
              "       [5.],\n",
              "       [5.],\n",
              "       [5.],\n",
              "       [5.],\n",
              "       [5.],\n",
              "       [5.],\n",
              "       [5.],\n",
              "       [5.],\n",
              "       [5.],\n",
              "       [5.],\n",
              "       [5.],\n",
              "       [5.],\n",
              "       [5.],\n",
              "       [5.],\n",
              "       [5.],\n",
              "       [1.],\n",
              "       [5.],\n",
              "       [5.],\n",
              "       [5.],\n",
              "       [5.],\n",
              "       [5.],\n",
              "       [5.],\n",
              "       [5.],\n",
              "       [5.],\n",
              "       [5.],\n",
              "       [5.],\n",
              "       [5.],\n",
              "       [5.],\n",
              "       [5.],\n",
              "       [5.],\n",
              "       [5.],\n",
              "       [5.],\n",
              "       [5.],\n",
              "       [5.],\n",
              "       [5.],\n",
              "       [5.],\n",
              "       [5.],\n",
              "       [5.],\n",
              "       [5.],\n",
              "       [5.],\n",
              "       [5.],\n",
              "       [5.],\n",
              "       [5.],\n",
              "       [5.],\n",
              "       [0.],\n",
              "       [5.],\n",
              "       [5.],\n",
              "       [5.],\n",
              "       [5.],\n",
              "       [5.],\n",
              "       [5.],\n",
              "       [4.],\n",
              "       [5.],\n",
              "       [5.],\n",
              "       [5.],\n",
              "       [5.],\n",
              "       [5.],\n",
              "       [5.],\n",
              "       [1.],\n",
              "       [5.],\n",
              "       [1.],\n",
              "       [5.],\n",
              "       [5.],\n",
              "       [2.],\n",
              "       [5.],\n",
              "       [5.],\n",
              "       [5.],\n",
              "       [5.],\n",
              "       [5.],\n",
              "       [4.],\n",
              "       [5.],\n",
              "       [5.],\n",
              "       [5.],\n",
              "       [5.],\n",
              "       [5.],\n",
              "       [5.],\n",
              "       [5.],\n",
              "       [5.],\n",
              "       [5.],\n",
              "       [5.],\n",
              "       [5.],\n",
              "       [5.],\n",
              "       [5.],\n",
              "       [5.],\n",
              "       [5.],\n",
              "       [5.],\n",
              "       [5.],\n",
              "       [4.],\n",
              "       [5.],\n",
              "       [5.],\n",
              "       [5.],\n",
              "       [5.],\n",
              "       [5.],\n",
              "       [5.],\n",
              "       [1.],\n",
              "       [5.],\n",
              "       [1.],\n",
              "       [5.],\n",
              "       [5.],\n",
              "       [5.],\n",
              "       [5.],\n",
              "       [5.],\n",
              "       [5.],\n",
              "       [5.],\n",
              "       [5.],\n",
              "       [5.],\n",
              "       [5.],\n",
              "       [5.],\n",
              "       [5.],\n",
              "       [5.],\n",
              "       [5.],\n",
              "       [5.],\n",
              "       [5.],\n",
              "       [5.],\n",
              "       [5.],\n",
              "       [5.],\n",
              "       [5.],\n",
              "       [5.],\n",
              "       [5.],\n",
              "       [5.],\n",
              "       [5.],\n",
              "       [1.],\n",
              "       [1.],\n",
              "       [5.],\n",
              "       [5.],\n",
              "       [5.],\n",
              "       [5.],\n",
              "       [5.],\n",
              "       [1.],\n",
              "       [5.],\n",
              "       [5.],\n",
              "       [5.],\n",
              "       [5.],\n",
              "       [5.],\n",
              "       [5.],\n",
              "       [5.],\n",
              "       [5.],\n",
              "       [5.],\n",
              "       [5.],\n",
              "       [5.],\n",
              "       [1.],\n",
              "       [5.],\n",
              "       [5.],\n",
              "       [5.],\n",
              "       [4.],\n",
              "       [5.],\n",
              "       [5.],\n",
              "       [5.],\n",
              "       [5.],\n",
              "       [5.],\n",
              "       [5.],\n",
              "       [5.],\n",
              "       [5.],\n",
              "       [5.],\n",
              "       [5.],\n",
              "       [5.],\n",
              "       [5.],\n",
              "       [3.],\n",
              "       [5.],\n",
              "       [5.],\n",
              "       [5.],\n",
              "       [5.],\n",
              "       [5.],\n",
              "       [5.],\n",
              "       [5.],\n",
              "       [5.],\n",
              "       [5.],\n",
              "       [1.],\n",
              "       [5.],\n",
              "       [5.],\n",
              "       [0.],\n",
              "       [1.],\n",
              "       [5.],\n",
              "       [5.],\n",
              "       [5.],\n",
              "       [4.],\n",
              "       [5.],\n",
              "       [4.],\n",
              "       [5.],\n",
              "       [5.],\n",
              "       [5.],\n",
              "       [5.],\n",
              "       [1.],\n",
              "       [5.],\n",
              "       [5.],\n",
              "       [5.],\n",
              "       [5.],\n",
              "       [5.],\n",
              "       [5.],\n",
              "       [5.],\n",
              "       [5.],\n",
              "       [5.],\n",
              "       [5.],\n",
              "       [5.],\n",
              "       [5.],\n",
              "       [5.],\n",
              "       [5.],\n",
              "       [5.],\n",
              "       [5.],\n",
              "       [5.],\n",
              "       [5.],\n",
              "       [5.],\n",
              "       [5.],\n",
              "       [5.],\n",
              "       [5.],\n",
              "       [5.],\n",
              "       [1.],\n",
              "       [5.],\n",
              "       [5.],\n",
              "       [1.],\n",
              "       [5.],\n",
              "       [5.],\n",
              "       [5.],\n",
              "       [5.],\n",
              "       [5.],\n",
              "       [5.],\n",
              "       [5.],\n",
              "       [5.],\n",
              "       [5.],\n",
              "       [5.],\n",
              "       [5.],\n",
              "       [5.],\n",
              "       [5.],\n",
              "       [5.],\n",
              "       [5.],\n",
              "       [5.],\n",
              "       [5.],\n",
              "       [5.],\n",
              "       [5.],\n",
              "       [4.],\n",
              "       [5.],\n",
              "       [2.],\n",
              "       [5.],\n",
              "       [5.],\n",
              "       [4.],\n",
              "       [5.],\n",
              "       [5.],\n",
              "       [1.],\n",
              "       [5.],\n",
              "       [5.],\n",
              "       [5.],\n",
              "       [0.],\n",
              "       [5.],\n",
              "       [5.],\n",
              "       [5.],\n",
              "       [1.],\n",
              "       [5.],\n",
              "       [1.],\n",
              "       [5.],\n",
              "       [5.],\n",
              "       [5.],\n",
              "       [5.],\n",
              "       [5.],\n",
              "       [5.],\n",
              "       [5.],\n",
              "       [5.],\n",
              "       [5.],\n",
              "       [5.],\n",
              "       [5.],\n",
              "       [5.],\n",
              "       [5.],\n",
              "       [5.],\n",
              "       [5.],\n",
              "       [5.],\n",
              "       [5.],\n",
              "       [5.],\n",
              "       [5.],\n",
              "       [5.],\n",
              "       [5.],\n",
              "       [5.],\n",
              "       [5.],\n",
              "       [5.],\n",
              "       [5.],\n",
              "       [5.],\n",
              "       [5.],\n",
              "       [1.],\n",
              "       [1.],\n",
              "       [5.],\n",
              "       [5.],\n",
              "       [5.],\n",
              "       [5.],\n",
              "       [5.],\n",
              "       [5.],\n",
              "       [5.],\n",
              "       [5.],\n",
              "       [5.],\n",
              "       [5.],\n",
              "       [5.],\n",
              "       [5.],\n",
              "       [5.],\n",
              "       [1.],\n",
              "       [5.],\n",
              "       [5.],\n",
              "       [5.],\n",
              "       [5.],\n",
              "       [5.],\n",
              "       [5.],\n",
              "       [4.],\n",
              "       [5.],\n",
              "       [5.],\n",
              "       [5.],\n",
              "       [5.],\n",
              "       [5.],\n",
              "       [5.],\n",
              "       [5.],\n",
              "       [5.],\n",
              "       [5.],\n",
              "       [5.],\n",
              "       [5.],\n",
              "       [5.],\n",
              "       [5.],\n",
              "       [5.],\n",
              "       [5.],\n",
              "       [5.],\n",
              "       [5.],\n",
              "       [4.],\n",
              "       [5.],\n",
              "       [5.],\n",
              "       [5.]])"
            ]
          },
          "metadata": {},
          "execution_count": 50
        }
      ]
    },
    {
      "cell_type": "markdown",
      "source": [
        "Membuat pipeline baru yang menghubungkan pipeline numerical dan categorical features"
      ],
      "metadata": {
        "id": "sZ65o-y07Vrk"
      }
    },
    {
      "cell_type": "code",
      "source": [
        "full_pipeline = ColumnTransformer([\n",
        "        (\"num\", num_pipeline, ['Resolution x',\n",
        " 'Resolution y',\n",
        " 'RAM (MB)',\n",
        " 'Internal storage (GB)',\n",
        " 'Screen size (inches)',\n",
        " 'Rear camera']),\n",
        "        (\"cat_ord\", cat_pipeline, ['Brand']),\n",
        "    ])\n",
        "\n",
        "train_tr = full_pipeline.fit_transform(X_train)\n",
        "train_tr"
      ],
      "metadata": {
        "colab": {
          "base_uri": "https://localhost:8080/"
        },
        "id": "5-PydYJtdMPc",
        "outputId": "9f81b918-9f2c-46d2-db50-21b063453cad"
      },
      "execution_count": null,
      "outputs": [
        {
          "output_type": "execute_result",
          "data": {
            "text/plain": [
              "array([[0.25      , 0.27272727, 0.32855864, ..., 0.575     , 0.46428571,\n",
              "        5.        ],\n",
              "       [0.25      , 0.31818182, 0.21665175, ..., 0.6375    , 0.46428571,\n",
              "        5.        ],\n",
              "       [0.25      , 0.27272727, 0.32855864, ..., 0.525     , 0.46428571,\n",
              "        5.        ],\n",
              "       ...,\n",
              "       [0.4375    , 0.45454545, 0.44046553, ..., 0.575     , 0.67857143,\n",
              "        5.        ],\n",
              "       [0.125     , 0.15170455, 0.10474485, ..., 0.525     , 0.17857143,\n",
              "        5.        ],\n",
              "       [0.125     , 0.15170455, 0.10474485, ..., 0.525     , 0.17857143,\n",
              "        5.        ]])"
            ]
          },
          "metadata": {},
          "execution_count": 53
        }
      ]
    },
    {
      "cell_type": "code",
      "source": [
        "train_manual = np.array(df_final_cleaned[[\n",
        " 'Resolution x',\n",
        " 'Resolution y',\n",
        " 'RAM (MB)',\n",
        " 'Internal storage (GB)',\n",
        " 'Screen size (inches)',\n",
        " 'Rear camera',\n",
        " 'Brand']])\n",
        "\n",
        "np.allclose(train_tr, train_manual)"
      ],
      "metadata": {
        "colab": {
          "base_uri": "https://localhost:8080/"
        },
        "id": "Grdx5EaXdi93",
        "outputId": "a504fa99-36fa-4ed2-fc68-304bd2a049a7"
      },
      "execution_count": null,
      "outputs": [
        {
          "output_type": "execute_result",
          "data": {
            "text/plain": [
              "True"
            ]
          },
          "metadata": {},
          "execution_count": 54
        }
      ]
    },
    {
      "cell_type": "code",
      "source": [
        "test_tr = full_pipeline.transform(X_test)\n",
        "test_tr"
      ],
      "metadata": {
        "colab": {
          "base_uri": "https://localhost:8080/"
        },
        "id": "LBZhgrT_wTdM",
        "outputId": "a3af0e56-f83f-48b8-be98-b376a3558ade"
      },
      "execution_count": null,
      "outputs": [
        {
          "output_type": "execute_result",
          "data": {
            "text/plain": [
              "array([[0.15625   , 0.18181818, 0.10474485, ..., 0.35      , 0.17857143,\n",
              "        4.        ],\n",
              "       [0.25      , 0.27272727, 0.32855864, ..., 0.65      , 0.46428571,\n",
              "        5.        ],\n",
              "       [0.4375    , 0.45454545, 0.32855864, ..., 0.525     , 0.57142857,\n",
              "        5.        ],\n",
              "       ...,\n",
              "       [0.25      , 0.27272727, 0.21665175, ..., 0.525     , 0.28571429,\n",
              "        5.        ],\n",
              "       [0.125     , 0.13636364, 0.05013429, ..., 0.275     , 0.17857143,\n",
              "        5.        ],\n",
              "       [0.25      , 0.27272727, 0.21665175, ..., 0.45      , 0.28571429,\n",
              "        5.        ]])"
            ]
          },
          "metadata": {},
          "execution_count": 55
        }
      ]
    },
    {
      "cell_type": "markdown",
      "source": [
        "## Modeling"
      ],
      "metadata": {
        "id": "DcawtUCGxppy"
      }
    },
    {
      "cell_type": "markdown",
      "source": [
        "### Model Definition"
      ],
      "metadata": {
        "id": "XnYxrQU47n4V"
      }
    },
    {
      "cell_type": "code",
      "source": [
        "linreg = LinearRegression()\n",
        "dt = DecisionTreeRegressor()\n",
        "rf = RandomForestRegressor()\n",
        "ridge = Ridge()"
      ],
      "metadata": {
        "id": "ZYRRobByxto4"
      },
      "execution_count": null,
      "outputs": []
    },
    {
      "cell_type": "markdown",
      "source": [
        "### Model Training"
      ],
      "metadata": {
        "id": "eR9nOLY27qEV"
      }
    },
    {
      "cell_type": "code",
      "source": [
        "linreg.fit(train_tr, y_train)"
      ],
      "metadata": {
        "colab": {
          "base_uri": "https://localhost:8080/"
        },
        "id": "LqlR2O1zzlhA",
        "outputId": "a5b5c62a-dba4-42d2-f303-f4369d8fa057"
      },
      "execution_count": null,
      "outputs": [
        {
          "output_type": "execute_result",
          "data": {
            "text/plain": [
              "LinearRegression()"
            ]
          },
          "metadata": {},
          "execution_count": 72
        }
      ]
    },
    {
      "cell_type": "code",
      "source": [
        "dt.fit(train_tr, y_train)"
      ],
      "metadata": {
        "colab": {
          "base_uri": "https://localhost:8080/"
        },
        "id": "Ec7QvTLwzrjm",
        "outputId": "cf38f456-5555-4be9-aa12-9fe0c95c6753"
      },
      "execution_count": null,
      "outputs": [
        {
          "output_type": "execute_result",
          "data": {
            "text/plain": [
              "DecisionTreeRegressor()"
            ]
          },
          "metadata": {},
          "execution_count": 73
        }
      ]
    },
    {
      "cell_type": "code",
      "source": [
        "rf.fit(train_tr, y_train)"
      ],
      "metadata": {
        "colab": {
          "base_uri": "https://localhost:8080/"
        },
        "id": "lMNoOOYQzr1E",
        "outputId": "64755314-3d51-42c7-f0eb-c0b5589097cf"
      },
      "execution_count": null,
      "outputs": [
        {
          "output_type": "execute_result",
          "data": {
            "text/plain": [
              "RandomForestRegressor()"
            ]
          },
          "metadata": {},
          "execution_count": 74
        }
      ]
    },
    {
      "cell_type": "code",
      "source": [
        "ridge.fit(train_tr, y_train)"
      ],
      "metadata": {
        "colab": {
          "base_uri": "https://localhost:8080/"
        },
        "id": "xsw5_F_tzr_3",
        "outputId": "7879db6b-9fa8-4745-96a7-984f4462c886"
      },
      "execution_count": null,
      "outputs": [
        {
          "output_type": "execute_result",
          "data": {
            "text/plain": [
              "Ridge()"
            ]
          },
          "metadata": {},
          "execution_count": 75
        }
      ]
    },
    {
      "cell_type": "markdown",
      "source": [
        "### Model Evaluation"
      ],
      "metadata": {
        "id": "X_cZMrxT7sUv"
      }
    },
    {
      "cell_type": "code",
      "source": [
        "pred_train_lr = linreg.predict(train_tr)\n",
        "pred_test_lr = linreg.predict(test_tr)\n",
        "\n",
        "print(\"=\"*20,\"TRAINING\",\"=\"*20)\n",
        "print(\"Mean absolute error:\",mean_absolute_error(y_train,pred_train_lr))\n",
        "print(\"R2 Score:\",r2_score(y_train,pred_train_lr))\n",
        "print(\"=\"*20,\"TEST\",\"=\"*20)\n",
        "print(\"Mean absolute error:\",mean_absolute_error(y_test,pred_test_lr))\n",
        "print(\"R2 Score:\",r2_score(y_test,pred_test_lr))"
      ],
      "metadata": {
        "colab": {
          "base_uri": "https://localhost:8080/"
        },
        "id": "pIgyAyLMz8Tx",
        "outputId": "90652f7a-df2f-4495-f296-663bbbe3554b"
      },
      "execution_count": null,
      "outputs": [
        {
          "output_type": "stream",
          "name": "stdout",
          "text": [
            "==================== TRAINING ====================\n",
            "Mean absolute error: 4930.126210835882\n",
            "R2 Score: 0.5015140604953181\n",
            "==================== TEST ====================\n",
            "Mean absolute error: 6348.87606701432\n",
            "R2 Score: 0.4002497582980108\n"
          ]
        }
      ]
    },
    {
      "cell_type": "code",
      "source": [
        "pred_train_rf = rf.predict(train_tr)\n",
        "pred_test_rf = rf.predict(test_tr)\n",
        "\n",
        "print(\"=\"*20,\"TRAINING\",\"=\"*20)\n",
        "print(\"Mean absolute error:\",mean_absolute_error(y_train,pred_train_rf))\n",
        "print(\"R2 Score:\",r2_score(y_train,pred_train_rf))\n",
        "print(\"=\"*20,\"TEST\",\"=\"*20)\n",
        "print(\"Mean absolute error:\",mean_absolute_error(y_test,pred_test_rf))\n",
        "print(\"R2 Score:\",r2_score(y_test,pred_test_rf))"
      ],
      "metadata": {
        "colab": {
          "base_uri": "https://localhost:8080/"
        },
        "id": "821FcH_v1EUZ",
        "outputId": "50f34683-55c3-4694-bba1-85294d22e475"
      },
      "execution_count": null,
      "outputs": [
        {
          "output_type": "stream",
          "name": "stdout",
          "text": [
            "==================== TRAINING ====================\n",
            "Mean absolute error: 2150.371676836339\n",
            "R2 Score: 0.8942282114727127\n",
            "==================== TEST ====================\n",
            "Mean absolute error: 5363.000627063274\n",
            "R2 Score: 0.5121337386599983\n"
          ]
        }
      ]
    },
    {
      "cell_type": "code",
      "source": [
        "pred_train_dt = dt.predict(train_tr)\n",
        "pred_test_dt = dt.predict(test_tr)\n",
        "\n",
        "print(\"=\"*20,\"TRAINING\",\"=\"*20)\n",
        "print(\"Mean absolute error:\",mean_absolute_error(y_train,pred_train_dt))\n",
        "print(\"R2 Score:\",r2_score(y_train,pred_train_dt))\n",
        "print(\"=\"*20,\"TEST\",\"=\"*20)\n",
        "print(\"Mean absolute error:\",mean_absolute_error(y_test,pred_test_dt))\n",
        "print(\"R2 Score:\",r2_score(y_test,pred_test_dt))"
      ],
      "metadata": {
        "colab": {
          "base_uri": "https://localhost:8080/"
        },
        "id": "jjteHkWy4-Jb",
        "outputId": "479402c0-6cd4-4265-ae71-81e5a044a0b5"
      },
      "execution_count": null,
      "outputs": [
        {
          "output_type": "stream",
          "name": "stdout",
          "text": [
            "==================== TRAINING ====================\n",
            "Mean absolute error: 1178.008562807096\n",
            "R2 Score: 0.936204457513393\n",
            "==================== TEST ====================\n",
            "Mean absolute error: 6163.215258991417\n",
            "R2 Score: 0.32709087444298024\n"
          ]
        }
      ]
    },
    {
      "cell_type": "code",
      "source": [
        "pred_train_ridge = ridge.predict(train_tr)\n",
        "pred_test_ridge = ridge.predict(test_tr)\n",
        "\n",
        "print(\"=\"*20,\"TRAINING\",\"=\"*20)\n",
        "print(\"Mean absolute error:\",mean_absolute_error(y_train,pred_train_ridge))\n",
        "print(\"R2 Score:\",r2_score(y_train,pred_train_ridge))\n",
        "print(\"=\"*20,\"TEST\",\"=\"*20)\n",
        "print(\"Mean absolute error:\",mean_absolute_error(y_test,pred_test_ridge))\n",
        "print(\"R2 Score:\",r2_score(y_test,pred_test_ridge))\n"
      ],
      "metadata": {
        "id": "SWhKy7BC5OVK",
        "outputId": "86a445e9-8176-4621-fad7-b2801fedf9db",
        "colab": {
          "base_uri": "https://localhost:8080/"
        }
      },
      "execution_count": null,
      "outputs": [
        {
          "output_type": "stream",
          "name": "stdout",
          "text": [
            "==================== TRAINING ====================\n",
            "Mean absolute error: 4888.662632946933\n",
            "R2 Score: 0.5008768540395458\n",
            "==================== TEST ====================\n",
            "Mean absolute error: 6316.929223356675\n",
            "R2 Score: 0.3971579424848053\n"
          ]
        }
      ]
    },
    {
      "cell_type": "markdown",
      "source": [
        "Setelah dilakukan Evaluasi terhadap 4 model, dapat dilihat dari hasil Model Evaluation nilai Test yang paling baik dimiliki oleh Random Forest dan nilai Train yang paling baik adalah Decision Tree. Namun jika saya bandingkan kedua model tersebut, model Decision Tree lebih overfit daripada Random Forest, sehingga saya akan mengambil Random Forest sebagai Best Model. "
      ],
      "metadata": {
        "id": "wLrHUd898kXt"
      }
    },
    {
      "cell_type": "markdown",
      "source": [
        "### Hyperparameter Tuning For Best Model (Random Forest)"
      ],
      "metadata": {
        "id": "7v87MGoD7vKY"
      }
    },
    {
      "cell_type": "markdown",
      "source": [
        "Mencari parameter yang terbaik untuk Random Forest dengan menggunakan Random Search"
      ],
      "metadata": {
        "id": "LYim1zwg9O9W"
      }
    },
    {
      "cell_type": "markdown",
      "source": [
        "Inisiasi 5 parameter dan juga nilai dari kelima parameter tersebut secara acak"
      ],
      "metadata": {
        "id": "tUoVWHle9i6N"
      }
    },
    {
      "cell_type": "code",
      "source": [
        "n_estimators = [5,20,50,100] # number of trees in the random forest\n",
        "max_features = ['auto', 'sqrt'] # number of features in consideration at every split\n",
        "max_depth = [int(x) for x in np.linspace(10, 120, num = 12)] # maximum number of levels allowed in each decision tree\n",
        "min_samples_split = [2, 6, 10] # minimum sample number to split a node\n",
        "min_samples_leaf = [1, 3, 4] # minimum sample number that can be stored in a leaf node\n",
        "bootstrap = [True, False] # method used to sample data points\n",
        "\n",
        "random_grid = {'n_estimators': n_estimators,\n",
        "\n",
        "'max_features': max_features,\n",
        "\n",
        "'max_depth': max_depth,\n",
        "\n",
        "'min_samples_split': min_samples_split,\n",
        "\n",
        "'min_samples_leaf': min_samples_leaf,\n",
        "\n",
        "'bootstrap': bootstrap}"
      ],
      "metadata": {
        "id": "mGkklqSgEXKX"
      },
      "execution_count": null,
      "outputs": []
    },
    {
      "cell_type": "code",
      "source": [
        "from sklearn.model_selection import RandomizedSearchCV"
      ],
      "metadata": {
        "id": "VT4OTnsOGVso"
      },
      "execution_count": null,
      "outputs": []
    },
    {
      "cell_type": "markdown",
      "source": [
        "Melakukan Random Search"
      ],
      "metadata": {
        "id": "qTiAIg8s9po2"
      }
    },
    {
      "cell_type": "code",
      "source": [
        "rf_random = RandomizedSearchCV(estimator = rf,param_distributions = random_grid,\n",
        "               n_iter = 100, cv = 5, verbose=2, random_state=35, n_jobs = -1)"
      ],
      "metadata": {
        "id": "7U80Vp_eFT73"
      },
      "execution_count": null,
      "outputs": []
    },
    {
      "cell_type": "code",
      "source": [
        "rf_random.fit(train_tr, y_train)"
      ],
      "metadata": {
        "colab": {
          "base_uri": "https://localhost:8080/"
        },
        "id": "LZWi7UcBGYfL",
        "outputId": "2a4600b2-702e-4b42-9eeb-0be76e0f1181"
      },
      "execution_count": null,
      "outputs": [
        {
          "output_type": "stream",
          "name": "stdout",
          "text": [
            "Fitting 5 folds for each of 100 candidates, totalling 500 fits\n"
          ]
        },
        {
          "output_type": "execute_result",
          "data": {
            "text/plain": [
              "RandomizedSearchCV(cv=5, estimator=RandomForestRegressor(), n_iter=100,\n",
              "                   n_jobs=-1,\n",
              "                   param_distributions={'bootstrap': [True, False],\n",
              "                                        'max_depth': [10, 20, 30, 40, 50, 60,\n",
              "                                                      70, 80, 90, 100, 110,\n",
              "                                                      120],\n",
              "                                        'max_features': ['auto', 'sqrt'],\n",
              "                                        'min_samples_leaf': [1, 3, 4],\n",
              "                                        'min_samples_split': [2, 6, 10],\n",
              "                                        'n_estimators': [5, 20, 50, 100]},\n",
              "                   random_state=35, verbose=2)"
            ]
          },
          "metadata": {},
          "execution_count": 83
        }
      ]
    },
    {
      "cell_type": "markdown",
      "source": [
        "Melihat 5 parameter terbaik untuk dipakai"
      ],
      "metadata": {
        "id": "Vq7DYQ-b-F0Z"
      }
    },
    {
      "cell_type": "code",
      "source": [
        "rf_random.best_params_"
      ],
      "metadata": {
        "colab": {
          "base_uri": "https://localhost:8080/"
        },
        "id": "XMMZDNKTGnUx",
        "outputId": "febbda6b-688d-434c-e293-00285009cbcb"
      },
      "execution_count": null,
      "outputs": [
        {
          "output_type": "execute_result",
          "data": {
            "text/plain": [
              "{'n_estimators': 50,\n",
              " 'min_samples_split': 6,\n",
              " 'min_samples_leaf': 3,\n",
              " 'max_features': 'sqrt',\n",
              " 'max_depth': 60,\n",
              " 'bootstrap': False}"
            ]
          },
          "metadata": {},
          "execution_count": 84
        }
      ]
    },
    {
      "cell_type": "code",
      "source": [
        "rf_random.best_score_"
      ],
      "metadata": {
        "colab": {
          "base_uri": "https://localhost:8080/"
        },
        "id": "lhgXKhhfGwX2",
        "outputId": "87f2387a-793e-492a-e52c-970d43814ed1"
      },
      "execution_count": null,
      "outputs": [
        {
          "output_type": "execute_result",
          "data": {
            "text/plain": [
              "0.5614828162006849"
            ]
          },
          "metadata": {},
          "execution_count": 85
        }
      ]
    },
    {
      "cell_type": "markdown",
      "source": [
        "Setelah dilakukan tuning, dapat dilihat bahwa setelah dilakukan tuning, nilai R2 Score naik walaupun tidak tertinggi, namun dapat kita tarik kesimpulan bahwa model tuning sudah dapat mengurangi nilai MAE"
      ],
      "metadata": {
        "id": "fJ4UfEtz9ziJ"
      }
    },
    {
      "cell_type": "markdown",
      "source": [
        "### Model Evaluation For Best Model (Random Forest)"
      ],
      "metadata": {
        "id": "T5rYoBm874-A"
      }
    },
    {
      "cell_type": "code",
      "source": [
        "best_model = rf_random.best_estimator_"
      ],
      "metadata": {
        "id": "FZoMgsJ_G3km"
      },
      "execution_count": null,
      "outputs": []
    },
    {
      "cell_type": "code",
      "source": [
        "pred_train_rf_tuning = best_model.predict(train_tr)\n",
        "pred_test_rf_tuning = best_model.predict(test_tr)\n",
        "\n",
        "print(\"=\"*20,\"TRAINING SETELAH TUNING\",\"=\"*20)\n",
        "print(\"Mean absolute error:\",mean_absolute_error(y_train,pred_train_rf_tuning))\n",
        "print(\"R2 Score:\",r2_score(y_train,pred_train_rf_tuning))\n",
        "\n",
        "print(\"=\"*20,\"TEST SETELAH TUNING\",\"=\"*20)\n",
        "print(\"Mean absolute error:\",mean_absolute_error(y_test,pred_test_rf_tuning))\n",
        "print(\"R2 Score:\",r2_score(y_test,pred_test_rf_tuning))\n"
      ],
      "metadata": {
        "colab": {
          "base_uri": "https://localhost:8080/"
        },
        "id": "G5BNOJ7OG5mx",
        "outputId": "96cd09e1-b6da-43d0-90d5-8f04a0a86186"
      },
      "execution_count": null,
      "outputs": [
        {
          "output_type": "stream",
          "name": "stdout",
          "text": [
            "==================== TRAINING SETELAH TUNING ====================\n",
            "Mean absolute error: 3092.5168119703267\n",
            "R2 Score: 0.7720567871041633\n",
            "==================== TEST SETELAH TUNING ====================\n",
            "Mean absolute error: 5174.782129614358\n",
            "R2 Score: 0.5254300583396534\n"
          ]
        }
      ]
    },
    {
      "cell_type": "markdown",
      "source": [
        "Dapat kita lihat pada test Model Tuning, nilai MAE sudah cukup turun dan nilai R2 Score naik, sehingga selisih harga kesalahan prediksi dengan harga asli juga semakin berkurang"
      ],
      "metadata": {
        "id": "lYdtKkQo-M_F"
      }
    },
    {
      "cell_type": "markdown",
      "source": [
        "pipeline untuk model inference"
      ],
      "metadata": {
        "id": "2iukbBwQ7-3H"
      }
    },
    {
      "cell_type": "code",
      "source": [
        "all_process = Pipeline([\n",
        "    (\"preprocess\", full_pipeline),\n",
        "    (\"classification\", best_model)\n",
        "])\n",
        "\n",
        "all_process.fit(X_train, y_train)\n",
        "hasil = all_process.predict(X_test)\n",
        "\n",
        "print(\"Mean absolute error:\",mean_absolute_error(y_test,hasil))\n",
        "print(\"R2 Score:\",r2_score(y_test,hasil))"
      ],
      "metadata": {
        "colab": {
          "base_uri": "https://localhost:8080/"
        },
        "id": "kRTbvT-XHeWW",
        "outputId": "408b1e2f-fa9e-4d55-c41c-bdccf635c436"
      },
      "execution_count": null,
      "outputs": [
        {
          "output_type": "stream",
          "name": "stdout",
          "text": [
            "Mean absolute error: 5231.033060992789\n",
            "R2 Score: 0.5170448364218101\n"
          ]
        }
      ]
    },
    {
      "cell_type": "markdown",
      "source": [
        "## Model Inference"
      ],
      "metadata": {
        "id": "3GrJeqxH8BuN"
      }
    },
    {
      "cell_type": "markdown",
      "source": [
        "Mengimplementasikan model yang sudah dibuat terhadap data baru diluar Train Set dan Test Set"
      ],
      "metadata": {
        "id": "1SJNBZHD-bUc"
      }
    },
    {
      "cell_type": "code",
      "source": [
        "df_inf"
      ],
      "metadata": {
        "id": "umWl5mS3HjAy",
        "colab": {
          "base_uri": "https://localhost:8080/",
          "height": 191
        },
        "outputId": "2beb245b-1f16-448b-f33f-584dbaca4c27"
      },
      "execution_count": null,
      "outputs": [
        {
          "output_type": "execute_result",
          "data": {
            "text/plain": [
              "      Brand  Battery capacity (mAh)  Screen size (inches) Touchscreen  \\\n",
              "965  Others                    4000                  5.50         Yes   \n",
              "657  Others                    2400                  5.45         Yes   \n",
              "\n",
              "     Resolution x  Resolution y  Processor  RAM (MB)  Internal storage (GB)  \\\n",
              "965           720          1280          4      2000                   16.0   \n",
              "657           480           960          4      1000                    8.0   \n",
              "\n",
              "     Rear camera  Front camera Operating system Wi-Fi Bluetooth  GPS  \\\n",
              "965          8.0           5.0          Android   Yes       Yes  Yes   \n",
              "657          5.0           2.0          Android   Yes       Yes  Yes   \n",
              "\n",
              "     Number of SIMs   3G 4G/ LTE  Price  \n",
              "965               2  Yes     Yes   4499  \n",
              "657               2  Yes     Yes   3751  "
            ],
            "text/html": [
              "\n",
              "  <div id=\"df-00fcb55a-c959-470f-9dab-6456cc38c5ed\">\n",
              "    <div class=\"colab-df-container\">\n",
              "      <div>\n",
              "<style scoped>\n",
              "    .dataframe tbody tr th:only-of-type {\n",
              "        vertical-align: middle;\n",
              "    }\n",
              "\n",
              "    .dataframe tbody tr th {\n",
              "        vertical-align: top;\n",
              "    }\n",
              "\n",
              "    .dataframe thead th {\n",
              "        text-align: right;\n",
              "    }\n",
              "</style>\n",
              "<table border=\"1\" class=\"dataframe\">\n",
              "  <thead>\n",
              "    <tr style=\"text-align: right;\">\n",
              "      <th></th>\n",
              "      <th>Brand</th>\n",
              "      <th>Battery capacity (mAh)</th>\n",
              "      <th>Screen size (inches)</th>\n",
              "      <th>Touchscreen</th>\n",
              "      <th>Resolution x</th>\n",
              "      <th>Resolution y</th>\n",
              "      <th>Processor</th>\n",
              "      <th>RAM (MB)</th>\n",
              "      <th>Internal storage (GB)</th>\n",
              "      <th>Rear camera</th>\n",
              "      <th>Front camera</th>\n",
              "      <th>Operating system</th>\n",
              "      <th>Wi-Fi</th>\n",
              "      <th>Bluetooth</th>\n",
              "      <th>GPS</th>\n",
              "      <th>Number of SIMs</th>\n",
              "      <th>3G</th>\n",
              "      <th>4G/ LTE</th>\n",
              "      <th>Price</th>\n",
              "    </tr>\n",
              "  </thead>\n",
              "  <tbody>\n",
              "    <tr>\n",
              "      <th>965</th>\n",
              "      <td>Others</td>\n",
              "      <td>4000</td>\n",
              "      <td>5.50</td>\n",
              "      <td>Yes</td>\n",
              "      <td>720</td>\n",
              "      <td>1280</td>\n",
              "      <td>4</td>\n",
              "      <td>2000</td>\n",
              "      <td>16.0</td>\n",
              "      <td>8.0</td>\n",
              "      <td>5.0</td>\n",
              "      <td>Android</td>\n",
              "      <td>Yes</td>\n",
              "      <td>Yes</td>\n",
              "      <td>Yes</td>\n",
              "      <td>2</td>\n",
              "      <td>Yes</td>\n",
              "      <td>Yes</td>\n",
              "      <td>4499</td>\n",
              "    </tr>\n",
              "    <tr>\n",
              "      <th>657</th>\n",
              "      <td>Others</td>\n",
              "      <td>2400</td>\n",
              "      <td>5.45</td>\n",
              "      <td>Yes</td>\n",
              "      <td>480</td>\n",
              "      <td>960</td>\n",
              "      <td>4</td>\n",
              "      <td>1000</td>\n",
              "      <td>8.0</td>\n",
              "      <td>5.0</td>\n",
              "      <td>2.0</td>\n",
              "      <td>Android</td>\n",
              "      <td>Yes</td>\n",
              "      <td>Yes</td>\n",
              "      <td>Yes</td>\n",
              "      <td>2</td>\n",
              "      <td>Yes</td>\n",
              "      <td>Yes</td>\n",
              "      <td>3751</td>\n",
              "    </tr>\n",
              "  </tbody>\n",
              "</table>\n",
              "</div>\n",
              "      <button class=\"colab-df-convert\" onclick=\"convertToInteractive('df-00fcb55a-c959-470f-9dab-6456cc38c5ed')\"\n",
              "              title=\"Convert this dataframe to an interactive table.\"\n",
              "              style=\"display:none;\">\n",
              "        \n",
              "  <svg xmlns=\"http://www.w3.org/2000/svg\" height=\"24px\"viewBox=\"0 0 24 24\"\n",
              "       width=\"24px\">\n",
              "    <path d=\"M0 0h24v24H0V0z\" fill=\"none\"/>\n",
              "    <path d=\"M18.56 5.44l.94 2.06.94-2.06 2.06-.94-2.06-.94-.94-2.06-.94 2.06-2.06.94zm-11 1L8.5 8.5l.94-2.06 2.06-.94-2.06-.94L8.5 2.5l-.94 2.06-2.06.94zm10 10l.94 2.06.94-2.06 2.06-.94-2.06-.94-.94-2.06-.94 2.06-2.06.94z\"/><path d=\"M17.41 7.96l-1.37-1.37c-.4-.4-.92-.59-1.43-.59-.52 0-1.04.2-1.43.59L10.3 9.45l-7.72 7.72c-.78.78-.78 2.05 0 2.83L4 21.41c.39.39.9.59 1.41.59.51 0 1.02-.2 1.41-.59l7.78-7.78 2.81-2.81c.8-.78.8-2.07 0-2.86zM5.41 20L4 18.59l7.72-7.72 1.47 1.35L5.41 20z\"/>\n",
              "  </svg>\n",
              "      </button>\n",
              "      \n",
              "  <style>\n",
              "    .colab-df-container {\n",
              "      display:flex;\n",
              "      flex-wrap:wrap;\n",
              "      gap: 12px;\n",
              "    }\n",
              "\n",
              "    .colab-df-convert {\n",
              "      background-color: #E8F0FE;\n",
              "      border: none;\n",
              "      border-radius: 50%;\n",
              "      cursor: pointer;\n",
              "      display: none;\n",
              "      fill: #1967D2;\n",
              "      height: 32px;\n",
              "      padding: 0 0 0 0;\n",
              "      width: 32px;\n",
              "    }\n",
              "\n",
              "    .colab-df-convert:hover {\n",
              "      background-color: #E2EBFA;\n",
              "      box-shadow: 0px 1px 2px rgba(60, 64, 67, 0.3), 0px 1px 3px 1px rgba(60, 64, 67, 0.15);\n",
              "      fill: #174EA6;\n",
              "    }\n",
              "\n",
              "    [theme=dark] .colab-df-convert {\n",
              "      background-color: #3B4455;\n",
              "      fill: #D2E3FC;\n",
              "    }\n",
              "\n",
              "    [theme=dark] .colab-df-convert:hover {\n",
              "      background-color: #434B5C;\n",
              "      box-shadow: 0px 1px 3px 1px rgba(0, 0, 0, 0.15);\n",
              "      filter: drop-shadow(0px 1px 2px rgba(0, 0, 0, 0.3));\n",
              "      fill: #FFFFFF;\n",
              "    }\n",
              "  </style>\n",
              "\n",
              "      <script>\n",
              "        const buttonEl =\n",
              "          document.querySelector('#df-00fcb55a-c959-470f-9dab-6456cc38c5ed button.colab-df-convert');\n",
              "        buttonEl.style.display =\n",
              "          google.colab.kernel.accessAllowed ? 'block' : 'none';\n",
              "\n",
              "        async function convertToInteractive(key) {\n",
              "          const element = document.querySelector('#df-00fcb55a-c959-470f-9dab-6456cc38c5ed');\n",
              "          const dataTable =\n",
              "            await google.colab.kernel.invokeFunction('convertToInteractive',\n",
              "                                                     [key], {});\n",
              "          if (!dataTable) return;\n",
              "\n",
              "          const docLinkHtml = 'Like what you see? Visit the ' +\n",
              "            '<a target=\"_blank\" href=https://colab.research.google.com/notebooks/data_table.ipynb>data table notebook</a>'\n",
              "            + ' to learn more about interactive tables.';\n",
              "          element.innerHTML = '';\n",
              "          dataTable['output_type'] = 'display_data';\n",
              "          await google.colab.output.renderOutput(dataTable, element);\n",
              "          const docLink = document.createElement('div');\n",
              "          docLink.innerHTML = docLinkHtml;\n",
              "          element.appendChild(docLink);\n",
              "        }\n",
              "      </script>\n",
              "    </div>\n",
              "  </div>\n",
              "  "
            ]
          },
          "metadata": {},
          "execution_count": 89
        }
      ]
    },
    {
      "cell_type": "code",
      "source": [
        "all_process.predict(df_inf)"
      ],
      "metadata": {
        "colab": {
          "base_uri": "https://localhost:8080/"
        },
        "id": "u2475W9yP92z",
        "outputId": "b2acf111-b1e8-4d05-a159-d87226d627cd"
      },
      "execution_count": null,
      "outputs": [
        {
          "output_type": "execute_result",
          "data": {
            "text/plain": [
              "array([5434.13329237, 4429.14541033])"
            ]
          },
          "metadata": {},
          "execution_count": 90
        }
      ]
    },
    {
      "cell_type": "markdown",
      "source": [
        "Sesuai dengan nilai MAE pada evaluasi model, selisih harga prediksi dan harga asli terdapat perbedaan yang cukup jauh"
      ],
      "metadata": {
        "id": "i5YyKDI7-jO2"
      }
    },
    {
      "cell_type": "markdown",
      "source": [
        "--------------------------------------------------------------------------------"
      ],
      "metadata": {
        "id": "nAwIlRzg-u7M"
      }
    },
    {
      "cell_type": "code",
      "source": [
        "# save model\n",
        "pickle.dump(all_process, open(\"phoneprice_pred.pkl\", \"wb\"))"
      ],
      "metadata": {
        "id": "adR5h-g7QDEw"
      },
      "execution_count": null,
      "outputs": []
    },
    {
      "cell_type": "code",
      "source": [
        "set_config(display='diagram')"
      ],
      "metadata": {
        "id": "hRqOPbH8QJEa"
      },
      "execution_count": null,
      "outputs": []
    },
    {
      "cell_type": "code",
      "source": [
        "all_process"
      ],
      "metadata": {
        "colab": {
          "base_uri": "https://localhost:8080/",
          "height": 313
        },
        "id": "Crv75Y-3QK0S",
        "outputId": "deb91362-1a6e-4a02-ae10-b38b8207a7e1"
      },
      "execution_count": null,
      "outputs": [
        {
          "output_type": "execute_result",
          "data": {
            "text/plain": [
              "Pipeline(steps=[('preprocess',\n",
              "                 ColumnTransformer(transformers=[('num',\n",
              "                                                  Pipeline(steps=[('outlier',\n",
              "                                                                   Winsorizer(capping_method='iqr',\n",
              "                                                                              tail='both')),\n",
              "                                                                  ('scaler',\n",
              "                                                                   MinMaxScaler())]),\n",
              "                                                  ['Resolution x',\n",
              "                                                   'Resolution y', 'RAM (MB)',\n",
              "                                                   'Internal storage (GB)',\n",
              "                                                   'Screen size (inches)',\n",
              "                                                   'Rear camera']),\n",
              "                                                 ('cat_ord',\n",
              "                                                  Pipeline(steps=[('ordinal_enc',\n",
              "                                                                   OrdinalEncoder(categories=[['Apple',\n",
              "                                                                                               'Samsung',\n",
              "                                                                                               'Google',\n",
              "                                                                                               'OnePlus',\n",
              "                                                                                               'Motorola',\n",
              "                                                                                               'Others']]))]),\n",
              "                                                  ['Brand'])])),\n",
              "                ('classification',\n",
              "                 RandomForestRegressor(bootstrap=False, max_depth=60,\n",
              "                                       max_features='sqrt', min_samples_leaf=3,\n",
              "                                       min_samples_split=6, n_estimators=50))])"
            ],
            "text/html": [
              "<style>#sk-6e406715-bd75-44ca-8372-e84759880c6e {color: black;background-color: white;}#sk-6e406715-bd75-44ca-8372-e84759880c6e pre{padding: 0;}#sk-6e406715-bd75-44ca-8372-e84759880c6e div.sk-toggleable {background-color: white;}#sk-6e406715-bd75-44ca-8372-e84759880c6e label.sk-toggleable__label {cursor: pointer;display: block;width: 100%;margin-bottom: 0;padding: 0.3em;box-sizing: border-box;text-align: center;}#sk-6e406715-bd75-44ca-8372-e84759880c6e label.sk-toggleable__label-arrow:before {content: \"▸\";float: left;margin-right: 0.25em;color: #696969;}#sk-6e406715-bd75-44ca-8372-e84759880c6e label.sk-toggleable__label-arrow:hover:before {color: black;}#sk-6e406715-bd75-44ca-8372-e84759880c6e div.sk-estimator:hover label.sk-toggleable__label-arrow:before {color: black;}#sk-6e406715-bd75-44ca-8372-e84759880c6e div.sk-toggleable__content {max-height: 0;max-width: 0;overflow: hidden;text-align: left;background-color: #f0f8ff;}#sk-6e406715-bd75-44ca-8372-e84759880c6e div.sk-toggleable__content pre {margin: 0.2em;color: black;border-radius: 0.25em;background-color: #f0f8ff;}#sk-6e406715-bd75-44ca-8372-e84759880c6e input.sk-toggleable__control:checked~div.sk-toggleable__content {max-height: 200px;max-width: 100%;overflow: auto;}#sk-6e406715-bd75-44ca-8372-e84759880c6e input.sk-toggleable__control:checked~label.sk-toggleable__label-arrow:before {content: \"▾\";}#sk-6e406715-bd75-44ca-8372-e84759880c6e div.sk-estimator input.sk-toggleable__control:checked~label.sk-toggleable__label {background-color: #d4ebff;}#sk-6e406715-bd75-44ca-8372-e84759880c6e div.sk-label input.sk-toggleable__control:checked~label.sk-toggleable__label {background-color: #d4ebff;}#sk-6e406715-bd75-44ca-8372-e84759880c6e input.sk-hidden--visually {border: 0;clip: rect(1px 1px 1px 1px);clip: rect(1px, 1px, 1px, 1px);height: 1px;margin: -1px;overflow: hidden;padding: 0;position: absolute;width: 1px;}#sk-6e406715-bd75-44ca-8372-e84759880c6e div.sk-estimator {font-family: monospace;background-color: #f0f8ff;border: 1px dotted black;border-radius: 0.25em;box-sizing: border-box;margin-bottom: 0.5em;}#sk-6e406715-bd75-44ca-8372-e84759880c6e div.sk-estimator:hover {background-color: #d4ebff;}#sk-6e406715-bd75-44ca-8372-e84759880c6e div.sk-parallel-item::after {content: \"\";width: 100%;border-bottom: 1px solid gray;flex-grow: 1;}#sk-6e406715-bd75-44ca-8372-e84759880c6e div.sk-label:hover label.sk-toggleable__label {background-color: #d4ebff;}#sk-6e406715-bd75-44ca-8372-e84759880c6e div.sk-serial::before {content: \"\";position: absolute;border-left: 1px solid gray;box-sizing: border-box;top: 2em;bottom: 0;left: 50%;}#sk-6e406715-bd75-44ca-8372-e84759880c6e div.sk-serial {display: flex;flex-direction: column;align-items: center;background-color: white;padding-right: 0.2em;padding-left: 0.2em;}#sk-6e406715-bd75-44ca-8372-e84759880c6e div.sk-item {z-index: 1;}#sk-6e406715-bd75-44ca-8372-e84759880c6e div.sk-parallel {display: flex;align-items: stretch;justify-content: center;background-color: white;}#sk-6e406715-bd75-44ca-8372-e84759880c6e div.sk-parallel::before {content: \"\";position: absolute;border-left: 1px solid gray;box-sizing: border-box;top: 2em;bottom: 0;left: 50%;}#sk-6e406715-bd75-44ca-8372-e84759880c6e div.sk-parallel-item {display: flex;flex-direction: column;position: relative;background-color: white;}#sk-6e406715-bd75-44ca-8372-e84759880c6e div.sk-parallel-item:first-child::after {align-self: flex-end;width: 50%;}#sk-6e406715-bd75-44ca-8372-e84759880c6e div.sk-parallel-item:last-child::after {align-self: flex-start;width: 50%;}#sk-6e406715-bd75-44ca-8372-e84759880c6e div.sk-parallel-item:only-child::after {width: 0;}#sk-6e406715-bd75-44ca-8372-e84759880c6e div.sk-dashed-wrapped {border: 1px dashed gray;margin: 0 0.4em 0.5em 0.4em;box-sizing: border-box;padding-bottom: 0.4em;background-color: white;position: relative;}#sk-6e406715-bd75-44ca-8372-e84759880c6e div.sk-label label {font-family: monospace;font-weight: bold;background-color: white;display: inline-block;line-height: 1.2em;}#sk-6e406715-bd75-44ca-8372-e84759880c6e div.sk-label-container {position: relative;z-index: 2;text-align: center;}#sk-6e406715-bd75-44ca-8372-e84759880c6e div.sk-container {/* jupyter's `normalize.less` sets `[hidden] { display: none; }` but bootstrap.min.css set `[hidden] { display: none !important; }` so we also need the `!important` here to be able to override the default hidden behavior on the sphinx rendered scikit-learn.org. See: https://github.com/scikit-learn/scikit-learn/issues/21755 */display: inline-block !important;position: relative;}#sk-6e406715-bd75-44ca-8372-e84759880c6e div.sk-text-repr-fallback {display: none;}</style><div id=\"sk-6e406715-bd75-44ca-8372-e84759880c6e\" class=\"sk-top-container\"><div class=\"sk-text-repr-fallback\"><pre>Pipeline(steps=[(&#x27;preprocess&#x27;,\n",
              "                 ColumnTransformer(transformers=[(&#x27;num&#x27;,\n",
              "                                                  Pipeline(steps=[(&#x27;outlier&#x27;,\n",
              "                                                                   Winsorizer(capping_method=&#x27;iqr&#x27;,\n",
              "                                                                              tail=&#x27;both&#x27;)),\n",
              "                                                                  (&#x27;scaler&#x27;,\n",
              "                                                                   MinMaxScaler())]),\n",
              "                                                  [&#x27;Resolution x&#x27;,\n",
              "                                                   &#x27;Resolution y&#x27;, &#x27;RAM (MB)&#x27;,\n",
              "                                                   &#x27;Internal storage (GB)&#x27;,\n",
              "                                                   &#x27;Screen size (inches)&#x27;,\n",
              "                                                   &#x27;Rear camera&#x27;]),\n",
              "                                                 (&#x27;cat_ord&#x27;,\n",
              "                                                  Pipeline(steps=[(&#x27;ordinal_enc&#x27;,\n",
              "                                                                   OrdinalEncoder(categories=[[&#x27;Apple&#x27;,\n",
              "                                                                                               &#x27;Samsung&#x27;,\n",
              "                                                                                               &#x27;Google&#x27;,\n",
              "                                                                                               &#x27;OnePlus&#x27;,\n",
              "                                                                                               &#x27;Motorola&#x27;,\n",
              "                                                                                               &#x27;Others&#x27;]]))]),\n",
              "                                                  [&#x27;Brand&#x27;])])),\n",
              "                (&#x27;classification&#x27;,\n",
              "                 RandomForestRegressor(bootstrap=False, max_depth=60,\n",
              "                                       max_features=&#x27;sqrt&#x27;, min_samples_leaf=3,\n",
              "                                       min_samples_split=6, n_estimators=50))])</pre><b>Please rerun this cell to show the HTML repr or trust the notebook.</b></div><div class=\"sk-container\" hidden><div class=\"sk-item sk-dashed-wrapped\"><div class=\"sk-label-container\"><div class=\"sk-label sk-toggleable\"><input class=\"sk-toggleable__control sk-hidden--visually\" id=\"29cfff94-c739-4d8d-a940-5606d1c83cd7\" type=\"checkbox\" ><label for=\"29cfff94-c739-4d8d-a940-5606d1c83cd7\" class=\"sk-toggleable__label sk-toggleable__label-arrow\">Pipeline</label><div class=\"sk-toggleable__content\"><pre>Pipeline(steps=[(&#x27;preprocess&#x27;,\n",
              "                 ColumnTransformer(transformers=[(&#x27;num&#x27;,\n",
              "                                                  Pipeline(steps=[(&#x27;outlier&#x27;,\n",
              "                                                                   Winsorizer(capping_method=&#x27;iqr&#x27;,\n",
              "                                                                              tail=&#x27;both&#x27;)),\n",
              "                                                                  (&#x27;scaler&#x27;,\n",
              "                                                                   MinMaxScaler())]),\n",
              "                                                  [&#x27;Resolution x&#x27;,\n",
              "                                                   &#x27;Resolution y&#x27;, &#x27;RAM (MB)&#x27;,\n",
              "                                                   &#x27;Internal storage (GB)&#x27;,\n",
              "                                                   &#x27;Screen size (inches)&#x27;,\n",
              "                                                   &#x27;Rear camera&#x27;]),\n",
              "                                                 (&#x27;cat_ord&#x27;,\n",
              "                                                  Pipeline(steps=[(&#x27;ordinal_enc&#x27;,\n",
              "                                                                   OrdinalEncoder(categories=[[&#x27;Apple&#x27;,\n",
              "                                                                                               &#x27;Samsung&#x27;,\n",
              "                                                                                               &#x27;Google&#x27;,\n",
              "                                                                                               &#x27;OnePlus&#x27;,\n",
              "                                                                                               &#x27;Motorola&#x27;,\n",
              "                                                                                               &#x27;Others&#x27;]]))]),\n",
              "                                                  [&#x27;Brand&#x27;])])),\n",
              "                (&#x27;classification&#x27;,\n",
              "                 RandomForestRegressor(bootstrap=False, max_depth=60,\n",
              "                                       max_features=&#x27;sqrt&#x27;, min_samples_leaf=3,\n",
              "                                       min_samples_split=6, n_estimators=50))])</pre></div></div></div><div class=\"sk-serial\"><div class=\"sk-item sk-dashed-wrapped\"><div class=\"sk-label-container\"><div class=\"sk-label sk-toggleable\"><input class=\"sk-toggleable__control sk-hidden--visually\" id=\"83602c0d-76ae-4e16-9348-c2511834d655\" type=\"checkbox\" ><label for=\"83602c0d-76ae-4e16-9348-c2511834d655\" class=\"sk-toggleable__label sk-toggleable__label-arrow\">preprocess: ColumnTransformer</label><div class=\"sk-toggleable__content\"><pre>ColumnTransformer(transformers=[(&#x27;num&#x27;,\n",
              "                                 Pipeline(steps=[(&#x27;outlier&#x27;,\n",
              "                                                  Winsorizer(capping_method=&#x27;iqr&#x27;,\n",
              "                                                             tail=&#x27;both&#x27;)),\n",
              "                                                 (&#x27;scaler&#x27;, MinMaxScaler())]),\n",
              "                                 [&#x27;Resolution x&#x27;, &#x27;Resolution y&#x27;, &#x27;RAM (MB)&#x27;,\n",
              "                                  &#x27;Internal storage (GB)&#x27;,\n",
              "                                  &#x27;Screen size (inches)&#x27;, &#x27;Rear camera&#x27;]),\n",
              "                                (&#x27;cat_ord&#x27;,\n",
              "                                 Pipeline(steps=[(&#x27;ordinal_enc&#x27;,\n",
              "                                                  OrdinalEncoder(categories=[[&#x27;Apple&#x27;,\n",
              "                                                                              &#x27;Samsung&#x27;,\n",
              "                                                                              &#x27;Google&#x27;,\n",
              "                                                                              &#x27;OnePlus&#x27;,\n",
              "                                                                              &#x27;Motorola&#x27;,\n",
              "                                                                              &#x27;Others&#x27;]]))]),\n",
              "                                 [&#x27;Brand&#x27;])])</pre></div></div></div><div class=\"sk-parallel\"><div class=\"sk-parallel-item\"><div class=\"sk-item\"><div class=\"sk-label-container\"><div class=\"sk-label sk-toggleable\"><input class=\"sk-toggleable__control sk-hidden--visually\" id=\"9987215a-bb10-4462-b649-da9c760f4a16\" type=\"checkbox\" ><label for=\"9987215a-bb10-4462-b649-da9c760f4a16\" class=\"sk-toggleable__label sk-toggleable__label-arrow\">num</label><div class=\"sk-toggleable__content\"><pre>[&#x27;Resolution x&#x27;, &#x27;Resolution y&#x27;, &#x27;RAM (MB)&#x27;, &#x27;Internal storage (GB)&#x27;, &#x27;Screen size (inches)&#x27;, &#x27;Rear camera&#x27;]</pre></div></div></div><div class=\"sk-serial\"><div class=\"sk-item\"><div class=\"sk-serial\"><div class=\"sk-item\"><div class=\"sk-estimator sk-toggleable\"><input class=\"sk-toggleable__control sk-hidden--visually\" id=\"03732d74-c002-46a3-84b4-95532b8b7d84\" type=\"checkbox\" ><label for=\"03732d74-c002-46a3-84b4-95532b8b7d84\" class=\"sk-toggleable__label sk-toggleable__label-arrow\">Winsorizer</label><div class=\"sk-toggleable__content\"><pre>Winsorizer(capping_method=&#x27;iqr&#x27;, tail=&#x27;both&#x27;)</pre></div></div></div><div class=\"sk-item\"><div class=\"sk-estimator sk-toggleable\"><input class=\"sk-toggleable__control sk-hidden--visually\" id=\"64c2209b-1791-4bc7-92ca-4c82b124855b\" type=\"checkbox\" ><label for=\"64c2209b-1791-4bc7-92ca-4c82b124855b\" class=\"sk-toggleable__label sk-toggleable__label-arrow\">MinMaxScaler</label><div class=\"sk-toggleable__content\"><pre>MinMaxScaler()</pre></div></div></div></div></div></div></div></div><div class=\"sk-parallel-item\"><div class=\"sk-item\"><div class=\"sk-label-container\"><div class=\"sk-label sk-toggleable\"><input class=\"sk-toggleable__control sk-hidden--visually\" id=\"25bc6a61-9643-4310-b675-eb6c5e83c18c\" type=\"checkbox\" ><label for=\"25bc6a61-9643-4310-b675-eb6c5e83c18c\" class=\"sk-toggleable__label sk-toggleable__label-arrow\">cat_ord</label><div class=\"sk-toggleable__content\"><pre>[&#x27;Brand&#x27;]</pre></div></div></div><div class=\"sk-serial\"><div class=\"sk-item\"><div class=\"sk-serial\"><div class=\"sk-item\"><div class=\"sk-estimator sk-toggleable\"><input class=\"sk-toggleable__control sk-hidden--visually\" id=\"cb73e376-0008-4a78-b80d-9f87037178cb\" type=\"checkbox\" ><label for=\"cb73e376-0008-4a78-b80d-9f87037178cb\" class=\"sk-toggleable__label sk-toggleable__label-arrow\">OrdinalEncoder</label><div class=\"sk-toggleable__content\"><pre>OrdinalEncoder(categories=[[&#x27;Apple&#x27;, &#x27;Samsung&#x27;, &#x27;Google&#x27;, &#x27;OnePlus&#x27;, &#x27;Motorola&#x27;,\n",
              "                            &#x27;Others&#x27;]])</pre></div></div></div></div></div></div></div></div></div></div><div class=\"sk-item\"><div class=\"sk-estimator sk-toggleable\"><input class=\"sk-toggleable__control sk-hidden--visually\" id=\"9e7e7bc6-71ea-44a6-8300-0c3dda65d0dd\" type=\"checkbox\" ><label for=\"9e7e7bc6-71ea-44a6-8300-0c3dda65d0dd\" class=\"sk-toggleable__label sk-toggleable__label-arrow\">RandomForestRegressor</label><div class=\"sk-toggleable__content\"><pre>RandomForestRegressor(bootstrap=False, max_depth=60, max_features=&#x27;sqrt&#x27;,\n",
              "                      min_samples_leaf=3, min_samples_split=6, n_estimators=50)</pre></div></div></div></div></div></div></div>"
            ]
          },
          "metadata": {},
          "execution_count": 93
        }
      ]
    },
    {
      "cell_type": "markdown",
      "source": [
        "## Model Saving"
      ],
      "metadata": {
        "id": "WlY1clcS8FJf"
      }
    },
    {
      "cell_type": "code",
      "source": [
        "# STEP 1 - Import saved model\n",
        "model = pickle.load(open(\"phoneprice_pred.pkl\", \"rb\"))"
      ],
      "metadata": {
        "id": "MjW6s95uQPzw"
      },
      "execution_count": null,
      "outputs": []
    },
    {
      "cell_type": "markdown",
      "source": [
        "## Model Inference for Deployment"
      ],
      "metadata": {
        "id": "-seQaPl_8Ma-"
      }
    },
    {
      "cell_type": "code",
      "source": [
        "clas = model.predict(df_inf).tolist()[0]\n",
        "clas"
      ],
      "metadata": {
        "colab": {
          "base_uri": "https://localhost:8080/"
        },
        "id": "W_q9HsmbQn-t",
        "outputId": "554bed40-6e37-4f50-a56c-cf48841ec8fa"
      },
      "execution_count": 98,
      "outputs": [
        {
          "output_type": "execute_result",
          "data": {
            "text/plain": [
              "5434.133292371192"
            ]
          },
          "metadata": {},
          "execution_count": 98
        }
      ]
    },
    {
      "cell_type": "markdown",
      "source": [
        "## Conclusion"
      ],
      "metadata": {
        "id": "k3T9TkAD8WAt"
      }
    },
    {
      "cell_type": "markdown",
      "source": [
        "Pada Project kali ini, saya melakukan Model Regresi untuk memprediksi harga Handphone sesuai dengan spesifikasi yang dimilikinya. Setelah dilakukan Feature Selection, dapat disimpulkan bahwa spesifikasi yang paling mempengaruhi harga sebuah Handphone adalah Resolusi layar, RAM, memori penyimpanan, ukuran layar, kamera belakang, dan Brand yang memproduksinya.\n",
        "\n",
        "Jika dilihat dari hasil eksplorasi data:\n",
        "- produksi Handphone pada zaman sekarang rata-rata sudah harus memiliki fitur WI-Fi, Bluetooth, GPS, dan mampu akses sinyal 3G maupun 4G. Selain itu Handphone zaman sekarang biasanya adalah Handphone dengan layar sentuh\n",
        "- Brand OnePlus merupakan Brand dengan kamera belakang yang paling bagus. Namun semua Brand rata-rata sudah memiliki kualitas kamera diatas 10 megapixel\n",
        "- Terbukti bahwa memori penyimpanan mempengaruhi harga, karena semakin besar memori penyimpanan, maka biasanya harga Handphone akan semakin mahal.\n",
        "\n",
        "Jika kita lihat dari hasil pembuatan 4 model regresi yaitu Linear Regression, Decision Tree, Random Forest, dan Ridge; model yang terbaik adalah Random Forest, namun sebenarnya dari hasil keempat model tersebut, baik R2 Score maupun MAE nya belum memiliki nilai yang baik, dimana nilai R2 Score yang terbaik hanya mencapai sekitar 0,51 yang artinya model belum dapat memprediksi harga Handphone dengan cukup akurat. Ditinjau dari nilai MAE, model memiliki tingkat selisih salah memprediksi harga sebesar 5363 rupees keatas atau kebawah. Selisih harga tersebut masih bisa dibilang cukup jauh untuk rentang harga sebuah Handphone. \n",
        "\n",
        "Setelah dilakukan Tuning, Model Random Forest hanya mengalami sedikit peningkatan pada nilai R2 dan sedikit pengurangan pada nilai MAE, dimana model kini memiliki tingkat selisih salah memprediksi harga sebesar 5174, dimana pengurangan selisih tersebut tidak terlalu jauh dari model baseline.\n",
        "\n",
        "Dapat disimpulkan juga bahwa model yang telah dibuat semuanya ovefit, dimana Data Train memiliki nilai yang jauh lebih besar daripada nilai pada Data Test.\n",
        "\n"
      ],
      "metadata": {
        "id": "lhAA3zwi8YID"
      }
    }
  ]
}